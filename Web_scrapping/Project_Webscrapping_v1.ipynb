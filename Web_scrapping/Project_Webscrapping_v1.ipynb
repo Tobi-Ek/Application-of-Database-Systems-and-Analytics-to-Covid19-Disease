{
 "cells": [
  {
   "cell_type": "code",
   "execution_count": 1,
   "metadata": {},
   "outputs": [],
   "source": [
    "\n",
    "#Webscrapping applied to worldometers to extract Covid-19 data\n",
    "\n",
    "#import libraries\n",
    "import requests\n",
    "import lxml.html as lh\n",
    "import pandas as pd\n",
    "\n",
    "#Scrape table Cells\n",
    "url='https://www.worldometers.info/coronavirus/'\n",
    "\n",
    "#Create a handle, page, to handle the contents of the website\n",
    "page = requests.get(url)\n",
    "\n",
    "#Store the contents of the website under container\n",
    "container = lh.fromstring(page.content)\n",
    "\n",
    "#Parse data that are stored between <tr>..</tr> of HTML\n",
    "tr_elements = container.xpath('//tr')\n"
   ]
  },
  {
   "cell_type": "code",
   "execution_count": 2,
   "metadata": {},
   "outputs": [
    {
     "data": {
      "text/plain": [
       "[13, 13, 13, 13, 13, 13, 13, 13, 13, 13, 13, 13]"
      ]
     },
     "execution_count": 2,
     "metadata": {},
     "output_type": "execute_result"
    }
   ],
   "source": [
    "#Check the length of the first 12 rows\n",
    "[len(T) for T in tr_elements[:12]]\n"
   ]
  },
  {
   "cell_type": "code",
   "execution_count": 3,
   "metadata": {},
   "outputs": [
    {
     "data": {
      "text/plain": [
       "'1,239,124'"
      ]
     },
     "execution_count": 3,
     "metadata": {},
     "output_type": "execute_result"
    }
   ],
   "source": [
    "#Testing\n",
    "tr_elements[1][1].text"
   ]
  },
  {
   "cell_type": "code",
   "execution_count": 4,
   "metadata": {},
   "outputs": [
    {
     "name": "stdout",
     "output_type": "stream",
     "text": [
      "1:\"Country,Other\"\n",
      "2:\"TotalCases\"\n",
      "3:\"NewCases\"\n",
      "4:\"TotalDeaths\"\n",
      "5:\"NewDeaths\"\n",
      "6:\"TotalRecovered\"\n",
      "7:\"ActiveCases\"\n",
      "8:\"Serious,Critical\"\n",
      "9:\"Tot Cases/1M pop\"\n",
      "10:\"Deaths/1M pop\"\n",
      "11:\"TotalTests\"\n",
      "12:\"Tests/\n",
      "1M pop\n",
      "\"\n",
      "13:\"Continent\"\n"
     ]
    }
   ],
   "source": [
    "tr_elements = container.xpath('//tr')\n",
    "\n",
    "#Create empty list\n",
    "col=[]\n",
    "i=0\n",
    "\n",
    "#For each row, store each first element (header) and an empty list\n",
    "for x in tr_elements[0]:\n",
    "    i+=1\n",
    "    name=x.text_content()\n",
    "    print (('%d:\"%s\"')%(i,name))\n",
    "    col.append((name,[]))\n",
    "\t\n",
    "#Since the first row is the header, data is stored on the second row onwards\n",
    "for j in range(1,len(tr_elements)):\n",
    "    #Td is our j'th row\n",
    "    Td=tr_elements[j]\n",
    "    \n",
    "    #If row is not of size 10, the //tr data is not from our table \n",
    "    #if len(Td)!=10:\n",
    "        #break\n",
    "    \n",
    "    #i is the index of our column\n",
    "    i=0\n",
    "    \n",
    "    #Iterate through each element of the row\n",
    "    for x in Td.iterchildren():\n",
    "        data=x.text_content()\n",
    "        #Append the data to the empty list of the i'th column\n",
    "        col[i][1].append(data)\n",
    "        #Increment i for the next column\n",
    "        i+=1\n",
    "\n",
    "#Testing to check content of col\n",
    "#print(col)\n"
   ]
  },
  {
   "cell_type": "code",
   "execution_count": 5,
   "metadata": {},
   "outputs": [
    {
     "data": {
      "text/plain": [
       "[461, 461, 461, 461, 461, 461, 461, 461, 461, 461, 461, 461, 461]"
      ]
     },
     "execution_count": 5,
     "metadata": {},
     "output_type": "execute_result"
    }
   ],
   "source": [
    "#To check length of the column are the same \n",
    "[len(C) for (title,C) in col]\n"
   ]
  },
  {
   "cell_type": "code",
   "execution_count": 6,
   "metadata": {},
   "outputs": [
    {
     "data": {
      "text/html": [
       "<div>\n",
       "<style scoped>\n",
       "    .dataframe tbody tr th:only-of-type {\n",
       "        vertical-align: middle;\n",
       "    }\n",
       "\n",
       "    .dataframe tbody tr th {\n",
       "        vertical-align: top;\n",
       "    }\n",
       "\n",
       "    .dataframe thead th {\n",
       "        text-align: right;\n",
       "    }\n",
       "</style>\n",
       "<table border=\"1\" class=\"dataframe\">\n",
       "  <thead>\n",
       "    <tr style=\"text-align: right;\">\n",
       "      <th></th>\n",
       "      <th>Country,Other</th>\n",
       "      <th>TotalCases</th>\n",
       "      <th>NewCases</th>\n",
       "      <th>TotalDeaths</th>\n",
       "      <th>NewDeaths</th>\n",
       "      <th>TotalRecovered</th>\n",
       "      <th>ActiveCases</th>\n",
       "      <th>Serious,Critical</th>\n",
       "      <th>Tot Cases/1M pop</th>\n",
       "      <th>Deaths/1M pop</th>\n",
       "      <th>TotalTests</th>\n",
       "      <th>Tests/\\n1M pop\\n</th>\n",
       "      <th>Continent</th>\n",
       "    </tr>\n",
       "  </thead>\n",
       "  <tbody>\n",
       "    <tr>\n",
       "      <th>0</th>\n",
       "      <td>\\nNorth America\\n</td>\n",
       "      <td>1,239,124</td>\n",
       "      <td>+14,169</td>\n",
       "      <td>72,830</td>\n",
       "      <td>+1,050</td>\n",
       "      <td>202,001</td>\n",
       "      <td>964,293</td>\n",
       "      <td>17,724</td>\n",
       "      <td></td>\n",
       "      <td></td>\n",
       "      <td></td>\n",
       "      <td></td>\n",
       "      <td>North America</td>\n",
       "    </tr>\n",
       "    <tr>\n",
       "      <th>1</th>\n",
       "      <td>\\nEurope\\n</td>\n",
       "      <td>1,422,787</td>\n",
       "      <td>+24,097</td>\n",
       "      <td>139,163</td>\n",
       "      <td>+1,754</td>\n",
       "      <td>530,673</td>\n",
       "      <td>752,951</td>\n",
       "      <td>17,785</td>\n",
       "      <td></td>\n",
       "      <td></td>\n",
       "      <td></td>\n",
       "      <td></td>\n",
       "      <td>Europe</td>\n",
       "    </tr>\n",
       "    <tr>\n",
       "      <th>2</th>\n",
       "      <td>\\nAsia\\n</td>\n",
       "      <td>542,707</td>\n",
       "      <td>+8,866</td>\n",
       "      <td>19,203</td>\n",
       "      <td>+242</td>\n",
       "      <td>282,936</td>\n",
       "      <td>240,568</td>\n",
       "      <td>5,500</td>\n",
       "      <td></td>\n",
       "      <td></td>\n",
       "      <td></td>\n",
       "      <td></td>\n",
       "      <td>Asia</td>\n",
       "    </tr>\n",
       "    <tr>\n",
       "      <th>3</th>\n",
       "      <td>\\nSouth America\\n</td>\n",
       "      <td>193,304</td>\n",
       "      <td>+3,205</td>\n",
       "      <td>9,833</td>\n",
       "      <td>+353</td>\n",
       "      <td>64,716</td>\n",
       "      <td>118,755</td>\n",
       "      <td>9,849</td>\n",
       "      <td></td>\n",
       "      <td></td>\n",
       "      <td></td>\n",
       "      <td></td>\n",
       "      <td>South America</td>\n",
       "    </tr>\n",
       "    <tr>\n",
       "      <th>4</th>\n",
       "      <td>\\nOceania\\n</td>\n",
       "      <td>8,370</td>\n",
       "      <td>+22</td>\n",
       "      <td>113</td>\n",
       "      <td>+1</td>\n",
       "      <td>7,134</td>\n",
       "      <td>1,123</td>\n",
       "      <td>30</td>\n",
       "      <td></td>\n",
       "      <td></td>\n",
       "      <td></td>\n",
       "      <td></td>\n",
       "      <td>Australia/Oceania</td>\n",
       "    </tr>\n",
       "  </tbody>\n",
       "</table>\n",
       "</div>"
      ],
      "text/plain": [
       "       Country,Other TotalCases NewCases TotalDeaths NewDeaths TotalRecovered  \\\n",
       "0  \\nNorth America\\n  1,239,124  +14,169      72,830    +1,050        202,001   \n",
       "1         \\nEurope\\n  1,422,787  +24,097     139,163    +1,754        530,673   \n",
       "2           \\nAsia\\n    542,707   +8,866      19,203      +242        282,936   \n",
       "3  \\nSouth America\\n    193,304   +3,205       9,833      +353         64,716   \n",
       "4        \\nOceania\\n      8,370      +22         113        +1          7,134   \n",
       "\n",
       "  ActiveCases Serious,Critical Tot Cases/1M pop Deaths/1M pop TotalTests  \\\n",
       "0     964,293           17,724                                             \n",
       "1     752,951           17,785                                             \n",
       "2     240,568            5,500                                             \n",
       "3     118,755            9,849                                             \n",
       "4       1,123               30                                             \n",
       "\n",
       "  Tests/\\n1M pop\\n          Continent  \n",
       "0                       North America  \n",
       "1                              Europe  \n",
       "2                                Asia  \n",
       "3                       South America  \n",
       "4                   Australia/Oceania  "
      ]
     },
     "execution_count": 6,
     "metadata": {},
     "output_type": "execute_result"
    }
   ],
   "source": [
    "#Create the Dataframe\n",
    "Dict={title:column for (title,column) in col}\n",
    "df=pd.DataFrame(Dict)\n",
    "\n",
    "#Show sample of the dataframe\n",
    "df.head()\n"
   ]
  },
  {
   "cell_type": "code",
   "execution_count": null,
   "metadata": {},
   "outputs": [],
   "source": [
    "#Export Dataframe to CSV file\n",
    "df.to_csv (r'C:\\Users\\presi\\export_dataframe2.csv', index = False, header=True)"
   ]
  },
  {
   "cell_type": "code",
   "execution_count": 7,
   "metadata": {},
   "outputs": [
    {
     "name": "stdout",
     "output_type": "stream",
     "text": [
      "WEBSCRAPPING CODE IS SUCCESSFUL!\n"
     ]
    }
   ],
   "source": [
    "#WEBSCRAPPING CODE IS SUCCESSFUL\n",
    "print(\"WEBSCRAPPING CODE IS SUCCESSFUL!\")"
   ]
  },
  {
   "cell_type": "code",
   "execution_count": null,
   "metadata": {},
   "outputs": [],
   "source": [
    "#Webscrapping Part2\n",
    "\n",
    "#API Call will be used for this part of webscrapping\n",
    "\n",
    "#import the needed library\n",
    "import pandas as pd\n",
    "from sodapy import Socrata\n",
    "\n",
    "# Unauthenticated client only works with public data sets. \n",
    "# Hence, the reason we specicified 'None' to replace inputs for application token, and no username or password:\n",
    "client = Socrata(\"data.medicare.gov\", None)\n",
    "\n",
    "\n",
    "# To extract First 2000 results, returned as JSON from API / converted to Python list of dictionaries by sodapy.\n",
    "hospdata = client.get(\"xubh-q36u\", limit=2000)\n",
    "\n",
    "# Convert to pandas DataFrame\n",
    "hospital_data = pd.DataFrame.from_records(hospdata)\n",
    "\n",
    "#Show sample of the dataframe\n",
    "hospital_data.head()"
   ]
  },
  {
   "cell_type": "code",
   "execution_count": 12,
   "metadata": {},
   "outputs": [],
   "source": [
    "#Export Dataframe to CSV file\n",
    "hospital_data.to_csv (r'C:\\Users\\presi\\export_hospital_data.csv', index = False, header=True)"
   ]
  },
  {
   "cell_type": "code",
   "execution_count": null,
   "metadata": {},
   "outputs": [],
   "source": []
  }
 ],
 "metadata": {
  "kernelspec": {
   "display_name": "Python 3",
   "language": "python",
   "name": "python3"
  },
  "language_info": {
   "codemirror_mode": {
    "name": "ipython",
    "version": 3
   },
   "file_extension": ".py",
   "mimetype": "text/x-python",
   "name": "python",
   "nbconvert_exporter": "python",
   "pygments_lexer": "ipython3",
   "version": "3.7.4"
  }
 },
 "nbformat": 4,
 "nbformat_minor": 2
}
