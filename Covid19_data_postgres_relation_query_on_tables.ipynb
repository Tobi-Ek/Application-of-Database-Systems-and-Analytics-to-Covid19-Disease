{
 "cells": [
  {
   "cell_type": "raw",
   "metadata": {},
   "source": [
    "We have used sql relational query here.\n",
    "Step 1)We have loaded all four files which are from the different sources like CSV,XML,WEB SCRAPPING.\n",
    "Step 2)We have done some preprocessing on each data .We have found relevant column in each dataset.\n",
    "Step 3)We have create three tables respectively for each dataset based on relevant columns.\n",
    "Step 4)We have stored all the data of relevant column in each tables respectively.\n",
    "Step 4)We have used INNER JOIN to fetch important features from each table w.r.t primary key COUNTRY and foreign key country.\n",
    "Step 5)Store the final result of all files in new csv files.\n",
    "Step 6)Load the twitter from table and store it a new CSV file for visulization purpose seperately."
   ]
  },
  {
   "cell_type": "code",
   "execution_count": 4,
   "metadata": {},
   "outputs": [],
   "source": [
    "import numpy as np\n",
    "import pandas as pd\n",
    "import matplotlib.pyplot as plt\n",
    "import sklearn as sns\n",
    "import DbConnection as dbcon\n",
    "%matplotlib inline"
   ]
  },
  {
   "cell_type": "code",
   "execution_count": 5,
   "metadata": {},
   "outputs": [
    {
     "data": {
      "text/plain": [
       "['COVID19_open_line_list.csv',\n",
       " '.DS_Store',\n",
       " 'covid_19_data.csv',\n",
       " 'covid19_xmlToCSV.csv',\n",
       " 'covid19_date_stats_n.csv',\n",
       " 'COVID19_open_line_list_file_cleaned.csv',\n",
       " 'web_data_covid19.csv',\n",
       " 'Cleaned_Tweet_data.csv',\n",
       " 'twitter_data_1.txt']"
      ]
     },
     "execution_count": 5,
     "metadata": {},
     "output_type": "execute_result"
    }
   ],
   "source": [
    "import os\n",
    "os.listdir('data')"
   ]
  },
  {
   "cell_type": "code",
   "execution_count": 6,
   "metadata": {},
   "outputs": [
    {
     "data": {
      "text/html": [
       "<div>\n",
       "<style scoped>\n",
       "    .dataframe tbody tr th:only-of-type {\n",
       "        vertical-align: middle;\n",
       "    }\n",
       "\n",
       "    .dataframe tbody tr th {\n",
       "        vertical-align: top;\n",
       "    }\n",
       "\n",
       "    .dataframe thead th {\n",
       "        text-align: right;\n",
       "    }\n",
       "</style>\n",
       "<table border=\"1\" class=\"dataframe\">\n",
       "  <thead>\n",
       "    <tr style=\"text-align: right;\">\n",
       "      <th></th>\n",
       "      <th>ID</th>\n",
       "      <th>city</th>\n",
       "      <th>province</th>\n",
       "      <th>country</th>\n",
       "      <th>wuhan(0)_not_wuhan(1)</th>\n",
       "      <th>latitude</th>\n",
       "      <th>longitude</th>\n",
       "      <th>geo_resolution</th>\n",
       "      <th>date_confirmation</th>\n",
       "      <th>source</th>\n",
       "      <th>admin2</th>\n",
       "      <th>admin1</th>\n",
       "      <th>country_new</th>\n",
       "      <th>admin_id</th>\n",
       "    </tr>\n",
       "  </thead>\n",
       "  <tbody>\n",
       "    <tr>\n",
       "      <th>0</th>\n",
       "      <td>1.0</td>\n",
       "      <td>Chaohu City, Hefei City</td>\n",
       "      <td>Anhui</td>\n",
       "      <td>China</td>\n",
       "      <td>1.0</td>\n",
       "      <td>31.646960</td>\n",
       "      <td>117.716600</td>\n",
       "      <td>admin3</td>\n",
       "      <td>22.01.2020</td>\n",
       "      <td>http://ah.people.com.cn/GB/n2/2020/0127/c35826...</td>\n",
       "      <td>Hefei City</td>\n",
       "      <td>Anhui</td>\n",
       "      <td>China</td>\n",
       "      <td>340181</td>\n",
       "    </tr>\n",
       "    <tr>\n",
       "      <th>1</th>\n",
       "      <td>2.0</td>\n",
       "      <td>Baohe District, Hefei City</td>\n",
       "      <td>Anhui</td>\n",
       "      <td>China</td>\n",
       "      <td>1.0</td>\n",
       "      <td>31.778630</td>\n",
       "      <td>117.331900</td>\n",
       "      <td>admin3</td>\n",
       "      <td>23.01.2020</td>\n",
       "      <td>http://ah.people.com.cn/GB/n2/2020/0127/c35826...</td>\n",
       "      <td>Hefei City</td>\n",
       "      <td>Anhui</td>\n",
       "      <td>China</td>\n",
       "      <td>340111</td>\n",
       "    </tr>\n",
       "    <tr>\n",
       "      <th>2</th>\n",
       "      <td>3.0</td>\n",
       "      <td>High-Tech Zone, Hefei City</td>\n",
       "      <td>Anhui</td>\n",
       "      <td>China</td>\n",
       "      <td>1.0</td>\n",
       "      <td>31.828313</td>\n",
       "      <td>117.224844</td>\n",
       "      <td>point</td>\n",
       "      <td>23.01.2020</td>\n",
       "      <td>http://ah.people.com.cn/GB/n2/2020/0127/c35826...</td>\n",
       "      <td>Hefei City</td>\n",
       "      <td>Anhui</td>\n",
       "      <td>China</td>\n",
       "      <td>340104</td>\n",
       "    </tr>\n",
       "    <tr>\n",
       "      <th>3</th>\n",
       "      <td>4.0</td>\n",
       "      <td>High-Tech Zone, Hefei City</td>\n",
       "      <td>Anhui</td>\n",
       "      <td>China</td>\n",
       "      <td>1.0</td>\n",
       "      <td>31.828313</td>\n",
       "      <td>117.224844</td>\n",
       "      <td>point</td>\n",
       "      <td>23.01.2020</td>\n",
       "      <td>http://ah.people.com.cn/GB/n2/2020/0127/c35826...</td>\n",
       "      <td>Hefei City</td>\n",
       "      <td>Anhui</td>\n",
       "      <td>China</td>\n",
       "      <td>340104</td>\n",
       "    </tr>\n",
       "    <tr>\n",
       "      <th>4</th>\n",
       "      <td>5.0</td>\n",
       "      <td>Feidong County, Hefei City</td>\n",
       "      <td>Anhui</td>\n",
       "      <td>China</td>\n",
       "      <td>1.0</td>\n",
       "      <td>32.001230</td>\n",
       "      <td>117.568100</td>\n",
       "      <td>admin3</td>\n",
       "      <td>23.01.2020</td>\n",
       "      <td>http://ah.people.com.cn/GB/n2/2020/0127/c35826...</td>\n",
       "      <td>Hefei City</td>\n",
       "      <td>Anhui</td>\n",
       "      <td>China</td>\n",
       "      <td>340122</td>\n",
       "    </tr>\n",
       "  </tbody>\n",
       "</table>\n",
       "</div>"
      ],
      "text/plain": [
       "    ID                        city province country  wuhan(0)_not_wuhan(1)  \\\n",
       "0  1.0     Chaohu City, Hefei City    Anhui   China                    1.0   \n",
       "1  2.0  Baohe District, Hefei City    Anhui   China                    1.0   \n",
       "2  3.0  High-Tech Zone, Hefei City    Anhui   China                    1.0   \n",
       "3  4.0  High-Tech Zone, Hefei City    Anhui   China                    1.0   \n",
       "4  5.0  Feidong County, Hefei City    Anhui   China                    1.0   \n",
       "\n",
       "    latitude   longitude geo_resolution date_confirmation  \\\n",
       "0  31.646960  117.716600         admin3        22.01.2020   \n",
       "1  31.778630  117.331900         admin3        23.01.2020   \n",
       "2  31.828313  117.224844          point        23.01.2020   \n",
       "3  31.828313  117.224844          point        23.01.2020   \n",
       "4  32.001230  117.568100         admin3        23.01.2020   \n",
       "\n",
       "                                              source      admin2 admin1  \\\n",
       "0  http://ah.people.com.cn/GB/n2/2020/0127/c35826...  Hefei City  Anhui   \n",
       "1  http://ah.people.com.cn/GB/n2/2020/0127/c35826...  Hefei City  Anhui   \n",
       "2  http://ah.people.com.cn/GB/n2/2020/0127/c35826...  Hefei City  Anhui   \n",
       "3  http://ah.people.com.cn/GB/n2/2020/0127/c35826...  Hefei City  Anhui   \n",
       "4  http://ah.people.com.cn/GB/n2/2020/0127/c35826...  Hefei City  Anhui   \n",
       "\n",
       "  country_new admin_id  \n",
       "0       China   340181  \n",
       "1       China   340111  \n",
       "2       China   340104  \n",
       "3       China   340104  \n",
       "4       China   340122  "
      ]
     },
     "execution_count": 6,
     "metadata": {},
     "output_type": "execute_result"
    }
   ],
   "source": [
    "data_csv=pd.read_csv('data/COVID19_open_line_list_file_cleaned.csv')\n",
    "data_csv.head()"
   ]
  },
  {
   "cell_type": "markdown",
   "metadata": {},
   "source": [
    "## Pre proecessing the data"
   ]
  },
  {
   "cell_type": "code",
   "execution_count": 7,
   "metadata": {
    "scrolled": false
   },
   "outputs": [
    {
     "data": {
      "text/html": [
       "<div>\n",
       "<style scoped>\n",
       "    .dataframe tbody tr th:only-of-type {\n",
       "        vertical-align: middle;\n",
       "    }\n",
       "\n",
       "    .dataframe tbody tr th {\n",
       "        vertical-align: top;\n",
       "    }\n",
       "\n",
       "    .dataframe thead th {\n",
       "        text-align: right;\n",
       "    }\n",
       "</style>\n",
       "<table border=\"1\" class=\"dataframe\">\n",
       "  <thead>\n",
       "    <tr style=\"text-align: right;\">\n",
       "      <th></th>\n",
       "      <th>Unnamed: 0</th>\n",
       "      <th>_id</th>\n",
       "      <th>dateRep</th>\n",
       "      <th>day</th>\n",
       "      <th>month</th>\n",
       "      <th>year</th>\n",
       "      <th>cases</th>\n",
       "      <th>deaths</th>\n",
       "      <th>countriesAndTerritories</th>\n",
       "      <th>geoId</th>\n",
       "      <th>countryterritoryCode</th>\n",
       "      <th>popData2018</th>\n",
       "    </tr>\n",
       "  </thead>\n",
       "  <tbody>\n",
       "    <tr>\n",
       "      <th>0</th>\n",
       "      <td>0</td>\n",
       "      <td>5e9ed0b93b43ce83895586a8</td>\n",
       "      <td>10/04/2020</td>\n",
       "      <td>10</td>\n",
       "      <td>4</td>\n",
       "      <td>2020</td>\n",
       "      <td>61</td>\n",
       "      <td>1</td>\n",
       "      <td>Afghanistan</td>\n",
       "      <td>AF</td>\n",
       "      <td>AFG</td>\n",
       "      <td>37172386</td>\n",
       "    </tr>\n",
       "    <tr>\n",
       "      <th>1</th>\n",
       "      <td>1</td>\n",
       "      <td>5e9ed0b93b43ce83895586a9</td>\n",
       "      <td>09/04/2020</td>\n",
       "      <td>9</td>\n",
       "      <td>4</td>\n",
       "      <td>2020</td>\n",
       "      <td>56</td>\n",
       "      <td>3</td>\n",
       "      <td>Afghanistan</td>\n",
       "      <td>AF</td>\n",
       "      <td>AFG</td>\n",
       "      <td>37172386</td>\n",
       "    </tr>\n",
       "    <tr>\n",
       "      <th>2</th>\n",
       "      <td>2</td>\n",
       "      <td>5e9ed0b93b43ce83895586aa</td>\n",
       "      <td>08/04/2020</td>\n",
       "      <td>8</td>\n",
       "      <td>4</td>\n",
       "      <td>2020</td>\n",
       "      <td>30</td>\n",
       "      <td>4</td>\n",
       "      <td>Afghanistan</td>\n",
       "      <td>AF</td>\n",
       "      <td>AFG</td>\n",
       "      <td>37172386</td>\n",
       "    </tr>\n",
       "    <tr>\n",
       "      <th>3</th>\n",
       "      <td>3</td>\n",
       "      <td>5e9ed0b93b43ce83895586ab</td>\n",
       "      <td>07/04/2020</td>\n",
       "      <td>7</td>\n",
       "      <td>4</td>\n",
       "      <td>2020</td>\n",
       "      <td>38</td>\n",
       "      <td>0</td>\n",
       "      <td>Afghanistan</td>\n",
       "      <td>AF</td>\n",
       "      <td>AFG</td>\n",
       "      <td>37172386</td>\n",
       "    </tr>\n",
       "    <tr>\n",
       "      <th>4</th>\n",
       "      <td>4</td>\n",
       "      <td>5e9ed0b93b43ce83895586ac</td>\n",
       "      <td>06/04/2020</td>\n",
       "      <td>6</td>\n",
       "      <td>4</td>\n",
       "      <td>2020</td>\n",
       "      <td>29</td>\n",
       "      <td>2</td>\n",
       "      <td>Afghanistan</td>\n",
       "      <td>AF</td>\n",
       "      <td>AFG</td>\n",
       "      <td>37172386</td>\n",
       "    </tr>\n",
       "  </tbody>\n",
       "</table>\n",
       "</div>"
      ],
      "text/plain": [
       "   Unnamed: 0                       _id     dateRep  day  month  year  cases  \\\n",
       "0           0  5e9ed0b93b43ce83895586a8  10/04/2020   10      4  2020     61   \n",
       "1           1  5e9ed0b93b43ce83895586a9  09/04/2020    9      4  2020     56   \n",
       "2           2  5e9ed0b93b43ce83895586aa  08/04/2020    8      4  2020     30   \n",
       "3           3  5e9ed0b93b43ce83895586ab  07/04/2020    7      4  2020     38   \n",
       "4           4  5e9ed0b93b43ce83895586ac  06/04/2020    6      4  2020     29   \n",
       "\n",
       "   deaths countriesAndTerritories geoId countryterritoryCode  popData2018  \n",
       "0       1             Afghanistan    AF                  AFG     37172386  \n",
       "1       3             Afghanistan    AF                  AFG     37172386  \n",
       "2       4             Afghanistan    AF                  AFG     37172386  \n",
       "3       0             Afghanistan    AF                  AFG     37172386  \n",
       "4       2             Afghanistan    AF                  AFG     37172386  "
      ]
     },
     "execution_count": 7,
     "metadata": {},
     "output_type": "execute_result"
    }
   ],
   "source": [
    "data_xml=pd.read_csv('data/covid19_xmlToCSV.csv')\n",
    "data_xml.head()"
   ]
  },
  {
   "cell_type": "code",
   "execution_count": 8,
   "metadata": {},
   "outputs": [
    {
     "name": "stdout",
     "output_type": "stream",
     "text": [
      "<class 'pandas.core.frame.DataFrame'>\n",
      "RangeIndex: 19538 entries, 0 to 19537\n",
      "Data columns (total 12 columns):\n",
      " #   Column                   Non-Null Count  Dtype \n",
      "---  ------                   --------------  ----- \n",
      " 0   Unnamed: 0               19538 non-null  int64 \n",
      " 1   _id                      19538 non-null  object\n",
      " 2   dateRep                  19538 non-null  object\n",
      " 3   day                      19538 non-null  int64 \n",
      " 4   month                    19538 non-null  int64 \n",
      " 5   year                     19538 non-null  int64 \n",
      " 6   cases                    19538 non-null  int64 \n",
      " 7   deaths                   19538 non-null  int64 \n",
      " 8   countriesAndTerritories  19538 non-null  object\n",
      " 9   geoId                    19484 non-null  object\n",
      " 10  countryterritoryCode     19410 non-null  object\n",
      " 11  popData2018              19538 non-null  int64 \n",
      "dtypes: int64(7), object(5)\n",
      "memory usage: 1.8+ MB\n"
     ]
    }
   ],
   "source": [
    "data_xml.info()"
   ]
  },
  {
   "cell_type": "code",
   "execution_count": 9,
   "metadata": {},
   "outputs": [],
   "source": [
    "data_xml.dropna(inplace=True)"
   ]
  },
  {
   "cell_type": "code",
   "execution_count": 10,
   "metadata": {},
   "outputs": [
    {
     "name": "stdout",
     "output_type": "stream",
     "text": [
      "<class 'pandas.core.frame.DataFrame'>\n",
      "Int64Index: 19356 entries, 0 to 19537\n",
      "Data columns (total 12 columns):\n",
      " #   Column                   Non-Null Count  Dtype \n",
      "---  ------                   --------------  ----- \n",
      " 0   Unnamed: 0               19356 non-null  int64 \n",
      " 1   _id                      19356 non-null  object\n",
      " 2   dateRep                  19356 non-null  object\n",
      " 3   day                      19356 non-null  int64 \n",
      " 4   month                    19356 non-null  int64 \n",
      " 5   year                     19356 non-null  int64 \n",
      " 6   cases                    19356 non-null  int64 \n",
      " 7   deaths                   19356 non-null  int64 \n",
      " 8   countriesAndTerritories  19356 non-null  object\n",
      " 9   geoId                    19356 non-null  object\n",
      " 10  countryterritoryCode     19356 non-null  object\n",
      " 11  popData2018              19356 non-null  int64 \n",
      "dtypes: int64(7), object(5)\n",
      "memory usage: 1.9+ MB\n"
     ]
    }
   ],
   "source": [
    "data_xml.info()"
   ]
  },
  {
   "cell_type": "code",
   "execution_count": 13,
   "metadata": {
    "scrolled": true
   },
   "outputs": [
    {
     "data": {
      "text/html": [
       "<div>\n",
       "<style scoped>\n",
       "    .dataframe tbody tr th:only-of-type {\n",
       "        vertical-align: middle;\n",
       "    }\n",
       "\n",
       "    .dataframe tbody tr th {\n",
       "        vertical-align: top;\n",
       "    }\n",
       "\n",
       "    .dataframe thead th {\n",
       "        text-align: right;\n",
       "    }\n",
       "</style>\n",
       "<table border=\"1\" class=\"dataframe\">\n",
       "  <thead>\n",
       "    <tr style=\"text-align: right;\">\n",
       "      <th></th>\n",
       "      <th>countriesAndTerritories</th>\n",
       "      <th>cases</th>\n",
       "      <th>deaths</th>\n",
       "    </tr>\n",
       "  </thead>\n",
       "  <tbody>\n",
       "    <tr>\n",
       "      <th>0</th>\n",
       "      <td>Afghanistan</td>\n",
       "      <td>61</td>\n",
       "      <td>1</td>\n",
       "    </tr>\n",
       "    <tr>\n",
       "      <th>1</th>\n",
       "      <td>Afghanistan</td>\n",
       "      <td>56</td>\n",
       "      <td>3</td>\n",
       "    </tr>\n",
       "    <tr>\n",
       "      <th>2</th>\n",
       "      <td>Afghanistan</td>\n",
       "      <td>30</td>\n",
       "      <td>4</td>\n",
       "    </tr>\n",
       "    <tr>\n",
       "      <th>3</th>\n",
       "      <td>Afghanistan</td>\n",
       "      <td>38</td>\n",
       "      <td>0</td>\n",
       "    </tr>\n",
       "    <tr>\n",
       "      <th>4</th>\n",
       "      <td>Afghanistan</td>\n",
       "      <td>29</td>\n",
       "      <td>2</td>\n",
       "    </tr>\n",
       "  </tbody>\n",
       "</table>\n",
       "</div>"
      ],
      "text/plain": [
       "  countriesAndTerritories  cases  deaths\n",
       "0             Afghanistan     61       1\n",
       "1             Afghanistan     56       3\n",
       "2             Afghanistan     30       4\n",
       "3             Afghanistan     38       0\n",
       "4             Afghanistan     29       2"
      ]
     },
     "execution_count": 13,
     "metadata": {},
     "output_type": "execute_result"
    }
   ],
   "source": [
    "## Take important column\n",
    "data_xml_2=data_xml.loc[:,['countriesAndTerritories','cases','deaths']]\n",
    "data_xml_2.head()"
   ]
  },
  {
   "cell_type": "code",
   "execution_count": 14,
   "metadata": {},
   "outputs": [
    {
     "name": "stdout",
     "output_type": "stream",
     "text": [
      "<class 'pandas.core.frame.DataFrame'>\n",
      "Int64Index: 19356 entries, 0 to 19537\n",
      "Data columns (total 3 columns):\n",
      " #   Column                   Non-Null Count  Dtype \n",
      "---  ------                   --------------  ----- \n",
      " 0   countriesAndTerritories  19356 non-null  object\n",
      " 1   cases                    19356 non-null  int64 \n",
      " 2   deaths                   19356 non-null  int64 \n",
      "dtypes: int64(2), object(1)\n",
      "memory usage: 604.9+ KB\n"
     ]
    }
   ],
   "source": [
    "data_xml_2.info()"
   ]
  },
  {
   "cell_type": "code",
   "execution_count": 89,
   "metadata": {},
   "outputs": [],
   "source": [
    "## Group wise country and cases and death"
   ]
  },
  {
   "cell_type": "code",
   "execution_count": 15,
   "metadata": {},
   "outputs": [
    {
     "name": "stderr",
     "output_type": "stream",
     "text": [
      "/Users/rahul/opt/anaconda3/lib/python3.7/site-packages/ipykernel_launcher.py:1: FutureWarning: Indexing with multiple keys (implicitly converted to a tuple of keys) will be deprecated, use a list instead.\n",
      "  \"\"\"Entry point for launching an IPython kernel.\n"
     ]
    }
   ],
   "source": [
    "data_xml_3=data_xml_2.groupby(['countriesAndTerritories'],as_index=False)['cases','deaths'].agg('sum')"
   ]
  },
  {
   "cell_type": "code",
   "execution_count": 16,
   "metadata": {},
   "outputs": [
    {
     "data": {
      "text/html": [
       "<div>\n",
       "<style scoped>\n",
       "    .dataframe tbody tr th:only-of-type {\n",
       "        vertical-align: middle;\n",
       "    }\n",
       "\n",
       "    .dataframe tbody tr th {\n",
       "        vertical-align: top;\n",
       "    }\n",
       "\n",
       "    .dataframe thead th {\n",
       "        text-align: right;\n",
       "    }\n",
       "</style>\n",
       "<table border=\"1\" class=\"dataframe\">\n",
       "  <thead>\n",
       "    <tr style=\"text-align: right;\">\n",
       "      <th></th>\n",
       "      <th>countriesAndTerritories</th>\n",
       "      <th>cases</th>\n",
       "      <th>deaths</th>\n",
       "    </tr>\n",
       "  </thead>\n",
       "  <tbody>\n",
       "    <tr>\n",
       "      <th>0</th>\n",
       "      <td>Afghanistan</td>\n",
       "      <td>968</td>\n",
       "      <td>30</td>\n",
       "    </tr>\n",
       "    <tr>\n",
       "      <th>1</th>\n",
       "      <td>Albania</td>\n",
       "      <td>818</td>\n",
       "      <td>46</td>\n",
       "    </tr>\n",
       "    <tr>\n",
       "      <th>2</th>\n",
       "      <td>Algeria</td>\n",
       "      <td>3332</td>\n",
       "      <td>470</td>\n",
       "    </tr>\n",
       "    <tr>\n",
       "      <th>3</th>\n",
       "      <td>Andorra</td>\n",
       "      <td>1166</td>\n",
       "      <td>50</td>\n",
       "    </tr>\n",
       "    <tr>\n",
       "      <th>4</th>\n",
       "      <td>Angola</td>\n",
       "      <td>38</td>\n",
       "      <td>4</td>\n",
       "    </tr>\n",
       "  </tbody>\n",
       "</table>\n",
       "</div>"
      ],
      "text/plain": [
       "  countriesAndTerritories  cases  deaths\n",
       "0             Afghanistan    968      30\n",
       "1                 Albania    818      46\n",
       "2                 Algeria   3332     470\n",
       "3                 Andorra   1166      50\n",
       "4                  Angola     38       4"
      ]
     },
     "execution_count": 16,
     "metadata": {},
     "output_type": "execute_result"
    }
   ],
   "source": [
    "data_xml_3.head()"
   ]
  },
  {
   "cell_type": "code",
   "execution_count": 17,
   "metadata": {},
   "outputs": [
    {
     "name": "stdout",
     "output_type": "stream",
     "text": [
      "<class 'pandas.core.frame.DataFrame'>\n",
      "Int64Index: 199 entries, 0 to 198\n",
      "Data columns (total 3 columns):\n",
      " #   Column                   Non-Null Count  Dtype \n",
      "---  ------                   --------------  ----- \n",
      " 0   countriesAndTerritories  199 non-null    object\n",
      " 1   cases                    199 non-null    int64 \n",
      " 2   deaths                   199 non-null    int64 \n",
      "dtypes: int64(2), object(1)\n",
      "memory usage: 6.2+ KB\n"
     ]
    }
   ],
   "source": [
    "data_xml_3.info()"
   ]
  },
  {
   "cell_type": "markdown",
   "metadata": {},
   "source": [
    "## Create a table in postgre for storing xml file"
   ]
  },
  {
   "cell_type": "code",
   "execution_count": 18,
   "metadata": {},
   "outputs": [],
   "source": [
    "table_name='covid19_xml_tbl'"
   ]
  },
  {
   "cell_type": "code",
   "execution_count": 19,
   "metadata": {},
   "outputs": [],
   "source": [
    "column_name=['countriesandterritories VARCHAR(100) PRIMARY KEY','cases numeric','deaths numeric']\n"
   ]
  },
  {
   "cell_type": "code",
   "execution_count": null,
   "metadata": {
    "scrolled": true
   },
   "outputs": [],
   "source": [
    "dbcon.create_table(table_name,column_name,dbcon.\n",
    "                   get_dbCon())\n"
   ]
  },
  {
   "cell_type": "markdown",
   "metadata": {},
   "source": [
    "## Insert data from data_xml_3 dataframe to covid19_xml_tbl"
   ]
  },
  {
   "cell_type": "code",
   "execution_count": null,
   "metadata": {},
   "outputs": [],
   "source": [
    "db_column=['countriesandterritories','cases','deaths']\n",
    "dbcon.insert_csv_table(data_xml_3,table_name,db_column)"
   ]
  },
  {
   "cell_type": "code",
   "execution_count": 20,
   "metadata": {},
   "outputs": [
    {
     "name": "stdout",
     "output_type": "stream",
     "text": [
      "[(199,)]\n"
     ]
    }
   ],
   "source": [
    "## CHECK the insetion part\n",
    "dbcon.select_count(table_name,dbcon.get_dbCon())"
   ]
  },
  {
   "cell_type": "markdown",
   "metadata": {},
   "source": [
    "## Pre-Process the web scrapping and store into postgre"
   ]
  },
  {
   "cell_type": "code",
   "execution_count": 21,
   "metadata": {},
   "outputs": [
    {
     "data": {
      "text/html": [
       "<div>\n",
       "<style scoped>\n",
       "    .dataframe tbody tr th:only-of-type {\n",
       "        vertical-align: middle;\n",
       "    }\n",
       "\n",
       "    .dataframe tbody tr th {\n",
       "        vertical-align: top;\n",
       "    }\n",
       "\n",
       "    .dataframe thead th {\n",
       "        text-align: right;\n",
       "    }\n",
       "</style>\n",
       "<table border=\"1\" class=\"dataframe\">\n",
       "  <thead>\n",
       "    <tr style=\"text-align: right;\">\n",
       "      <th></th>\n",
       "      <th>Country</th>\n",
       "      <th>TotalCases</th>\n",
       "      <th>TotalDeaths</th>\n",
       "      <th>TotalRecovered</th>\n",
       "      <th>ActiveCases</th>\n",
       "      <th>Serious_Critical</th>\n",
       "    </tr>\n",
       "  </thead>\n",
       "  <tbody>\n",
       "    <tr>\n",
       "      <th>0</th>\n",
       "      <td>USA</td>\n",
       "      <td>782,987</td>\n",
       "      <td>41,777</td>\n",
       "      <td>71,770</td>\n",
       "      <td>669,440</td>\n",
       "      <td>13,576</td>\n",
       "    </tr>\n",
       "    <tr>\n",
       "      <th>1</th>\n",
       "      <td>Spain</td>\n",
       "      <td>200,210</td>\n",
       "      <td>20,852</td>\n",
       "      <td>80,587</td>\n",
       "      <td>98,771</td>\n",
       "      <td>7,371</td>\n",
       "    </tr>\n",
       "    <tr>\n",
       "      <th>2</th>\n",
       "      <td>Italy</td>\n",
       "      <td>181,228</td>\n",
       "      <td>24,114</td>\n",
       "      <td>48,877</td>\n",
       "      <td>108,237</td>\n",
       "      <td>2,573</td>\n",
       "    </tr>\n",
       "    <tr>\n",
       "      <th>3</th>\n",
       "      <td>France</td>\n",
       "      <td>155,383</td>\n",
       "      <td>20,265</td>\n",
       "      <td>37,409</td>\n",
       "      <td>97,709</td>\n",
       "      <td>5,683</td>\n",
       "    </tr>\n",
       "    <tr>\n",
       "      <th>4</th>\n",
       "      <td>Germany</td>\n",
       "      <td>146,398</td>\n",
       "      <td>4,706</td>\n",
       "      <td>91,500</td>\n",
       "      <td>50,192</td>\n",
       "      <td>2,889</td>\n",
       "    </tr>\n",
       "  </tbody>\n",
       "</table>\n",
       "</div>"
      ],
      "text/plain": [
       "   Country TotalCases TotalDeaths TotalRecovered ActiveCases Serious_Critical\n",
       "0      USA    782,987      41,777         71,770     669,440           13,576\n",
       "1    Spain    200,210      20,852         80,587      98,771            7,371\n",
       "2    Italy    181,228      24,114         48,877     108,237            2,573\n",
       "3   France    155,383      20,265         37,409      97,709            5,683\n",
       "4  Germany    146,398       4,706         91,500      50,192            2,889"
      ]
     },
     "execution_count": 21,
     "metadata": {},
     "output_type": "execute_result"
    }
   ],
   "source": [
    "data_web=pd.read_csv('data/web_data_covid19.csv')\n",
    "data_web.head()"
   ]
  },
  {
   "cell_type": "code",
   "execution_count": 22,
   "metadata": {},
   "outputs": [
    {
     "name": "stdout",
     "output_type": "stream",
     "text": [
      "<class 'pandas.core.frame.DataFrame'>\n",
      "RangeIndex: 212 entries, 0 to 211\n",
      "Data columns (total 6 columns):\n",
      " #   Column            Non-Null Count  Dtype \n",
      "---  ------            --------------  ----- \n",
      " 0   Country           212 non-null    object\n",
      " 1   TotalCases        212 non-null    object\n",
      " 2   TotalDeaths       212 non-null    object\n",
      " 3   TotalRecovered    199 non-null    object\n",
      " 4   ActiveCases       212 non-null    object\n",
      " 5   Serious_Critical  137 non-null    object\n",
      "dtypes: object(6)\n",
      "memory usage: 10.1+ KB\n"
     ]
    }
   ],
   "source": [
    "data_web.info()"
   ]
  },
  {
   "cell_type": "code",
   "execution_count": 23,
   "metadata": {},
   "outputs": [],
   "source": [
    "# drop the null variable because I want to analyze data\n",
    "#data_web.dropna(inplace=True,subset=['ActiveCases'])\n",
    "data_web.dropna(inplace=True)"
   ]
  },
  {
   "cell_type": "code",
   "execution_count": 24,
   "metadata": {},
   "outputs": [
    {
     "name": "stdout",
     "output_type": "stream",
     "text": [
      "<class 'pandas.core.frame.DataFrame'>\n",
      "Int64Index: 136 entries, 0 to 211\n",
      "Data columns (total 6 columns):\n",
      " #   Column            Non-Null Count  Dtype \n",
      "---  ------            --------------  ----- \n",
      " 0   Country           136 non-null    object\n",
      " 1   TotalCases        136 non-null    object\n",
      " 2   TotalDeaths       136 non-null    object\n",
      " 3   TotalRecovered    136 non-null    object\n",
      " 4   ActiveCases       136 non-null    object\n",
      " 5   Serious_Critical  136 non-null    object\n",
      "dtypes: object(6)\n",
      "memory usage: 7.4+ KB\n"
     ]
    }
   ],
   "source": [
    "data_web.info()"
   ]
  },
  {
   "cell_type": "code",
   "execution_count": 25,
   "metadata": {},
   "outputs": [
    {
     "data": {
      "text/html": [
       "<div>\n",
       "<style scoped>\n",
       "    .dataframe tbody tr th:only-of-type {\n",
       "        vertical-align: middle;\n",
       "    }\n",
       "\n",
       "    .dataframe tbody tr th {\n",
       "        vertical-align: top;\n",
       "    }\n",
       "\n",
       "    .dataframe thead th {\n",
       "        text-align: right;\n",
       "    }\n",
       "</style>\n",
       "<table border=\"1\" class=\"dataframe\">\n",
       "  <thead>\n",
       "    <tr style=\"text-align: right;\">\n",
       "      <th></th>\n",
       "      <th>Country</th>\n",
       "      <th>TotalCases</th>\n",
       "      <th>TotalDeaths</th>\n",
       "      <th>TotalRecovered</th>\n",
       "      <th>ActiveCases</th>\n",
       "      <th>Serious_Critical</th>\n",
       "    </tr>\n",
       "  </thead>\n",
       "  <tbody>\n",
       "    <tr>\n",
       "      <th>0</th>\n",
       "      <td>USA</td>\n",
       "      <td>782,987</td>\n",
       "      <td>41,777</td>\n",
       "      <td>71,770</td>\n",
       "      <td>669,440</td>\n",
       "      <td>13,576</td>\n",
       "    </tr>\n",
       "    <tr>\n",
       "      <th>1</th>\n",
       "      <td>Spain</td>\n",
       "      <td>200,210</td>\n",
       "      <td>20,852</td>\n",
       "      <td>80,587</td>\n",
       "      <td>98,771</td>\n",
       "      <td>7,371</td>\n",
       "    </tr>\n",
       "    <tr>\n",
       "      <th>2</th>\n",
       "      <td>Italy</td>\n",
       "      <td>181,228</td>\n",
       "      <td>24,114</td>\n",
       "      <td>48,877</td>\n",
       "      <td>108,237</td>\n",
       "      <td>2,573</td>\n",
       "    </tr>\n",
       "    <tr>\n",
       "      <th>3</th>\n",
       "      <td>France</td>\n",
       "      <td>155,383</td>\n",
       "      <td>20,265</td>\n",
       "      <td>37,409</td>\n",
       "      <td>97,709</td>\n",
       "      <td>5,683</td>\n",
       "    </tr>\n",
       "    <tr>\n",
       "      <th>4</th>\n",
       "      <td>Germany</td>\n",
       "      <td>146,398</td>\n",
       "      <td>4,706</td>\n",
       "      <td>91,500</td>\n",
       "      <td>50,192</td>\n",
       "      <td>2,889</td>\n",
       "    </tr>\n",
       "  </tbody>\n",
       "</table>\n",
       "</div>"
      ],
      "text/plain": [
       "   Country TotalCases TotalDeaths TotalRecovered ActiveCases Serious_Critical\n",
       "0      USA    782,987      41,777         71,770     669,440           13,576\n",
       "1    Spain    200,210      20,852         80,587      98,771            7,371\n",
       "2    Italy    181,228      24,114         48,877     108,237            2,573\n",
       "3   France    155,383      20,265         37,409      97,709            5,683\n",
       "4  Germany    146,398       4,706         91,500      50,192            2,889"
      ]
     },
     "execution_count": 25,
     "metadata": {},
     "output_type": "execute_result"
    }
   ],
   "source": [
    "data_web.head()"
   ]
  },
  {
   "cell_type": "markdown",
   "metadata": {},
   "source": [
    "### Preprocessing web data "
   ]
  },
  {
   "cell_type": "code",
   "execution_count": 26,
   "metadata": {},
   "outputs": [
    {
     "name": "stdout",
     "output_type": "stream",
     "text": [
      "<class 'pandas.core.frame.DataFrame'>\n",
      "Int64Index: 136 entries, 0 to 211\n",
      "Data columns (total 6 columns):\n",
      " #   Column            Non-Null Count  Dtype \n",
      "---  ------            --------------  ----- \n",
      " 0   Country           136 non-null    object\n",
      " 1   TotalCases        136 non-null    object\n",
      " 2   TotalDeaths       136 non-null    object\n",
      " 3   TotalRecovered    136 non-null    object\n",
      " 4   ActiveCases       136 non-null    object\n",
      " 5   Serious_Critical  136 non-null    object\n",
      "dtypes: object(6)\n",
      "memory usage: 7.4+ KB\n"
     ]
    }
   ],
   "source": [
    "data_web.info()"
   ]
  },
  {
   "cell_type": "code",
   "execution_count": 104,
   "metadata": {},
   "outputs": [],
   "source": [
    "## Remove comma\n",
    "## replace empty with 0"
   ]
  },
  {
   "cell_type": "code",
   "execution_count": 27,
   "metadata": {},
   "outputs": [],
   "source": [
    "data_web['TotalCases']=data_web['TotalCases'].str.replace(\",\",\"\")\n",
    "data_web['TotalCases']=data_web['TotalCases'].str.replace(\" \",'0')"
   ]
  },
  {
   "cell_type": "code",
   "execution_count": 28,
   "metadata": {},
   "outputs": [],
   "source": [
    "data_web['TotalRecovered']=data_web['TotalRecovered'].str.replace(\",\",\"\")\n",
    "data_web['TotalRecovered']=data_web['TotalRecovered'].str.replace(\" \",\"0\")"
   ]
  },
  {
   "cell_type": "code",
   "execution_count": 29,
   "metadata": {},
   "outputs": [],
   "source": [
    "data_web['TotalDeaths']=data_web['TotalDeaths'].str.replace(\",\",\"\")\n",
    "data_web['TotalDeaths']=data_web['TotalDeaths'].str.replace(\" \",\"0\")"
   ]
  },
  {
   "cell_type": "code",
   "execution_count": 30,
   "metadata": {},
   "outputs": [],
   "source": [
    "data_web['ActiveCases']=data_web['ActiveCases'].str.replace(\",\",\"\")\n",
    "data_web['ActiveCases']=data_web['ActiveCases'].str.replace(\" \",\"0\")"
   ]
  },
  {
   "cell_type": "code",
   "execution_count": 31,
   "metadata": {},
   "outputs": [],
   "source": [
    "data_web['Serious_Critical']=data_web['Serious_Critical'].str.replace(\",\",\"\")\n",
    "data_web['Serious_Critical']=data_web['Serious_Critical'].str.replace(\" \",\"0\")"
   ]
  },
  {
   "cell_type": "code",
   "execution_count": 32,
   "metadata": {},
   "outputs": [
    {
     "data": {
      "text/html": [
       "<div>\n",
       "<style scoped>\n",
       "    .dataframe tbody tr th:only-of-type {\n",
       "        vertical-align: middle;\n",
       "    }\n",
       "\n",
       "    .dataframe tbody tr th {\n",
       "        vertical-align: top;\n",
       "    }\n",
       "\n",
       "    .dataframe thead th {\n",
       "        text-align: right;\n",
       "    }\n",
       "</style>\n",
       "<table border=\"1\" class=\"dataframe\">\n",
       "  <thead>\n",
       "    <tr style=\"text-align: right;\">\n",
       "      <th></th>\n",
       "      <th>Country</th>\n",
       "      <th>TotalCases</th>\n",
       "      <th>TotalDeaths</th>\n",
       "      <th>TotalRecovered</th>\n",
       "      <th>ActiveCases</th>\n",
       "      <th>Serious_Critical</th>\n",
       "    </tr>\n",
       "  </thead>\n",
       "  <tbody>\n",
       "    <tr>\n",
       "      <th>0</th>\n",
       "      <td>USA</td>\n",
       "      <td>782987</td>\n",
       "      <td>41777</td>\n",
       "      <td>71770</td>\n",
       "      <td>669440</td>\n",
       "      <td>13576</td>\n",
       "    </tr>\n",
       "    <tr>\n",
       "      <th>1</th>\n",
       "      <td>Spain</td>\n",
       "      <td>200210</td>\n",
       "      <td>20852</td>\n",
       "      <td>80587</td>\n",
       "      <td>98771</td>\n",
       "      <td>7371</td>\n",
       "    </tr>\n",
       "    <tr>\n",
       "      <th>2</th>\n",
       "      <td>Italy</td>\n",
       "      <td>181228</td>\n",
       "      <td>24114</td>\n",
       "      <td>48877</td>\n",
       "      <td>108237</td>\n",
       "      <td>2573</td>\n",
       "    </tr>\n",
       "    <tr>\n",
       "      <th>3</th>\n",
       "      <td>France</td>\n",
       "      <td>155383</td>\n",
       "      <td>20265</td>\n",
       "      <td>37409</td>\n",
       "      <td>97709</td>\n",
       "      <td>5683</td>\n",
       "    </tr>\n",
       "    <tr>\n",
       "      <th>4</th>\n",
       "      <td>Germany</td>\n",
       "      <td>146398</td>\n",
       "      <td>4706</td>\n",
       "      <td>91500</td>\n",
       "      <td>50192</td>\n",
       "      <td>2889</td>\n",
       "    </tr>\n",
       "  </tbody>\n",
       "</table>\n",
       "</div>"
      ],
      "text/plain": [
       "   Country TotalCases TotalDeaths TotalRecovered ActiveCases Serious_Critical\n",
       "0      USA     782987       41777          71770      669440            13576\n",
       "1    Spain     200210       20852          80587       98771             7371\n",
       "2    Italy     181228       24114          48877      108237             2573\n",
       "3   France     155383       20265          37409       97709             5683\n",
       "4  Germany     146398        4706          91500       50192             2889"
      ]
     },
     "execution_count": 32,
     "metadata": {},
     "output_type": "execute_result"
    }
   ],
   "source": [
    "data_web.head()"
   ]
  },
  {
   "cell_type": "code",
   "execution_count": 33,
   "metadata": {},
   "outputs": [
    {
     "name": "stdout",
     "output_type": "stream",
     "text": [
      "<class 'pandas.core.frame.DataFrame'>\n",
      "Int64Index: 136 entries, 0 to 211\n",
      "Data columns (total 6 columns):\n",
      " #   Column            Non-Null Count  Dtype \n",
      "---  ------            --------------  ----- \n",
      " 0   Country           136 non-null    object\n",
      " 1   TotalCases        136 non-null    object\n",
      " 2   TotalDeaths       136 non-null    object\n",
      " 3   TotalRecovered    136 non-null    object\n",
      " 4   ActiveCases       136 non-null    object\n",
      " 5   Serious_Critical  136 non-null    object\n",
      "dtypes: object(6)\n",
      "memory usage: 7.4+ KB\n"
     ]
    }
   ],
   "source": [
    "data_web.info()"
   ]
  },
  {
   "cell_type": "code",
   "execution_count": 34,
   "metadata": {},
   "outputs": [],
   "source": [
    "data_web['TotalCases']=data_web['TotalCases'].astype('float64')"
   ]
  },
  {
   "cell_type": "code",
   "execution_count": 35,
   "metadata": {},
   "outputs": [],
   "source": [
    "data_web['TotalDeaths']=data_web['TotalDeaths'].astype('float64')"
   ]
  },
  {
   "cell_type": "code",
   "execution_count": 36,
   "metadata": {},
   "outputs": [],
   "source": [
    "data_web['TotalRecovered']=data_web['TotalRecovered'].astype('float64')"
   ]
  },
  {
   "cell_type": "code",
   "execution_count": 37,
   "metadata": {},
   "outputs": [],
   "source": [
    "data_web['ActiveCases']=data_web['ActiveCases'].astype('float64')\n"
   ]
  },
  {
   "cell_type": "code",
   "execution_count": 38,
   "metadata": {},
   "outputs": [],
   "source": [
    "data_web['Serious_Critical']=data_web['Serious_Critical'].astype('float64')"
   ]
  },
  {
   "cell_type": "code",
   "execution_count": 39,
   "metadata": {},
   "outputs": [],
   "source": [
    "table_name='covid19_web_tbl'"
   ]
  },
  {
   "cell_type": "code",
   "execution_count": 40,
   "metadata": {},
   "outputs": [],
   "source": [
    "column_name=['country VARCHAR(100)','total_case numeric','total_death VARCHAR(100)','total_recovered string',\n",
    "             'active_cases numeric','serious_critical numeric']"
   ]
  },
  {
   "cell_type": "code",
   "execution_count": null,
   "metadata": {},
   "outputs": [],
   "source": [
    "dbcon.create_table(table_name,column_name,dbcon.get_dbCon())"
   ]
  },
  {
   "cell_type": "markdown",
   "metadata": {},
   "source": [
    "### Insertion of web data(data_web) into postgres (covid19_web_tbl)"
   ]
  },
  {
   "cell_type": "code",
   "execution_count": 41,
   "metadata": {},
   "outputs": [],
   "source": [
    "db_col=['country','total_case','total_death','total_recovered',\n",
    "             'active_cases','serious_critical']"
   ]
  },
  {
   "cell_type": "code",
   "execution_count": null,
   "metadata": {
    "scrolled": true
   },
   "outputs": [],
   "source": [
    "dbcon.insert_csv_table(data_web,table_name,db_col)"
   ]
  },
  {
   "cell_type": "code",
   "execution_count": 42,
   "metadata": {},
   "outputs": [
    {
     "name": "stdout",
     "output_type": "stream",
     "text": [
      "[(136,)]\n"
     ]
    }
   ],
   "source": [
    "## Check the insertion\n",
    "dbcon.select_count(table_name,dbcon.get_dbCon())"
   ]
  },
  {
   "cell_type": "markdown",
   "metadata": {},
   "source": [
    "# Relational query INNER JOIN on three tables -covid19_xml_tbl,covid19_web_tbl,country_wuhan_visit_tbl"
   ]
  },
  {
   "cell_type": "raw",
   "metadata": {},
   "source": [
    "Show relation query \n",
    "Three table we are going to fetch-There data sources are csv ,xml,web scrapping\n",
    "Table name ,primary key,column names,column name we need to fetch\n",
    "1)country_wuhan_visit_tbl(country) -['country','total_wuhan_visited']\n",
    "\n",
    "2)covid19_xml_tbl(countriesandterritories)-['countriesandterritories','cases','deaths']\n",
    "3)covid19_web_tbl(country)-['country','total_case','total_death','total_recovered',\n",
    "             'active_cases','serious_critical']\n",
    "             \n",
    "We will use inner join here\n",
    "\n",
    "\n",
    "\n"
   ]
  },
  {
   "cell_type": "code",
   "execution_count": 43,
   "metadata": {},
   "outputs": [],
   "source": [
    "query=\"\"\"\n",
    "SELECT covid19_xml_tbl.countriesandterritories,\n",
    "covid19_xml_tbl.cases,\n",
    "country_wuhan_visit_tbl.total_wuhan_visited,\n",
    "covid19_web_tbl.total_recovered,\n",
    "covid19_web_tbl.active_cases\n",
    "FROM covid19_xml_tbl\n",
    " INNER JOIN covid19_web_tbl ON covid19_xml_tbl.countriesandterritories = covid19_web_tbl.country\n",
    " INNER JOIN country_wuhan_visit_tbl ON country_wuhan_visit_tbl.country= covid19_web_tbl.country\"\"\"\n",
    "\n",
    "\n",
    "\n"
   ]
  },
  {
   "cell_type": "code",
   "execution_count": 44,
   "metadata": {
    "scrolled": true
   },
   "outputs": [
    {
     "name": "stdout",
     "output_type": "stream",
     "text": [
      "Query run successful\n",
      "PostgreSQL connection is closed\n"
     ]
    }
   ],
   "source": [
    "all_data_df=dbcon.select_res_dataframe(query)"
   ]
  },
  {
   "cell_type": "code",
   "execution_count": 45,
   "metadata": {},
   "outputs": [
    {
     "data": {
      "text/html": [
       "<div>\n",
       "<style scoped>\n",
       "    .dataframe tbody tr th:only-of-type {\n",
       "        vertical-align: middle;\n",
       "    }\n",
       "\n",
       "    .dataframe tbody tr th {\n",
       "        vertical-align: top;\n",
       "    }\n",
       "\n",
       "    .dataframe thead th {\n",
       "        text-align: right;\n",
       "    }\n",
       "</style>\n",
       "<table border=\"1\" class=\"dataframe\">\n",
       "  <thead>\n",
       "    <tr style=\"text-align: right;\">\n",
       "      <th></th>\n",
       "      <th>countriesandterritories</th>\n",
       "      <th>cases</th>\n",
       "      <th>total_wuhan_visited</th>\n",
       "      <th>total_recovered</th>\n",
       "      <th>active_cases</th>\n",
       "    </tr>\n",
       "  </thead>\n",
       "  <tbody>\n",
       "    <tr>\n",
       "      <th>0</th>\n",
       "      <td>Spain</td>\n",
       "      <td>304892.0</td>\n",
       "      <td>13.0</td>\n",
       "      <td>80587.0</td>\n",
       "      <td>98771.0</td>\n",
       "    </tr>\n",
       "    <tr>\n",
       "      <th>1</th>\n",
       "      <td>Italy</td>\n",
       "      <td>287252.0</td>\n",
       "      <td>588.0</td>\n",
       "      <td>48877.0</td>\n",
       "      <td>108237.0</td>\n",
       "    </tr>\n",
       "    <tr>\n",
       "      <th>2</th>\n",
       "      <td>France</td>\n",
       "      <td>172668.0</td>\n",
       "      <td>19.0</td>\n",
       "      <td>37409.0</td>\n",
       "      <td>97709.0</td>\n",
       "    </tr>\n",
       "    <tr>\n",
       "      <th>3</th>\n",
       "      <td>Germany</td>\n",
       "      <td>227050.0</td>\n",
       "      <td>20.0</td>\n",
       "      <td>91500.0</td>\n",
       "      <td>50192.0</td>\n",
       "    </tr>\n",
       "    <tr>\n",
       "      <th>4</th>\n",
       "      <td>Iran</td>\n",
       "      <td>132440.0</td>\n",
       "      <td>28.0</td>\n",
       "      <td>59273.0</td>\n",
       "      <td>19023.0</td>\n",
       "    </tr>\n",
       "  </tbody>\n",
       "</table>\n",
       "</div>"
      ],
      "text/plain": [
       "  countriesandterritories     cases  total_wuhan_visited  total_recovered  \\\n",
       "0                   Spain  304892.0                 13.0          80587.0   \n",
       "1                   Italy  287252.0                588.0          48877.0   \n",
       "2                  France  172668.0                 19.0          37409.0   \n",
       "3                 Germany  227050.0                 20.0          91500.0   \n",
       "4                    Iran  132440.0                 28.0          59273.0   \n",
       "\n",
       "   active_cases  \n",
       "0       98771.0  \n",
       "1      108237.0  \n",
       "2       97709.0  \n",
       "3       50192.0  \n",
       "4       19023.0  "
      ]
     },
     "execution_count": 45,
     "metadata": {},
     "output_type": "execute_result"
    }
   ],
   "source": [
    "all_data_df.head()"
   ]
  },
  {
   "cell_type": "code",
   "execution_count": 46,
   "metadata": {},
   "outputs": [
    {
     "name": "stdout",
     "output_type": "stream",
     "text": [
      "<class 'pandas.core.frame.DataFrame'>\n",
      "RangeIndex: 39 entries, 0 to 38\n",
      "Data columns (total 5 columns):\n",
      " #   Column                   Non-Null Count  Dtype  \n",
      "---  ------                   --------------  -----  \n",
      " 0   countriesandterritories  39 non-null     object \n",
      " 1   cases                    39 non-null     float64\n",
      " 2   total_wuhan_visited      39 non-null     float64\n",
      " 3   total_recovered          39 non-null     float64\n",
      " 4   active_cases             39 non-null     float64\n",
      "dtypes: float64(4), object(1)\n",
      "memory usage: 1.6+ KB\n"
     ]
    }
   ],
   "source": [
    "all_data_df.info()"
   ]
  },
  {
   "cell_type": "markdown",
   "metadata": {},
   "source": [
    "## Insert fetched data from db to    csv file"
   ]
  },
  {
   "cell_type": "code",
   "execution_count": 47,
   "metadata": {},
   "outputs": [],
   "source": [
    "filename=os.getcwd()+\"all_file_covid_data.csv\""
   ]
  },
  {
   "cell_type": "code",
   "execution_count": 48,
   "metadata": {},
   "outputs": [
    {
     "data": {
      "text/plain": [
       "'/Users/rahul/Documents/NCI/PROJECT/DAP/covid_19_group_3_code_19173105_19179391_18185975_19198400/Rahul_json_csvall_file_covid_data.csv'"
      ]
     },
     "execution_count": 48,
     "metadata": {},
     "output_type": "execute_result"
    }
   ],
   "source": [
    "filename"
   ]
  },
  {
   "cell_type": "code",
   "execution_count": 49,
   "metadata": {},
   "outputs": [
    {
     "name": "stdout",
     "output_type": "stream",
     "text": [
      "Data inserted successfull to the csv file: /Users/rahul/Documents/NCI/PROJECT/DAP/covid_19_group_3_code_19173105_19179391_18185975_19198400/Rahul_json_csvall_file_covid_data.csv\n"
     ]
    }
   ],
   "source": [
    "df_all_n=dbcon.insert_df_into_csv(all_data_df,filename)"
   ]
  },
  {
   "cell_type": "code",
   "execution_count": 50,
   "metadata": {},
   "outputs": [
    {
     "data": {
      "text/html": [
       "<div>\n",
       "<style scoped>\n",
       "    .dataframe tbody tr th:only-of-type {\n",
       "        vertical-align: middle;\n",
       "    }\n",
       "\n",
       "    .dataframe tbody tr th {\n",
       "        vertical-align: top;\n",
       "    }\n",
       "\n",
       "    .dataframe thead th {\n",
       "        text-align: right;\n",
       "    }\n",
       "</style>\n",
       "<table border=\"1\" class=\"dataframe\">\n",
       "  <thead>\n",
       "    <tr style=\"text-align: right;\">\n",
       "      <th></th>\n",
       "      <th>countriesandterritories</th>\n",
       "      <th>cases</th>\n",
       "      <th>total_wuhan_visited</th>\n",
       "      <th>total_recovered</th>\n",
       "      <th>active_cases</th>\n",
       "    </tr>\n",
       "  </thead>\n",
       "  <tbody>\n",
       "    <tr>\n",
       "      <th>0</th>\n",
       "      <td>Spain</td>\n",
       "      <td>304892.0</td>\n",
       "      <td>13.0</td>\n",
       "      <td>80587.0</td>\n",
       "      <td>98771.0</td>\n",
       "    </tr>\n",
       "    <tr>\n",
       "      <th>1</th>\n",
       "      <td>Italy</td>\n",
       "      <td>287252.0</td>\n",
       "      <td>588.0</td>\n",
       "      <td>48877.0</td>\n",
       "      <td>108237.0</td>\n",
       "    </tr>\n",
       "    <tr>\n",
       "      <th>2</th>\n",
       "      <td>France</td>\n",
       "      <td>172668.0</td>\n",
       "      <td>19.0</td>\n",
       "      <td>37409.0</td>\n",
       "      <td>97709.0</td>\n",
       "    </tr>\n",
       "    <tr>\n",
       "      <th>3</th>\n",
       "      <td>Germany</td>\n",
       "      <td>227050.0</td>\n",
       "      <td>20.0</td>\n",
       "      <td>91500.0</td>\n",
       "      <td>50192.0</td>\n",
       "    </tr>\n",
       "    <tr>\n",
       "      <th>4</th>\n",
       "      <td>Iran</td>\n",
       "      <td>132440.0</td>\n",
       "      <td>28.0</td>\n",
       "      <td>59273.0</td>\n",
       "      <td>19023.0</td>\n",
       "    </tr>\n",
       "  </tbody>\n",
       "</table>\n",
       "</div>"
      ],
      "text/plain": [
       "  countriesandterritories     cases  total_wuhan_visited  total_recovered  \\\n",
       "0                   Spain  304892.0                 13.0          80587.0   \n",
       "1                   Italy  287252.0                588.0          48877.0   \n",
       "2                  France  172668.0                 19.0          37409.0   \n",
       "3                 Germany  227050.0                 20.0          91500.0   \n",
       "4                    Iran  132440.0                 28.0          59273.0   \n",
       "\n",
       "   active_cases  \n",
       "0       98771.0  \n",
       "1      108237.0  \n",
       "2       97709.0  \n",
       "3       50192.0  \n",
       "4       19023.0  "
      ]
     },
     "execution_count": 50,
     "metadata": {},
     "output_type": "execute_result"
    }
   ],
   "source": [
    "df_all_n.head()"
   ]
  },
  {
   "cell_type": "markdown",
   "metadata": {},
   "source": [
    "## TWITTER data manipulation"
   ]
  },
  {
   "cell_type": "markdown",
   "metadata": {},
   "source": [
    "##  Save twitter json  data from postgres table to csv file"
   ]
  },
  {
   "cell_type": "code",
   "execution_count": 51,
   "metadata": {},
   "outputs": [],
   "source": [
    "table_name='tweet_json_tbl'\n",
    "query=\"SELECT * FROM \"+ table_name"
   ]
  },
  {
   "cell_type": "code",
   "execution_count": 52,
   "metadata": {},
   "outputs": [
    {
     "name": "stdout",
     "output_type": "stream",
     "text": [
      "Query run successful\n",
      "PostgreSQL connection is closed\n"
     ]
    }
   ],
   "source": [
    "df_json_twitter=dbcon.select_res_dataframe(query)"
   ]
  },
  {
   "cell_type": "code",
   "execution_count": 53,
   "metadata": {},
   "outputs": [
    {
     "data": {
      "text/html": [
       "<div>\n",
       "<style scoped>\n",
       "    .dataframe tbody tr th:only-of-type {\n",
       "        vertical-align: middle;\n",
       "    }\n",
       "\n",
       "    .dataframe tbody tr th {\n",
       "        vertical-align: top;\n",
       "    }\n",
       "\n",
       "    .dataframe thead th {\n",
       "        text-align: right;\n",
       "    }\n",
       "</style>\n",
       "<table border=\"1\" class=\"dataframe\">\n",
       "  <thead>\n",
       "    <tr style=\"text-align: right;\">\n",
       "      <th></th>\n",
       "      <th>id</th>\n",
       "      <th>text</th>\n",
       "      <th>user_name</th>\n",
       "      <th>created_at</th>\n",
       "      <th>location</th>\n",
       "      <th>timestamp_ms</th>\n",
       "      <th>quote_count</th>\n",
       "      <th>reply_count</th>\n",
       "      <th>retweet_count</th>\n",
       "      <th>favorite_count</th>\n",
       "      <th>hashtags</th>\n",
       "    </tr>\n",
       "  </thead>\n",
       "  <tbody>\n",
       "    <tr>\n",
       "      <th>0</th>\n",
       "      <td>1.250014e+18</td>\n",
       "      <td>RT @eileeniorio: Talking to the @BBCNews  @Bil...</td>\n",
       "      <td>ChrisJGodlewski</td>\n",
       "      <td>Tue Apr 14 10:53:12 +0000 2020</td>\n",
       "      <td>Alsace, France</td>\n",
       "      <td>1.586862e+12</td>\n",
       "      <td>0.0</td>\n",
       "      <td>0.0</td>\n",
       "      <td>0.0</td>\n",
       "      <td>0.0</td>\n",
       "      <td>COVID19</td>\n",
       "    </tr>\n",
       "    <tr>\n",
       "      <th>1</th>\n",
       "      <td>1.250014e+18</td>\n",
       "      <td>My tribute for today. Congratulations on  exec...</td>\n",
       "      <td>bearhugz25</td>\n",
       "      <td>Tue Apr 14 10:53:12 +0000 2020</td>\n",
       "      <td>Philippines</td>\n",
       "      <td>1.586862e+12</td>\n",
       "      <td>0.0</td>\n",
       "      <td>0.0</td>\n",
       "      <td>0.0</td>\n",
       "      <td>0.0</td>\n",
       "      <td>None</td>\n",
       "    </tr>\n",
       "    <tr>\n",
       "      <th>2</th>\n",
       "      <td>1.250014e+18</td>\n",
       "      <td>RT @covid19esp_: 🗞☣ #COVID19 14/4 - 12h\\n\\n☣ 1...</td>\n",
       "      <td>margarjimen</td>\n",
       "      <td>Tue Apr 14 10:53:12 +0000 2020</td>\n",
       "      <td>None</td>\n",
       "      <td>1.586862e+12</td>\n",
       "      <td>0.0</td>\n",
       "      <td>0.0</td>\n",
       "      <td>0.0</td>\n",
       "      <td>0.0</td>\n",
       "      <td>COVID19</td>\n",
       "    </tr>\n",
       "    <tr>\n",
       "      <th>3</th>\n",
       "      <td>1.250014e+18</td>\n",
       "      <td>RT @Brevesdepresse: ⚡🇲🇫FLASH - Considérés comm...</td>\n",
       "      <td>Reazy92i</td>\n",
       "      <td>Tue Apr 14 10:53:12 +0000 2020</td>\n",
       "      <td>Poitiers, France</td>\n",
       "      <td>1.586862e+12</td>\n",
       "      <td>0.0</td>\n",
       "      <td>0.0</td>\n",
       "      <td>0.0</td>\n",
       "      <td>0.0</td>\n",
       "      <td>infirmiers</td>\n",
       "    </tr>\n",
       "    <tr>\n",
       "      <th>4</th>\n",
       "      <td>1.250014e+18</td>\n",
       "      <td>Ok @opodo I'm now at the end of my tether. Had...</td>\n",
       "      <td>Lesley_Allen_</td>\n",
       "      <td>Tue Apr 14 10:53:12 +0000 2020</td>\n",
       "      <td>Bangor Co Down</td>\n",
       "      <td>1.586862e+12</td>\n",
       "      <td>0.0</td>\n",
       "      <td>0.0</td>\n",
       "      <td>0.0</td>\n",
       "      <td>0.0</td>\n",
       "      <td>None</td>\n",
       "    </tr>\n",
       "  </tbody>\n",
       "</table>\n",
       "</div>"
      ],
      "text/plain": [
       "             id                                               text  \\\n",
       "0  1.250014e+18  RT @eileeniorio: Talking to the @BBCNews  @Bil...   \n",
       "1  1.250014e+18  My tribute for today. Congratulations on  exec...   \n",
       "2  1.250014e+18  RT @covid19esp_: 🗞☣ #COVID19 14/4 - 12h\\n\\n☣ 1...   \n",
       "3  1.250014e+18  RT @Brevesdepresse: ⚡🇲🇫FLASH - Considérés comm...   \n",
       "4  1.250014e+18  Ok @opodo I'm now at the end of my tether. Had...   \n",
       "\n",
       "         user_name                      created_at          location  \\\n",
       "0  ChrisJGodlewski  Tue Apr 14 10:53:12 +0000 2020    Alsace, France   \n",
       "1       bearhugz25  Tue Apr 14 10:53:12 +0000 2020       Philippines   \n",
       "2      margarjimen  Tue Apr 14 10:53:12 +0000 2020              None   \n",
       "3         Reazy92i  Tue Apr 14 10:53:12 +0000 2020  Poitiers, France   \n",
       "4    Lesley_Allen_  Tue Apr 14 10:53:12 +0000 2020    Bangor Co Down   \n",
       "\n",
       "   timestamp_ms  quote_count  reply_count  retweet_count  favorite_count  \\\n",
       "0  1.586862e+12          0.0          0.0            0.0             0.0   \n",
       "1  1.586862e+12          0.0          0.0            0.0             0.0   \n",
       "2  1.586862e+12          0.0          0.0            0.0             0.0   \n",
       "3  1.586862e+12          0.0          0.0            0.0             0.0   \n",
       "4  1.586862e+12          0.0          0.0            0.0             0.0   \n",
       "\n",
       "     hashtags  \n",
       "0     COVID19  \n",
       "1        None  \n",
       "2     COVID19  \n",
       "3  infirmiers  \n",
       "4        None  "
      ]
     },
     "execution_count": 53,
     "metadata": {},
     "output_type": "execute_result"
    }
   ],
   "source": [
    "df_json_twitter.head()"
   ]
  },
  {
   "cell_type": "code",
   "execution_count": 54,
   "metadata": {},
   "outputs": [
    {
     "name": "stdout",
     "output_type": "stream",
     "text": [
      "<class 'pandas.core.frame.DataFrame'>\n",
      "RangeIndex: 1000 entries, 0 to 999\n",
      "Data columns (total 11 columns):\n",
      " #   Column          Non-Null Count  Dtype  \n",
      "---  ------          --------------  -----  \n",
      " 0   id              1000 non-null   float64\n",
      " 1   text            1000 non-null   object \n",
      " 2   user_name       1000 non-null   object \n",
      " 3   created_at      1000 non-null   object \n",
      " 4   location        652 non-null    object \n",
      " 5   timestamp_ms    1000 non-null   float64\n",
      " 6   quote_count     1000 non-null   float64\n",
      " 7   reply_count     1000 non-null   float64\n",
      " 8   retweet_count   1000 non-null   float64\n",
      " 9   favorite_count  1000 non-null   float64\n",
      " 10  hashtags        495 non-null    object \n",
      "dtypes: float64(6), object(5)\n",
      "memory usage: 86.1+ KB\n"
     ]
    }
   ],
   "source": [
    "df_json_twitter.info()"
   ]
  },
  {
   "cell_type": "code",
   "execution_count": 55,
   "metadata": {},
   "outputs": [],
   "source": [
    "df_json_twitter.dropna(subset=['location'],inplace=True)"
   ]
  },
  {
   "cell_type": "code",
   "execution_count": 56,
   "metadata": {},
   "outputs": [
    {
     "name": "stdout",
     "output_type": "stream",
     "text": [
      "<class 'pandas.core.frame.DataFrame'>\n",
      "Int64Index: 652 entries, 0 to 999\n",
      "Data columns (total 11 columns):\n",
      " #   Column          Non-Null Count  Dtype  \n",
      "---  ------          --------------  -----  \n",
      " 0   id              652 non-null    float64\n",
      " 1   text            652 non-null    object \n",
      " 2   user_name       652 non-null    object \n",
      " 3   created_at      652 non-null    object \n",
      " 4   location        652 non-null    object \n",
      " 5   timestamp_ms    652 non-null    float64\n",
      " 6   quote_count     652 non-null    float64\n",
      " 7   reply_count     652 non-null    float64\n",
      " 8   retweet_count   652 non-null    float64\n",
      " 9   favorite_count  652 non-null    float64\n",
      " 10  hashtags        336 non-null    object \n",
      "dtypes: float64(6), object(5)\n",
      "memory usage: 61.1+ KB\n"
     ]
    }
   ],
   "source": [
    "df_json_twitter.info()"
   ]
  },
  {
   "cell_type": "code",
   "execution_count": 57,
   "metadata": {},
   "outputs": [],
   "source": [
    "file_name='/tweet_json.csv'\n",
    "filpath=os.getcwd()+file_name"
   ]
  },
  {
   "cell_type": "code",
   "execution_count": 58,
   "metadata": {},
   "outputs": [
    {
     "name": "stdout",
     "output_type": "stream",
     "text": [
      "Data inserted successfull to the csv file: /Users/rahul/Documents/NCI/PROJECT/DAP/covid_19_group_3_code_19173105_19179391_18185975_19198400/Rahul_json_csv/tweet_json.csv\n"
     ]
    }
   ],
   "source": [
    "df_tweet_new=dbcon.insert_df_into_csv(df_json_twitter,filpath)"
   ]
  },
  {
   "cell_type": "code",
   "execution_count": 59,
   "metadata": {},
   "outputs": [
    {
     "data": {
      "text/html": [
       "<div>\n",
       "<style scoped>\n",
       "    .dataframe tbody tr th:only-of-type {\n",
       "        vertical-align: middle;\n",
       "    }\n",
       "\n",
       "    .dataframe tbody tr th {\n",
       "        vertical-align: top;\n",
       "    }\n",
       "\n",
       "    .dataframe thead th {\n",
       "        text-align: right;\n",
       "    }\n",
       "</style>\n",
       "<table border=\"1\" class=\"dataframe\">\n",
       "  <thead>\n",
       "    <tr style=\"text-align: right;\">\n",
       "      <th></th>\n",
       "      <th>id</th>\n",
       "      <th>text</th>\n",
       "      <th>user_name</th>\n",
       "      <th>created_at</th>\n",
       "      <th>location</th>\n",
       "      <th>timestamp_ms</th>\n",
       "      <th>quote_count</th>\n",
       "      <th>reply_count</th>\n",
       "      <th>retweet_count</th>\n",
       "      <th>favorite_count</th>\n",
       "      <th>hashtags</th>\n",
       "    </tr>\n",
       "  </thead>\n",
       "  <tbody>\n",
       "    <tr>\n",
       "      <th>0</th>\n",
       "      <td>1.250014e+18</td>\n",
       "      <td>RT @eileeniorio: Talking to the @BBCNews  @Bil...</td>\n",
       "      <td>ChrisJGodlewski</td>\n",
       "      <td>Tue Apr 14 10:53:12 +0000 2020</td>\n",
       "      <td>Alsace, France</td>\n",
       "      <td>1.586862e+12</td>\n",
       "      <td>0.0</td>\n",
       "      <td>0.0</td>\n",
       "      <td>0.0</td>\n",
       "      <td>0.0</td>\n",
       "      <td>COVID19</td>\n",
       "    </tr>\n",
       "    <tr>\n",
       "      <th>1</th>\n",
       "      <td>1.250014e+18</td>\n",
       "      <td>My tribute for today. Congratulations on  exec...</td>\n",
       "      <td>bearhugz25</td>\n",
       "      <td>Tue Apr 14 10:53:12 +0000 2020</td>\n",
       "      <td>Philippines</td>\n",
       "      <td>1.586862e+12</td>\n",
       "      <td>0.0</td>\n",
       "      <td>0.0</td>\n",
       "      <td>0.0</td>\n",
       "      <td>0.0</td>\n",
       "      <td>NaN</td>\n",
       "    </tr>\n",
       "    <tr>\n",
       "      <th>2</th>\n",
       "      <td>1.250014e+18</td>\n",
       "      <td>RT @Brevesdepresse: ⚡🇲🇫FLASH - Considérés comm...</td>\n",
       "      <td>Reazy92i</td>\n",
       "      <td>Tue Apr 14 10:53:12 +0000 2020</td>\n",
       "      <td>Poitiers, France</td>\n",
       "      <td>1.586862e+12</td>\n",
       "      <td>0.0</td>\n",
       "      <td>0.0</td>\n",
       "      <td>0.0</td>\n",
       "      <td>0.0</td>\n",
       "      <td>infirmiers</td>\n",
       "    </tr>\n",
       "    <tr>\n",
       "      <th>3</th>\n",
       "      <td>1.250014e+18</td>\n",
       "      <td>Ok @opodo I'm now at the end of my tether. Had...</td>\n",
       "      <td>Lesley_Allen_</td>\n",
       "      <td>Tue Apr 14 10:53:12 +0000 2020</td>\n",
       "      <td>Bangor Co Down</td>\n",
       "      <td>1.586862e+12</td>\n",
       "      <td>0.0</td>\n",
       "      <td>0.0</td>\n",
       "      <td>0.0</td>\n",
       "      <td>0.0</td>\n",
       "      <td>NaN</td>\n",
       "    </tr>\n",
       "    <tr>\n",
       "      <th>4</th>\n",
       "      <td>1.250014e+18</td>\n",
       "      <td>RT @PresidenciaSV: Este es el Decreto Ejecutiv...</td>\n",
       "      <td>tecmel1</td>\n",
       "      <td>Tue Apr 14 10:53:12 +0000 2020</td>\n",
       "      <td>el salvador</td>\n",
       "      <td>1.586862e+12</td>\n",
       "      <td>0.0</td>\n",
       "      <td>0.0</td>\n",
       "      <td>0.0</td>\n",
       "      <td>0.0</td>\n",
       "      <td>NaN</td>\n",
       "    </tr>\n",
       "  </tbody>\n",
       "</table>\n",
       "</div>"
      ],
      "text/plain": [
       "             id                                               text  \\\n",
       "0  1.250014e+18  RT @eileeniorio: Talking to the @BBCNews  @Bil...   \n",
       "1  1.250014e+18  My tribute for today. Congratulations on  exec...   \n",
       "2  1.250014e+18  RT @Brevesdepresse: ⚡🇲🇫FLASH - Considérés comm...   \n",
       "3  1.250014e+18  Ok @opodo I'm now at the end of my tether. Had...   \n",
       "4  1.250014e+18  RT @PresidenciaSV: Este es el Decreto Ejecutiv...   \n",
       "\n",
       "         user_name                      created_at          location  \\\n",
       "0  ChrisJGodlewski  Tue Apr 14 10:53:12 +0000 2020    Alsace, France   \n",
       "1       bearhugz25  Tue Apr 14 10:53:12 +0000 2020       Philippines   \n",
       "2         Reazy92i  Tue Apr 14 10:53:12 +0000 2020  Poitiers, France   \n",
       "3    Lesley_Allen_  Tue Apr 14 10:53:12 +0000 2020    Bangor Co Down   \n",
       "4          tecmel1  Tue Apr 14 10:53:12 +0000 2020       el salvador   \n",
       "\n",
       "   timestamp_ms  quote_count  reply_count  retweet_count  favorite_count  \\\n",
       "0  1.586862e+12          0.0          0.0            0.0             0.0   \n",
       "1  1.586862e+12          0.0          0.0            0.0             0.0   \n",
       "2  1.586862e+12          0.0          0.0            0.0             0.0   \n",
       "3  1.586862e+12          0.0          0.0            0.0             0.0   \n",
       "4  1.586862e+12          0.0          0.0            0.0             0.0   \n",
       "\n",
       "     hashtags  \n",
       "0     COVID19  \n",
       "1         NaN  \n",
       "2  infirmiers  \n",
       "3         NaN  \n",
       "4         NaN  "
      ]
     },
     "execution_count": 59,
     "metadata": {},
     "output_type": "execute_result"
    }
   ],
   "source": [
    "df_tweet_new.head()"
   ]
  },
  {
   "cell_type": "code",
   "execution_count": 60,
   "metadata": {},
   "outputs": [
    {
     "name": "stdout",
     "output_type": "stream",
     "text": [
      "<class 'pandas.core.frame.DataFrame'>\n",
      "RangeIndex: 652 entries, 0 to 651\n",
      "Data columns (total 11 columns):\n",
      " #   Column          Non-Null Count  Dtype  \n",
      "---  ------          --------------  -----  \n",
      " 0   id              652 non-null    float64\n",
      " 1   text            652 non-null    object \n",
      " 2   user_name       652 non-null    object \n",
      " 3   created_at      652 non-null    object \n",
      " 4   location        652 non-null    object \n",
      " 5   timestamp_ms    652 non-null    float64\n",
      " 6   quote_count     652 non-null    float64\n",
      " 7   reply_count     652 non-null    float64\n",
      " 8   retweet_count   652 non-null    float64\n",
      " 9   favorite_count  652 non-null    float64\n",
      " 10  hashtags        336 non-null    object \n",
      "dtypes: float64(6), object(5)\n",
      "memory usage: 56.2+ KB\n"
     ]
    }
   ],
   "source": [
    "df_tweet_new.info()"
   ]
  },
  {
   "cell_type": "code",
   "execution_count": null,
   "metadata": {},
   "outputs": [],
   "source": []
  },
  {
   "cell_type": "code",
   "execution_count": null,
   "metadata": {},
   "outputs": [],
   "source": []
  },
  {
   "cell_type": "code",
   "execution_count": null,
   "metadata": {},
   "outputs": [],
   "source": []
  },
  {
   "cell_type": "code",
   "execution_count": null,
   "metadata": {},
   "outputs": [],
   "source": []
  }
 ],
 "metadata": {
  "kernelspec": {
   "display_name": "Python 3",
   "language": "python",
   "name": "python3"
  },
  "language_info": {
   "codemirror_mode": {
    "name": "ipython",
    "version": 3
   },
   "file_extension": ".py",
   "mimetype": "text/x-python",
   "name": "python",
   "nbconvert_exporter": "python",
   "pygments_lexer": "ipython3",
   "version": "3.7.6"
  }
 },
 "nbformat": 4,
 "nbformat_minor": 4
}
