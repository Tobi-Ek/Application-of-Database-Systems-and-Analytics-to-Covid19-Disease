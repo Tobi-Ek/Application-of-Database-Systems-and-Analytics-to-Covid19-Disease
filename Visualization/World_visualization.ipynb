{
 "cells": [
  {
   "cell_type": "code",
   "execution_count": 1,
   "metadata": {},
   "outputs": [],
   "source": [
    "import pandas as pd\n",
    "import numpy as np\n",
    "import matplotlib.pyplot as plt\n",
    "import plotly.graph_objects as go"
   ]
  },
  {
   "cell_type": "code",
   "execution_count": 2,
   "metadata": {},
   "outputs": [
    {
     "data": {
      "text/html": [
       "<div>\n",
       "<style scoped>\n",
       "    .dataframe tbody tr th:only-of-type {\n",
       "        vertical-align: middle;\n",
       "    }\n",
       "\n",
       "    .dataframe tbody tr th {\n",
       "        vertical-align: top;\n",
       "    }\n",
       "\n",
       "    .dataframe thead th {\n",
       "        text-align: right;\n",
       "    }\n",
       "</style>\n",
       "<table border=\"1\" class=\"dataframe\">\n",
       "  <thead>\n",
       "    <tr style=\"text-align: right;\">\n",
       "      <th></th>\n",
       "      <th>w_id</th>\n",
       "      <th>Country</th>\n",
       "      <th>TotalCases</th>\n",
       "      <th>NewCases</th>\n",
       "      <th>TotalDeaths</th>\n",
       "      <th>NewDeaths</th>\n",
       "      <th>TotalRecovered</th>\n",
       "      <th>ActiveCases</th>\n",
       "      <th>Serious_Critical</th>\n",
       "      <th>Total Cases/1M pop</th>\n",
       "      <th>Deaths/1M pop</th>\n",
       "      <th>TotalTests</th>\n",
       "      <th>Tests/1M pop\\n</th>\n",
       "      <th>Continent</th>\n",
       "    </tr>\n",
       "  </thead>\n",
       "  <tbody>\n",
       "    <tr>\n",
       "      <td>0</td>\n",
       "      <td>1</td>\n",
       "      <td>World</td>\n",
       "      <td>24,66,305</td>\n",
       "      <td>59,730</td>\n",
       "      <td>1,69,338</td>\n",
       "      <td>4,307</td>\n",
       "      <td>6,44,589</td>\n",
       "      <td>16,52,378</td>\n",
       "      <td>56,385</td>\n",
       "      <td>316</td>\n",
       "      <td>21.7</td>\n",
       "      <td>NaN</td>\n",
       "      <td>NaN</td>\n",
       "      <td>All</td>\n",
       "    </tr>\n",
       "    <tr>\n",
       "      <td>1</td>\n",
       "      <td>2</td>\n",
       "      <td>\\nEurope\\n</td>\n",
       "      <td>11,12,337</td>\n",
       "      <td>23,081</td>\n",
       "      <td>1,04,334</td>\n",
       "      <td>2,498</td>\n",
       "      <td>3,21,520</td>\n",
       "      <td>6,86,483</td>\n",
       "      <td>26,126</td>\n",
       "      <td>NaN</td>\n",
       "      <td>NaN</td>\n",
       "      <td>NaN</td>\n",
       "      <td>NaN</td>\n",
       "      <td>Europe</td>\n",
       "    </tr>\n",
       "    <tr>\n",
       "      <td>2</td>\n",
       "      <td>3</td>\n",
       "      <td>\\nNorth America\\n</td>\n",
       "      <td>8,41,423</td>\n",
       "      <td>21,340</td>\n",
       "      <td>44,686</td>\n",
       "      <td>1,349</td>\n",
       "      <td>88,094</td>\n",
       "      <td>7,08,643</td>\n",
       "      <td>14,662</td>\n",
       "      <td>NaN</td>\n",
       "      <td>NaN</td>\n",
       "      <td>NaN</td>\n",
       "      <td>NaN</td>\n",
       "      <td>North America</td>\n",
       "    </tr>\n",
       "    <tr>\n",
       "      <td>3</td>\n",
       "      <td>4</td>\n",
       "      <td>USA</td>\n",
       "      <td>7,82,987</td>\n",
       "      <td>18,351</td>\n",
       "      <td>41,777</td>\n",
       "      <td>1,202</td>\n",
       "      <td>71,770</td>\n",
       "      <td>6,69,440</td>\n",
       "      <td>13,576</td>\n",
       "      <td>2,366</td>\n",
       "      <td>126</td>\n",
       "      <td>39,74,114</td>\n",
       "      <td>12,006</td>\n",
       "      <td>North America</td>\n",
       "    </tr>\n",
       "    <tr>\n",
       "      <td>4</td>\n",
       "      <td>5</td>\n",
       "      <td>\\nAsia\\n</td>\n",
       "      <td>3,94,769</td>\n",
       "      <td>11,612</td>\n",
       "      <td>15,072</td>\n",
       "      <td>286</td>\n",
       "      <td>1,85,776</td>\n",
       "      <td>1,93,921</td>\n",
       "      <td>6,310</td>\n",
       "      <td>NaN</td>\n",
       "      <td>NaN</td>\n",
       "      <td>NaN</td>\n",
       "      <td>NaN</td>\n",
       "      <td>Asia</td>\n",
       "    </tr>\n",
       "    <tr>\n",
       "      <td>...</td>\n",
       "      <td>...</td>\n",
       "      <td>...</td>\n",
       "      <td>...</td>\n",
       "      <td>...</td>\n",
       "      <td>...</td>\n",
       "      <td>...</td>\n",
       "      <td>...</td>\n",
       "      <td>...</td>\n",
       "      <td>...</td>\n",
       "      <td>...</td>\n",
       "      <td>...</td>\n",
       "      <td>...</td>\n",
       "      <td>...</td>\n",
       "      <td>...</td>\n",
       "    </tr>\n",
       "    <tr>\n",
       "      <td>214</td>\n",
       "      <td>215</td>\n",
       "      <td>Sao Tome and Principe</td>\n",
       "      <td>4</td>\n",
       "      <td>NaN</td>\n",
       "      <td></td>\n",
       "      <td>NaN</td>\n",
       "      <td>NaN</td>\n",
       "      <td>4</td>\n",
       "      <td>NaN</td>\n",
       "      <td>18</td>\n",
       "      <td>NaN</td>\n",
       "      <td>19</td>\n",
       "      <td>87</td>\n",
       "      <td>Africa</td>\n",
       "    </tr>\n",
       "    <tr>\n",
       "      <td>215</td>\n",
       "      <td>216</td>\n",
       "      <td>South Sudan</td>\n",
       "      <td>4</td>\n",
       "      <td>NaN</td>\n",
       "      <td></td>\n",
       "      <td>NaN</td>\n",
       "      <td>NaN</td>\n",
       "      <td>4</td>\n",
       "      <td>NaN</td>\n",
       "      <td>0.4</td>\n",
       "      <td>NaN</td>\n",
       "      <td>NaN</td>\n",
       "      <td>NaN</td>\n",
       "      <td>Africa</td>\n",
       "    </tr>\n",
       "    <tr>\n",
       "      <td>216</td>\n",
       "      <td>217</td>\n",
       "      <td>Anguilla</td>\n",
       "      <td>3</td>\n",
       "      <td>NaN</td>\n",
       "      <td></td>\n",
       "      <td>NaN</td>\n",
       "      <td>1</td>\n",
       "      <td>2</td>\n",
       "      <td>NaN</td>\n",
       "      <td>200</td>\n",
       "      <td>NaN</td>\n",
       "      <td>NaN</td>\n",
       "      <td>NaN</td>\n",
       "      <td>North America</td>\n",
       "    </tr>\n",
       "    <tr>\n",
       "      <td>217</td>\n",
       "      <td>218</td>\n",
       "      <td>Saint Pierre Miquelon</td>\n",
       "      <td>1</td>\n",
       "      <td>NaN</td>\n",
       "      <td></td>\n",
       "      <td>NaN</td>\n",
       "      <td>NaN</td>\n",
       "      <td>1</td>\n",
       "      <td>NaN</td>\n",
       "      <td>173</td>\n",
       "      <td>NaN</td>\n",
       "      <td>NaN</td>\n",
       "      <td>NaN</td>\n",
       "      <td>North America</td>\n",
       "    </tr>\n",
       "    <tr>\n",
       "      <td>218</td>\n",
       "      <td>219</td>\n",
       "      <td>Yemen</td>\n",
       "      <td>1</td>\n",
       "      <td>NaN</td>\n",
       "      <td></td>\n",
       "      <td>NaN</td>\n",
       "      <td>NaN</td>\n",
       "      <td>1</td>\n",
       "      <td>NaN</td>\n",
       "      <td>0.03</td>\n",
       "      <td>NaN</td>\n",
       "      <td>NaN</td>\n",
       "      <td>NaN</td>\n",
       "      <td>Asia</td>\n",
       "    </tr>\n",
       "  </tbody>\n",
       "</table>\n",
       "<p>219 rows × 14 columns</p>\n",
       "</div>"
      ],
      "text/plain": [
       "     w_id                Country TotalCases NewCases TotalDeaths NewDeaths  \\\n",
       "0       1                  World  24,66,305   59,730    1,69,338     4,307   \n",
       "1       2             \\nEurope\\n  11,12,337   23,081    1,04,334     2,498   \n",
       "2       3      \\nNorth America\\n   8,41,423   21,340      44,686     1,349   \n",
       "3       4                    USA   7,82,987   18,351      41,777     1,202   \n",
       "4       5               \\nAsia\\n   3,94,769   11,612      15,072       286   \n",
       "..    ...                    ...        ...      ...         ...       ...   \n",
       "214   215  Sao Tome and Principe          4      NaN                   NaN   \n",
       "215   216            South Sudan          4      NaN                   NaN   \n",
       "216   217               Anguilla          3      NaN                   NaN   \n",
       "217   218  Saint Pierre Miquelon          1      NaN                   NaN   \n",
       "218   219                  Yemen          1      NaN                   NaN   \n",
       "\n",
       "    TotalRecovered ActiveCases Serious_Critical Total Cases/1M pop  \\\n",
       "0         6,44,589   16,52,378           56,385                316   \n",
       "1         3,21,520    6,86,483           26,126                NaN   \n",
       "2           88,094    7,08,643           14,662                NaN   \n",
       "3           71,770    6,69,440           13,576              2,366   \n",
       "4         1,85,776    1,93,921            6,310                NaN   \n",
       "..             ...         ...              ...                ...   \n",
       "214            NaN           4              NaN                 18   \n",
       "215            NaN           4              NaN                0.4   \n",
       "216              1           2              NaN                200   \n",
       "217            NaN           1              NaN                173   \n",
       "218            NaN           1              NaN               0.03   \n",
       "\n",
       "    Deaths/1M pop TotalTests Tests/1M pop\\n      Continent  \n",
       "0            21.7        NaN            NaN            All  \n",
       "1             NaN        NaN            NaN         Europe  \n",
       "2             NaN        NaN            NaN  North America  \n",
       "3             126  39,74,114         12,006  North America  \n",
       "4             NaN        NaN            NaN           Asia  \n",
       "..            ...        ...            ...            ...  \n",
       "214           NaN         19             87         Africa  \n",
       "215           NaN        NaN            NaN         Africa  \n",
       "216           NaN        NaN            NaN  North America  \n",
       "217           NaN        NaN            NaN  North America  \n",
       "218           NaN        NaN            NaN           Asia  \n",
       "\n",
       "[219 rows x 14 columns]"
      ]
     },
     "execution_count": 2,
     "metadata": {},
     "output_type": "execute_result"
    }
   ],
   "source": [
    "df=pd.read_csv('covid_Worldometer.csv')\n",
    "df"
   ]
  },
  {
   "cell_type": "code",
   "execution_count": 3,
   "metadata": {},
   "outputs": [],
   "source": [
    "nan_value = float(\"NaN\")\n",
    "df.replace(\"\", nan_value, inplace=True)\n",
    "df.dropna(subset = [\"NewCases\"], inplace=True)"
   ]
  },
  {
   "cell_type": "code",
   "execution_count": 4,
   "metadata": {},
   "outputs": [],
   "source": [
    "nan_value = float(\"NaN\")\n",
    "df.replace(\"\", nan_value, inplace=True)\n",
    "df.dropna(subset = [\"Serious_Critical\"], inplace=True)"
   ]
  },
  {
   "cell_type": "code",
   "execution_count": 5,
   "metadata": {},
   "outputs": [],
   "source": [
    "nan_value = float(\"NaN\")\n",
    "df.replace(\"\", nan_value, inplace=True)\n",
    "df.dropna(subset = [\"TotalRecovered\"], inplace=True)"
   ]
  },
  {
   "cell_type": "code",
   "execution_count": 6,
   "metadata": {},
   "outputs": [
    {
     "data": {
      "text/html": [
       "<div>\n",
       "<style scoped>\n",
       "    .dataframe tbody tr th:only-of-type {\n",
       "        vertical-align: middle;\n",
       "    }\n",
       "\n",
       "    .dataframe tbody tr th {\n",
       "        vertical-align: top;\n",
       "    }\n",
       "\n",
       "    .dataframe thead th {\n",
       "        text-align: right;\n",
       "    }\n",
       "</style>\n",
       "<table border=\"1\" class=\"dataframe\">\n",
       "  <thead>\n",
       "    <tr style=\"text-align: right;\">\n",
       "      <th></th>\n",
       "      <th>w_id</th>\n",
       "      <th>Country</th>\n",
       "      <th>TotalCases</th>\n",
       "      <th>NewCases</th>\n",
       "      <th>TotalDeaths</th>\n",
       "      <th>NewDeaths</th>\n",
       "      <th>TotalRecovered</th>\n",
       "      <th>ActiveCases</th>\n",
       "      <th>Serious_Critical</th>\n",
       "      <th>Total Cases/1M pop</th>\n",
       "      <th>Deaths/1M pop</th>\n",
       "      <th>TotalTests</th>\n",
       "      <th>Tests/1M pop\\n</th>\n",
       "      <th>Continent</th>\n",
       "    </tr>\n",
       "  </thead>\n",
       "  <tbody>\n",
       "    <tr>\n",
       "      <td>3</td>\n",
       "      <td>4</td>\n",
       "      <td>USA</td>\n",
       "      <td>7,82,987</td>\n",
       "      <td>18,351</td>\n",
       "      <td>41,777</td>\n",
       "      <td>1,202</td>\n",
       "      <td>71,770</td>\n",
       "      <td>6,69,440</td>\n",
       "      <td>13,576</td>\n",
       "      <td>2,366</td>\n",
       "      <td>126</td>\n",
       "      <td>39,74,114</td>\n",
       "      <td>12,006</td>\n",
       "      <td>North America</td>\n",
       "    </tr>\n",
       "    <tr>\n",
       "      <td>5</td>\n",
       "      <td>6</td>\n",
       "      <td>Spain</td>\n",
       "      <td>2,00,210</td>\n",
       "      <td>1,536</td>\n",
       "      <td>20,852</td>\n",
       "      <td>399</td>\n",
       "      <td>80,587</td>\n",
       "      <td>98,771</td>\n",
       "      <td>7,371</td>\n",
       "      <td>4,282</td>\n",
       "      <td>446</td>\n",
       "      <td>9,30,230</td>\n",
       "      <td>19,896</td>\n",
       "      <td>Europe</td>\n",
       "    </tr>\n",
       "    <tr>\n",
       "      <td>6</td>\n",
       "      <td>7</td>\n",
       "      <td>Italy</td>\n",
       "      <td>1,81,228</td>\n",
       "      <td>2,256</td>\n",
       "      <td>24,114</td>\n",
       "      <td>454</td>\n",
       "      <td>48,877</td>\n",
       "      <td>1,08,237</td>\n",
       "      <td>2,573</td>\n",
       "      <td>2,997</td>\n",
       "      <td>399</td>\n",
       "      <td>13,98,024</td>\n",
       "      <td>23,122</td>\n",
       "      <td>Europe</td>\n",
       "    </tr>\n",
       "    <tr>\n",
       "      <td>7</td>\n",
       "      <td>8</td>\n",
       "      <td>France</td>\n",
       "      <td>1,55,383</td>\n",
       "      <td>2,489</td>\n",
       "      <td>20,265</td>\n",
       "      <td>547</td>\n",
       "      <td>37,409</td>\n",
       "      <td>97,709</td>\n",
       "      <td>5,683</td>\n",
       "      <td>2,380</td>\n",
       "      <td>310</td>\n",
       "      <td>4,63,662</td>\n",
       "      <td>7,103</td>\n",
       "      <td>Europe</td>\n",
       "    </tr>\n",
       "    <tr>\n",
       "      <td>8</td>\n",
       "      <td>9</td>\n",
       "      <td>Germany</td>\n",
       "      <td>1,46,398</td>\n",
       "      <td>656</td>\n",
       "      <td>4,706</td>\n",
       "      <td>64</td>\n",
       "      <td>91,500</td>\n",
       "      <td>50,192</td>\n",
       "      <td>2,889</td>\n",
       "      <td>1,747</td>\n",
       "      <td>56</td>\n",
       "      <td>17,28,357</td>\n",
       "      <td>20,629</td>\n",
       "      <td>Europe</td>\n",
       "    </tr>\n",
       "    <tr>\n",
       "      <td>...</td>\n",
       "      <td>...</td>\n",
       "      <td>...</td>\n",
       "      <td>...</td>\n",
       "      <td>...</td>\n",
       "      <td>...</td>\n",
       "      <td>...</td>\n",
       "      <td>...</td>\n",
       "      <td>...</td>\n",
       "      <td>...</td>\n",
       "      <td>...</td>\n",
       "      <td>...</td>\n",
       "      <td>...</td>\n",
       "      <td>...</td>\n",
       "      <td>...</td>\n",
       "    </tr>\n",
       "    <tr>\n",
       "      <td>128</td>\n",
       "      <td>129</td>\n",
       "      <td>El Salvador</td>\n",
       "      <td>218</td>\n",
       "      <td>17</td>\n",
       "      <td>7</td>\n",
       "      <td>NaN</td>\n",
       "      <td>46</td>\n",
       "      <td>165</td>\n",
       "      <td>2</td>\n",
       "      <td>34</td>\n",
       "      <td>1</td>\n",
       "      <td>12,210</td>\n",
       "      <td>1,882</td>\n",
       "      <td>North America</td>\n",
       "    </tr>\n",
       "    <tr>\n",
       "      <td>129</td>\n",
       "      <td>130</td>\n",
       "      <td>Paraguay</td>\n",
       "      <td>208</td>\n",
       "      <td>2</td>\n",
       "      <td>8</td>\n",
       "      <td>NaN</td>\n",
       "      <td>46</td>\n",
       "      <td>154</td>\n",
       "      <td>1</td>\n",
       "      <td>29</td>\n",
       "      <td>1</td>\n",
       "      <td>4,950</td>\n",
       "      <td>694</td>\n",
       "      <td>South America</td>\n",
       "    </tr>\n",
       "    <tr>\n",
       "      <td>143</td>\n",
       "      <td>144</td>\n",
       "      <td>Ethiopia</td>\n",
       "      <td>111</td>\n",
       "      <td>3</td>\n",
       "      <td>3</td>\n",
       "      <td>NaN</td>\n",
       "      <td>16</td>\n",
       "      <td>92</td>\n",
       "      <td>1</td>\n",
       "      <td>1</td>\n",
       "      <td>0.03</td>\n",
       "      <td>7,953</td>\n",
       "      <td>69</td>\n",
       "      <td>Africa</td>\n",
       "    </tr>\n",
       "    <tr>\n",
       "      <td>156</td>\n",
       "      <td>157</td>\n",
       "      <td>Maldives</td>\n",
       "      <td>67</td>\n",
       "      <td>15</td>\n",
       "      <td></td>\n",
       "      <td>NaN</td>\n",
       "      <td>16</td>\n",
       "      <td>51</td>\n",
       "      <td>1</td>\n",
       "      <td>124</td>\n",
       "      <td>NaN</td>\n",
       "      <td>4,139</td>\n",
       "      <td>7,657</td>\n",
       "      <td>Asia</td>\n",
       "    </tr>\n",
       "    <tr>\n",
       "      <td>159</td>\n",
       "      <td>160</td>\n",
       "      <td>Zambia</td>\n",
       "      <td>65</td>\n",
       "      <td>4</td>\n",
       "      <td>3</td>\n",
       "      <td>NaN</td>\n",
       "      <td>35</td>\n",
       "      <td>27</td>\n",
       "      <td>1</td>\n",
       "      <td>4</td>\n",
       "      <td>0.2</td>\n",
       "      <td>2,586</td>\n",
       "      <td>141</td>\n",
       "      <td>Africa</td>\n",
       "    </tr>\n",
       "  </tbody>\n",
       "</table>\n",
       "<p>92 rows × 14 columns</p>\n",
       "</div>"
      ],
      "text/plain": [
       "     w_id      Country TotalCases NewCases TotalDeaths NewDeaths  \\\n",
       "3       4          USA   7,82,987   18,351      41,777     1,202   \n",
       "5       6        Spain   2,00,210    1,536      20,852       399   \n",
       "6       7        Italy   1,81,228    2,256      24,114       454   \n",
       "7       8       France   1,55,383    2,489      20,265       547   \n",
       "8       9      Germany   1,46,398      656       4,706        64   \n",
       "..    ...          ...        ...      ...         ...       ...   \n",
       "128   129  El Salvador        218       17           7       NaN   \n",
       "129   130     Paraguay        208        2           8       NaN   \n",
       "143   144     Ethiopia        111        3           3       NaN   \n",
       "156   157     Maldives         67       15                   NaN   \n",
       "159   160       Zambia         65        4           3       NaN   \n",
       "\n",
       "    TotalRecovered ActiveCases Serious_Critical Total Cases/1M pop  \\\n",
       "3           71,770    6,69,440           13,576              2,366   \n",
       "5           80,587      98,771            7,371              4,282   \n",
       "6           48,877    1,08,237            2,573              2,997   \n",
       "7           37,409      97,709            5,683              2,380   \n",
       "8           91,500      50,192            2,889              1,747   \n",
       "..             ...         ...              ...                ...   \n",
       "128             46         165                2                 34   \n",
       "129             46         154                1                 29   \n",
       "143             16          92                1                  1   \n",
       "156             16          51                1                124   \n",
       "159             35          27                1                  4   \n",
       "\n",
       "    Deaths/1M pop TotalTests Tests/1M pop\\n      Continent  \n",
       "3             126  39,74,114         12,006  North America  \n",
       "5             446   9,30,230         19,896         Europe  \n",
       "6             399  13,98,024         23,122         Europe  \n",
       "7             310   4,63,662          7,103         Europe  \n",
       "8              56  17,28,357         20,629         Europe  \n",
       "..            ...        ...            ...            ...  \n",
       "128             1     12,210          1,882  North America  \n",
       "129             1      4,950            694  South America  \n",
       "143          0.03      7,953             69         Africa  \n",
       "156           NaN      4,139          7,657           Asia  \n",
       "159           0.2      2,586            141         Africa  \n",
       "\n",
       "[92 rows x 14 columns]"
      ]
     },
     "execution_count": 6,
     "metadata": {},
     "output_type": "execute_result"
    }
   ],
   "source": [
    "nan_value = float(\"NaN\")\n",
    "df.replace(\"\", nan_value, inplace=True)\n",
    "df.dropna(subset = [\"TotalTests\"], inplace=True)\n",
    "df"
   ]
  },
  {
   "cell_type": "code",
   "execution_count": 27,
   "metadata": {},
   "outputs": [
    {
     "data": {
      "text/html": [
       "<div>\n",
       "<style scoped>\n",
       "    .dataframe tbody tr th:only-of-type {\n",
       "        vertical-align: middle;\n",
       "    }\n",
       "\n",
       "    .dataframe tbody tr th {\n",
       "        vertical-align: top;\n",
       "    }\n",
       "\n",
       "    .dataframe thead th {\n",
       "        text-align: right;\n",
       "    }\n",
       "</style>\n",
       "<table border=\"1\" class=\"dataframe\">\n",
       "  <thead>\n",
       "    <tr style=\"text-align: right;\">\n",
       "      <th></th>\n",
       "      <th>w_id</th>\n",
       "      <th>Country</th>\n",
       "      <th>TotalCases</th>\n",
       "      <th>NewCases</th>\n",
       "      <th>TotalDeaths</th>\n",
       "      <th>NewDeaths</th>\n",
       "      <th>TotalRecovered</th>\n",
       "      <th>ActiveCases</th>\n",
       "      <th>Serious_Critical</th>\n",
       "      <th>Total Cases/1M pop</th>\n",
       "      <th>Deaths/1M pop</th>\n",
       "      <th>TotalTests</th>\n",
       "      <th>Tests/1M pop\\n</th>\n",
       "      <th>Continent</th>\n",
       "    </tr>\n",
       "  </thead>\n",
       "  <tbody>\n",
       "    <tr>\n",
       "      <td>3</td>\n",
       "      <td>4</td>\n",
       "      <td>USA</td>\n",
       "      <td>80</td>\n",
       "      <td>18,351</td>\n",
       "      <td>46</td>\n",
       "      <td>1,202</td>\n",
       "      <td>70</td>\n",
       "      <td>67</td>\n",
       "      <td>9</td>\n",
       "      <td>2,366</td>\n",
       "      <td>126</td>\n",
       "      <td>39,74,114</td>\n",
       "      <td>12,006</td>\n",
       "      <td>North America</td>\n",
       "    </tr>\n",
       "    <tr>\n",
       "      <td>5</td>\n",
       "      <td>6</td>\n",
       "      <td>Spain</td>\n",
       "      <td>30</td>\n",
       "      <td>1,536</td>\n",
       "      <td>26</td>\n",
       "      <td>399</td>\n",
       "      <td>77</td>\n",
       "      <td>91</td>\n",
       "      <td>55</td>\n",
       "      <td>4,282</td>\n",
       "      <td>446</td>\n",
       "      <td>9,30,230</td>\n",
       "      <td>19,896</td>\n",
       "      <td>Europe</td>\n",
       "    </tr>\n",
       "    <tr>\n",
       "      <td>6</td>\n",
       "      <td>7</td>\n",
       "      <td>Italy</td>\n",
       "      <td>15</td>\n",
       "      <td>2,256</td>\n",
       "      <td>31</td>\n",
       "      <td>454</td>\n",
       "      <td>58</td>\n",
       "      <td>3</td>\n",
       "      <td>18</td>\n",
       "      <td>2,997</td>\n",
       "      <td>399</td>\n",
       "      <td>13,98,024</td>\n",
       "      <td>23,122</td>\n",
       "      <td>Europe</td>\n",
       "    </tr>\n",
       "    <tr>\n",
       "      <td>7</td>\n",
       "      <td>8</td>\n",
       "      <td>France</td>\n",
       "      <td>12</td>\n",
       "      <td>2,489</td>\n",
       "      <td>25</td>\n",
       "      <td>547</td>\n",
       "      <td>48</td>\n",
       "      <td>89</td>\n",
       "      <td>45</td>\n",
       "      <td>2,380</td>\n",
       "      <td>310</td>\n",
       "      <td>4,63,662</td>\n",
       "      <td>7,103</td>\n",
       "      <td>Europe</td>\n",
       "    </tr>\n",
       "    <tr>\n",
       "      <td>8</td>\n",
       "      <td>9</td>\n",
       "      <td>Germany</td>\n",
       "      <td>10</td>\n",
       "      <td>656</td>\n",
       "      <td>43</td>\n",
       "      <td>64</td>\n",
       "      <td>83</td>\n",
       "      <td>60</td>\n",
       "      <td>19</td>\n",
       "      <td>1,747</td>\n",
       "      <td>56</td>\n",
       "      <td>17,28,357</td>\n",
       "      <td>20,629</td>\n",
       "      <td>Europe</td>\n",
       "    </tr>\n",
       "    <tr>\n",
       "      <td>...</td>\n",
       "      <td>...</td>\n",
       "      <td>...</td>\n",
       "      <td>...</td>\n",
       "      <td>...</td>\n",
       "      <td>...</td>\n",
       "      <td>...</td>\n",
       "      <td>...</td>\n",
       "      <td>...</td>\n",
       "      <td>...</td>\n",
       "      <td>...</td>\n",
       "      <td>...</td>\n",
       "      <td>...</td>\n",
       "      <td>...</td>\n",
       "      <td>...</td>\n",
       "    </tr>\n",
       "    <tr>\n",
       "      <td>88</td>\n",
       "      <td>89</td>\n",
       "      <td>Bulgaria</td>\n",
       "      <td>91</td>\n",
       "      <td>35</td>\n",
       "      <td>48</td>\n",
       "      <td>1</td>\n",
       "      <td>19</td>\n",
       "      <td>74</td>\n",
       "      <td>33</td>\n",
       "      <td>134</td>\n",
       "      <td>6</td>\n",
       "      <td>26,417</td>\n",
       "      <td>3,802</td>\n",
       "      <td>Europe</td>\n",
       "    </tr>\n",
       "    <tr>\n",
       "      <td>97</td>\n",
       "      <td>98</td>\n",
       "      <td>Costa Rica</td>\n",
       "      <td>74</td>\n",
       "      <td>2</td>\n",
       "      <td>62</td>\n",
       "      <td>1</td>\n",
       "      <td>13</td>\n",
       "      <td>63</td>\n",
       "      <td>58</td>\n",
       "      <td>130</td>\n",
       "      <td>1</td>\n",
       "      <td>10,879</td>\n",
       "      <td>2,136</td>\n",
       "      <td>North America</td>\n",
       "    </tr>\n",
       "    <tr>\n",
       "      <td>103</td>\n",
       "      <td>104</td>\n",
       "      <td>Kyrgyzstan</td>\n",
       "      <td>65</td>\n",
       "      <td>14</td>\n",
       "      <td>65</td>\n",
       "      <td>2</td>\n",
       "      <td>26</td>\n",
       "      <td>42</td>\n",
       "      <td>44</td>\n",
       "      <td>87</td>\n",
       "      <td>1</td>\n",
       "      <td>26,147</td>\n",
       "      <td>4,008</td>\n",
       "      <td>Asia</td>\n",
       "    </tr>\n",
       "    <tr>\n",
       "      <td>104</td>\n",
       "      <td>105</td>\n",
       "      <td>Bolivia</td>\n",
       "      <td>64</td>\n",
       "      <td>44</td>\n",
       "      <td>35</td>\n",
       "      <td>1</td>\n",
       "      <td>42</td>\n",
       "      <td>61</td>\n",
       "      <td>29</td>\n",
       "      <td>48</td>\n",
       "      <td>3</td>\n",
       "      <td>3,569</td>\n",
       "      <td>306</td>\n",
       "      <td>South America</td>\n",
       "    </tr>\n",
       "    <tr>\n",
       "      <td>120</td>\n",
       "      <td>121</td>\n",
       "      <td>Isle of Man</td>\n",
       "      <td>46</td>\n",
       "      <td>2</td>\n",
       "      <td>73</td>\n",
       "      <td>3</td>\n",
       "      <td>25</td>\n",
       "      <td>87</td>\n",
       "      <td>11</td>\n",
       "      <td>3,528</td>\n",
       "      <td>106</td>\n",
       "      <td>2,509</td>\n",
       "      <td>29,506</td>\n",
       "      <td>Europe</td>\n",
       "    </tr>\n",
       "  </tbody>\n",
       "</table>\n",
       "<p>62 rows × 14 columns</p>\n",
       "</div>"
      ],
      "text/plain": [
       "     w_id      Country  TotalCases NewCases  TotalDeaths NewDeaths  \\\n",
       "3       4          USA          80   18,351           46     1,202   \n",
       "5       6        Spain          30    1,536           26       399   \n",
       "6       7        Italy          15    2,256           31       454   \n",
       "7       8       France          12    2,489           25       547   \n",
       "8       9      Germany          10      656           43        64   \n",
       "..    ...          ...         ...      ...          ...       ...   \n",
       "88     89     Bulgaria          91       35           48         1   \n",
       "97     98   Costa Rica          74        2           62         1   \n",
       "103   104   Kyrgyzstan          65       14           65         2   \n",
       "104   105      Bolivia          64       44           35         1   \n",
       "120   121  Isle of Man          46        2           73         3   \n",
       "\n",
       "     TotalRecovered  ActiveCases  Serious_Critical Total Cases/1M pop  \\\n",
       "3                70           67                 9              2,366   \n",
       "5                77           91                55              4,282   \n",
       "6                58            3                18              2,997   \n",
       "7                48           89                45              2,380   \n",
       "8                83           60                19              1,747   \n",
       "..              ...          ...               ...                ...   \n",
       "88               19           74                33                134   \n",
       "97               13           63                58                130   \n",
       "103              26           42                44                 87   \n",
       "104              42           61                29                 48   \n",
       "120              25           87                11              3,528   \n",
       "\n",
       "    Deaths/1M pop TotalTests Tests/1M pop\\n      Continent  \n",
       "3             126  39,74,114         12,006  North America  \n",
       "5             446   9,30,230         19,896         Europe  \n",
       "6             399  13,98,024         23,122         Europe  \n",
       "7             310   4,63,662          7,103         Europe  \n",
       "8              56  17,28,357         20,629         Europe  \n",
       "..            ...        ...            ...            ...  \n",
       "88              6     26,417          3,802         Europe  \n",
       "97              1     10,879          2,136  North America  \n",
       "103             1     26,147          4,008           Asia  \n",
       "104             3      3,569            306  South America  \n",
       "120           106      2,509         29,506         Europe  \n",
       "\n",
       "[62 rows x 14 columns]"
      ]
     },
     "execution_count": 27,
     "metadata": {},
     "output_type": "execute_result"
    }
   ],
   "source": [
    "nan_value = float(\"NaN\")\n",
    "df.replace(\"\", nan_value, inplace=True)\n",
    "df.dropna(subset = [\"NewDeaths\"], inplace=True)\n",
    "df"
   ]
  },
  {
   "cell_type": "code",
   "execution_count": 28,
   "metadata": {},
   "outputs": [
    {
     "data": {
      "text/plain": [
       "w_id                  0\n",
       "Country               0\n",
       "TotalCases            0\n",
       "NewCases              0\n",
       "TotalDeaths           0\n",
       "NewDeaths             0\n",
       "TotalRecovered        0\n",
       "ActiveCases           0\n",
       "Serious_Critical      0\n",
       "Total Cases/1M pop    0\n",
       "Deaths/1M pop         0\n",
       "TotalTests            0\n",
       "Tests/1M pop\\n        0\n",
       "Continent             0\n",
       "dtype: int64"
      ]
     },
     "execution_count": 28,
     "metadata": {},
     "output_type": "execute_result"
    }
   ],
   "source": [
    "df.isna().sum()"
   ]
  },
  {
   "cell_type": "code",
   "execution_count": 29,
   "metadata": {},
   "outputs": [
    {
     "data": {
      "text/plain": [
       "w_id                   int64\n",
       "Country               object\n",
       "TotalCases             int64\n",
       "NewCases              object\n",
       "TotalDeaths            int64\n",
       "NewDeaths             object\n",
       "TotalRecovered         int64\n",
       "ActiveCases            int64\n",
       "Serious_Critical       int64\n",
       "Total Cases/1M pop    object\n",
       "Deaths/1M pop         object\n",
       "TotalTests            object\n",
       "Tests/1M pop\\n        object\n",
       "Continent             object\n",
       "dtype: object"
      ]
     },
     "execution_count": 29,
     "metadata": {},
     "output_type": "execute_result"
    }
   ],
   "source": [
    "df.dtypes"
   ]
  },
  {
   "cell_type": "code",
   "execution_count": 30,
   "metadata": {},
   "outputs": [
    {
     "data": {
      "text/plain": [
       "3      36\n",
       "5      22\n",
       "6      26\n",
       "7      21\n",
       "8      34\n",
       "       ..\n",
       "88     38\n",
       "97     49\n",
       "103    52\n",
       "104    28\n",
       "120    57\n",
       "Name: TotalDeaths, Length: 62, dtype: int8"
      ]
     },
     "execution_count": 30,
     "metadata": {},
     "output_type": "execute_result"
    }
   ],
   "source": [
    "df[\"Serious_Critical\"] = df[\"Serious_Critical\"].astype('category')\n",
    "df[\"Serious_Critical\"] = df[\"Serious_Critical\"].cat.codes\n",
    "df['Serious_Critical']\n",
    "df[\"TotalRecovered\"] = df[\"TotalRecovered\"].astype('category')\n",
    "df[\"TotalRecovered\"] = df[\"TotalRecovered\"].cat.codes\n",
    "df['TotalRecovered']\n",
    "df[\"ActiveCases\"] = df[\"ActiveCases\"].astype('category')\n",
    "df[\"ActiveCases\"] = df[\"ActiveCases\"].cat.codes\n",
    "df['ActiveCases']\n",
    "df[\"TotalCases\"] = df[\"TotalCases\"].astype('category')\n",
    "df[\"TotalCases\"] = df[\"TotalCases\"].cat.codes\n",
    "df['TotalCases']\n",
    "df[\"TotalDeaths\"] = df[\"TotalDeaths\"].astype('category')\n",
    "df[\"TotalDeaths\"] = df[\"TotalDeaths\"].cat.codes\n",
    "df['TotalDeaths']"
   ]
  },
  {
   "cell_type": "code",
   "execution_count": 37,
   "metadata": {},
   "outputs": [
    {
     "data": {
      "text/plain": [
       "<matplotlib.legend.Legend at 0x2510d78ca88>"
      ]
     },
     "execution_count": 37,
     "metadata": {},
     "output_type": "execute_result"
    },
    {
     "data": {
      "image/png": "[encoded data removed]",
      "text/plain": [
       "<Figure size 1440x720 with 1 Axes>"
      ]
     },
     "metadata": {},
     "output_type": "display_data"
    }
   ],
   "source": [
    "df1=df.head(5).groupby(['Country'])[['NewCases']].sum()\n",
    "plt.figure(figsize=(20,10))\n",
    "plt.title('NewCases of Novel covid_19',fontsize=30)\n",
    "plt.xlabel('Country',fontsize=20)\n",
    "plt.ylabel('Number of Newcases',fontsize=20)\n",
    "plt.plot(df.index,df['NewCases'],label='Infected',linewidth=3)\n",
    "plt.bar(df.index,df['NewCases'],alpha=0.2,color='c')\n",
    "plt.xticks(fontsize=15,rotation=90)\n",
    "plt.yticks(fontsize=15)\n",
    "plt.style.use('ggplot')\n",
    "plt.legend()"
   ]
  },
  {
   "cell_type": "code",
   "execution_count": 36,
   "metadata": {},
   "outputs": [
    {
     "data": {
      "text/plain": [
       "<matplotlib.legend.Legend at 0x2510ce60f08>"
      ]
     },
     "execution_count": 36,
     "metadata": {},
     "output_type": "execute_result"
    },
    {
     "data": {
      "image/png": "[encoded data removed]",
      "text/plain": [
       "<Figure size 1440x720 with 1 Axes>"
      ]
     },
     "metadata": {},
     "output_type": "display_data"
    }
   ],
   "source": [
    "df1=df.head(5).groupby(['Country'])[['NewDeaths']].sum()\n",
    "plt.figure(figsize=(20,10))\n",
    "plt.title('New deathCases of Novel covid_19',fontsize=30)\n",
    "plt.xlabel('Country',fontsize=20)\n",
    "plt.ylabel('Number of NewDeaths',fontsize=20)\n",
    "plt.plot(df.index,df['NewDeaths'],label='Infected',linewidth=3)\n",
    "plt.bar(df.index,df['NewDeaths'],alpha=0.2,color='c')\n",
    "plt.xticks(fontsize=15,rotation=90)\n",
    "plt.yticks(fontsize=15)\n",
    "plt.style.use('ggplot')\n",
    "plt.legend()"
   ]
  },
  {
   "cell_type": "code",
   "execution_count": 33,
   "metadata": {},
   "outputs": [],
   "source": [
    "TotalCases = df.head(50).groupby('Country').sum()['TotalCases'].reset_index()\n",
    "TotalDeaths=df.head(50).groupby('Country').sum()['TotalDeaths'].reset_index()\n",
    "ActiveCases=df.head(50).groupby('Country').sum()['ActiveCases'].reset_index()\n"
   ]
  },
  {
   "cell_type": "code",
   "execution_count": 34,
   "metadata": {},
   "outputs": [
    {
     "data": {
      "application/vnd.plotly.v1+json": {
       "config": {
        "plotlyServerURL": "https://plot.ly"
       },
       "data": [
        {
         "marker": {
          "color": "lemon chiffon"
         },
         "name": "TotalCases",
         "type": "bar",
         "x": [
          "Algeria",
          "Armenia",
          "Austria",
          "Bangladesh",
          "Belarus",
          "Belgium",
          "Brazil",
          "Canada",
          "Chile",
          "Czechia",
          "Denmark",
          "Dominican Republic",
          "Ecuador",
          "Finland",
          "France",
          "Germany",
          "Greece",
          "Hungary",
          "Iceland",
          "Iran",
          "Ireland",
          "Israel",
          "Italy",
          "Kazakhstan",
          "Luxembourg",
          "Mexico",
          "Moldova",
          "Morocco",
          "Netherlands",
          "Norway",
          "Pakistan",
          "Panama",
          "Peru",
          "Philippines",
          "Poland",
          "Portugal",
          "Qatar",
          "Romania",
          "Russia",
          "S. Korea",
          "Saudi Arabia",
          "Serbia",
          "South Africa",
          "Spain",
          "Sweden",
          "Switzerland",
          "Turkey",
          "UAE",
          "USA",
          "Ukraine"
         ],
         "y": [
          26,
          7,
          20,
          27,
          46,
          38,
          37,
          36,
          16,
          49,
          53,
          40,
          14,
          33,
          9,
          8,
          24,
          13,
          10,
          58,
          21,
          18,
          11,
          12,
          32,
          55,
          25,
          30,
          35,
          51,
          56,
          39,
          22,
          47,
          59,
          28,
          45,
          57,
          41,
          17,
          15,
          48,
          31,
          23,
          19,
          29,
          60,
          52,
          54,
          42
         ]
        },
        {
         "marker": {
          "color": "Violet"
         },
         "name": "Deaths",
         "type": "bar",
         "x": [
          "Algeria",
          "Armenia",
          "Austria",
          "Bangladesh",
          "Belarus",
          "Belgium",
          "Brazil",
          "Canada",
          "Chile",
          "Czechia",
          "Denmark",
          "Dominican Republic",
          "Ecuador",
          "Finland",
          "France",
          "Germany",
          "Greece",
          "Hungary",
          "Iceland",
          "Iran",
          "Ireland",
          "Israel",
          "Italy",
          "Kazakhstan",
          "Luxembourg",
          "Mexico",
          "Moldova",
          "Morocco",
          "Netherlands",
          "Norway",
          "Pakistan",
          "Panama",
          "Peru",
          "Philippines",
          "Poland",
          "Portugal",
          "Qatar",
          "Romania",
          "Russia",
          "S. Korea",
          "Saudi Arabia",
          "Serbia",
          "South Africa",
          "Spain",
          "Sweden",
          "Switzerland",
          "Turkey",
          "UAE",
          "USA",
          "Ukraine"
         ],
         "y": [
          33,
          23,
          40,
          4,
          46,
          44,
          20,
          2,
          10,
          17,
          30,
          24,
          45,
          58,
          21,
          34,
          6,
          18,
          3,
          43,
          51,
          14,
          26,
          16,
          55,
          50,
          53,
          11,
          27,
          15,
          13,
          8,
          39,
          37,
          32,
          54,
          57,
          41,
          35,
          25,
          5,
          7,
          48,
          22,
          1,
          0,
          19,
          38,
          36,
          12
         ]
        },
        {
         "marker": {
          "color": "green yellow"
         },
         "name": "ActiveCases",
         "type": "bar",
         "x": [
          "Algeria",
          "Armenia",
          "Austria",
          "Bangladesh",
          "Belarus",
          "Belgium",
          "Brazil",
          "Canada",
          "Chile",
          "Czechia",
          "Denmark",
          "Dominican Republic",
          "Ecuador",
          "Finland",
          "France",
          "Germany",
          "Greece",
          "Hungary",
          "Iceland",
          "Iran",
          "Ireland",
          "Israel",
          "Italy",
          "Kazakhstan",
          "Luxembourg",
          "Mexico",
          "Moldova",
          "Morocco",
          "Netherlands",
          "Norway",
          "Pakistan",
          "Panama",
          "Peru",
          "Philippines",
          "Poland",
          "Portugal",
          "Qatar",
          "Romania",
          "Russia",
          "S. Korea",
          "Saudi Arabia",
          "Serbia",
          "South Africa",
          "Spain",
          "Sweden",
          "Switzerland",
          "Turkey",
          "UAE",
          "USA",
          "Ukraine"
         ],
         "y": [
          3,
          47,
          23,
          17,
          36,
          21,
          10,
          20,
          35,
          30,
          18,
          26,
          51,
          6,
          59,
          38,
          7,
          5,
          28,
          11,
          9,
          56,
          2,
          4,
          19,
          27,
          13,
          16,
          22,
          44,
          41,
          25,
          53,
          32,
          50,
          12,
          33,
          42,
          29,
          15,
          52,
          34,
          14,
          61,
          8,
          45,
          48,
          37,
          43,
          31
         ]
        }
       ],
       "layout": {
        "bargap": 0.15,
        "bargroupgap": 0.1,
        "barmode": "group",
        "legend": {
         "bgcolor": "rgba(255, 255, 255, 0)",
         "bordercolor": "rgba(255, 255, 255, 0)",
         "x": 0,
         "y": 1
        },
        "template": {
         "data": {
          "bar": [
           {
            "error_x": {
             "color": "#2a3f5f"
            },
            "error_y": {
             "color": "#2a3f5f"
            },
            "marker": {
             "line": {
              "color": "#E5ECF6",
              "width": 0.5
             }
            },
            "type": "bar"
           }
          ],
          "barpolar": [
           {
            "marker": {
             "line": {
              "color": "#E5ECF6",
              "width": 0.5
             }
            },
            "type": "barpolar"
           }
          ],
          "carpet": [
           {
            "aaxis": {
             "endlinecolor": "#2a3f5f",
             "gridcolor": "white",
             "linecolor": "white",
             "minorgridcolor": "white",
             "startlinecolor": "#2a3f5f"
            },
            "baxis": {
             "endlinecolor": "#2a3f5f",
             "gridcolor": "white",
             "linecolor": "white",
             "minorgridcolor": "white",
             "startlinecolor": "#2a3f5f"
            },
            "type": "carpet"
           }
          ],
          "choropleth": [
           {
            "colorbar": {
             "outlinewidth": 0,
             "ticks": ""
            },
            "type": "choropleth"
           }
          ],
          "contour": [
           {
            "colorbar": {
             "outlinewidth": 0,
             "ticks": ""
            },
            "colorscale": [
             [
              0,
              "#0d0887"
             ],
             [
              0.1111111111111111,
              "#46039f"
             ],
             [
              0.2222222222222222,
              "#7201a8"
             ],
             [
              0.3333333333333333,
              "#9c179e"
             ],
             [
              0.4444444444444444,
              "#bd3786"
             ],
             [
              0.5555555555555556,
              "#d8576b"
             ],
             [
              0.6666666666666666,
              "#ed7953"
             ],
             [
              0.7777777777777778,
              "#fb9f3a"
             ],
             [
              0.8888888888888888,
              "#fdca26"
             ],
             [
              1,
              "#f0f921"
             ]
            ],
            "type": "contour"
           }
          ],
          "contourcarpet": [
           {
            "colorbar": {
             "outlinewidth": 0,
             "ticks": ""
            },
            "type": "contourcarpet"
           }
          ],
          "heatmap": [
           {
            "colorbar": {
             "outlinewidth": 0,
             "ticks": ""
            },
            "colorscale": [
             [
              0,
              "#0d0887"
             ],
             [
              0.1111111111111111,
              "#46039f"
             ],
             [
              0.2222222222222222,
              "#7201a8"
             ],
             [
              0.3333333333333333,
              "#9c179e"
             ],
             [
              0.4444444444444444,
              "#bd3786"
             ],
             [
              0.5555555555555556,
              "#d8576b"
             ],
             [
              0.6666666666666666,
              "#ed7953"
             ],
             [
              0.7777777777777778,
              "#fb9f3a"
             ],
             [
              0.8888888888888888,
              "#fdca26"
             ],
             [
              1,
              "#f0f921"
             ]
            ],
            "type": "heatmap"
           }
          ],
          "heatmapgl": [
           {
            "colorbar": {
             "outlinewidth": 0,
             "ticks": ""
            },
            "colorscale": [
             [
              0,
              "#0d0887"
             ],
             [
              0.1111111111111111,
              "#46039f"
             ],
             [
              0.2222222222222222,
              "#7201a8"
             ],
             [
              0.3333333333333333,
              "#9c179e"
             ],
             [
              0.4444444444444444,
              "#bd3786"
             ],
             [
              0.5555555555555556,
              "#d8576b"
             ],
             [
              0.6666666666666666,
              "#ed7953"
             ],
             [
              0.7777777777777778,
              "#fb9f3a"
             ],
             [
              0.8888888888888888,
              "#fdca26"
             ],
             [
              1,
              "#f0f921"
             ]
            ],
            "type": "heatmapgl"
           }
          ],
          "histogram": [
           {
            "marker": {
             "colorbar": {
              "outlinewidth": 0,
              "ticks": ""
             }
            },
            "type": "histogram"
           }
          ],
          "histogram2d": [
           {
            "colorbar": {
             "outlinewidth": 0,
             "ticks": ""
            },
            "colorscale": [
             [
              0,
              "#0d0887"
             ],
             [
              0.1111111111111111,
              "#46039f"
             ],
             [
              0.2222222222222222,
              "#7201a8"
             ],
             [
              0.3333333333333333,
              "#9c179e"
             ],
             [
              0.4444444444444444,
              "#bd3786"
             ],
             [
              0.5555555555555556,
              "#d8576b"
             ],
             [
              0.6666666666666666,
              "#ed7953"
             ],
             [
              0.7777777777777778,
              "#fb9f3a"
             ],
             [
              0.8888888888888888,
              "#fdca26"
             ],
             [
              1,
              "#f0f921"
             ]
            ],
            "type": "histogram2d"
           }
          ],
          "histogram2dcontour": [
           {
            "colorbar": {
             "outlinewidth": 0,
             "ticks": ""
            },
            "colorscale": [
             [
              0,
              "#0d0887"
             ],
             [
              0.1111111111111111,
              "#46039f"
             ],
             [
              0.2222222222222222,
              "#7201a8"
             ],
             [
              0.3333333333333333,
              "#9c179e"
             ],
             [
              0.4444444444444444,
              "#bd3786"
             ],
             [
              0.5555555555555556,
              "#d8576b"
             ],
             [
              0.6666666666666666,
              "#ed7953"
             ],
             [
              0.7777777777777778,
              "#fb9f3a"
             ],
             [
              0.8888888888888888,
              "#fdca26"
             ],
             [
              1,
              "#f0f921"
             ]
            ],
            "type": "histogram2dcontour"
           }
          ],
          "mesh3d": [
           {
            "colorbar": {
             "outlinewidth": 0,
             "ticks": ""
            },
            "type": "mesh3d"
           }
          ],
          "parcoords": [
           {
            "line": {
             "colorbar": {
              "outlinewidth": 0,
              "ticks": ""
             }
            },
            "type": "parcoords"
           }
          ],
          "pie": [
           {
            "automargin": true,
            "type": "pie"
           }
          ],
          "scatter": [
           {
            "marker": {
             "colorbar": {
              "outlinewidth": 0,
              "ticks": ""
             }
            },
            "type": "scatter"
           }
          ],
          "scatter3d": [
           {
            "line": {
             "colorbar": {
              "outlinewidth": 0,
              "ticks": ""
             }
            },
            "marker": {
             "colorbar": {
              "outlinewidth": 0,
              "ticks": ""
             }
            },
            "type": "scatter3d"
           }
          ],
          "scattercarpet": [
           {
            "marker": {
             "colorbar": {
              "outlinewidth": 0,
              "ticks": ""
             }
            },
            "type": "scattercarpet"
           }
          ],
          "scattergeo": [
           {
            "marker": {
             "colorbar": {
              "outlinewidth": 0,
              "ticks": ""
             }
            },
            "type": "scattergeo"
           }
          ],
          "scattergl": [
           {
            "marker": {
             "colorbar": {
              "outlinewidth": 0,
              "ticks": ""
             }
            },
            "type": "scattergl"
           }
          ],
          "scattermapbox": [
           {
            "marker": {
             "colorbar": {
              "outlinewidth": 0,
              "ticks": ""
             }
            },
            "type": "scattermapbox"
           }
          ],
          "scatterpolar": [
           {
            "marker": {
             "colorbar": {
              "outlinewidth": 0,
              "ticks": ""
             }
            },
            "type": "scatterpolar"
           }
          ],
          "scatterpolargl": [
           {
            "marker": {
             "colorbar": {
              "outlinewidth": 0,
              "ticks": ""
             }
            },
            "type": "scatterpolargl"
           }
          ],
          "scatterternary": [
           {
            "marker": {
             "colorbar": {
              "outlinewidth": 0,
              "ticks": ""
             }
            },
            "type": "scatterternary"
           }
          ],
          "surface": [
           {
            "colorbar": {
             "outlinewidth": 0,
             "ticks": ""
            },
            "colorscale": [
             [
              0,
              "#0d0887"
             ],
             [
              0.1111111111111111,
              "#46039f"
             ],
             [
              0.2222222222222222,
              "#7201a8"
             ],
             [
              0.3333333333333333,
              "#9c179e"
             ],
             [
              0.4444444444444444,
              "#bd3786"
             ],
             [
              0.5555555555555556,
              "#d8576b"
             ],
             [
              0.6666666666666666,
              "#ed7953"
             ],
             [
              0.7777777777777778,
              "#fb9f3a"
             ],
             [
              0.8888888888888888,
              "#fdca26"
             ],
             [
              1,
              "#f0f921"
             ]
            ],
            "type": "surface"
           }
          ],
          "table": [
           {
            "cells": {
             "fill": {
              "color": "#EBF0F8"
             },
             "line": {
              "color": "white"
             }
            },
            "header": {
             "fill": {
              "color": "#C8D4E3"
             },
             "line": {
              "color": "white"
             }
            },
            "type": "table"
           }
          ]
         },
         "layout": {
          "annotationdefaults": {
           "arrowcolor": "#2a3f5f",
           "arrowhead": 0,
           "arrowwidth": 1
          },
          "coloraxis": {
           "colorbar": {
            "outlinewidth": 0,
            "ticks": ""
           }
          },
          "colorscale": {
           "diverging": [
            [
             0,
             "#8e0152"
            ],
            [
             0.1,
             "#c51b7d"
            ],
            [
             0.2,
             "#de77ae"
            ],
            [
             0.3,
             "#f1b6da"
            ],
            [
             0.4,
             "#fde0ef"
            ],
            [
             0.5,
             "#f7f7f7"
            ],
            [
             0.6,
             "#e6f5d0"
            ],
            [
             0.7,
             "#b8e186"
            ],
            [
             0.8,
             "#7fbc41"
            ],
            [
             0.9,
             "#4d9221"
            ],
            [
             1,
             "#276419"
            ]
           ],
           "sequential": [
            [
             0,
             "#0d0887"
            ],
            [
             0.1111111111111111,
             "#46039f"
            ],
            [
             0.2222222222222222,
             "#7201a8"
            ],
            [
             0.3333333333333333,
             "#9c179e"
            ],
            [
             0.4444444444444444,
             "#bd3786"
            ],
            [
             0.5555555555555556,
             "#d8576b"
            ],
            [
             0.6666666666666666,
             "#ed7953"
            ],
            [
             0.7777777777777778,
             "#fb9f3a"
            ],
            [
             0.8888888888888888,
             "#fdca26"
            ],
            [
             1,
             "#f0f921"
            ]
           ],
           "sequentialminus": [
            [
             0,
             "#0d0887"
            ],
            [
             0.1111111111111111,
             "#46039f"
            ],
            [
             0.2222222222222222,
             "#7201a8"
            ],
            [
             0.3333333333333333,
             "#9c179e"
            ],
            [
             0.4444444444444444,
             "#bd3786"
            ],
            [
             0.5555555555555556,
             "#d8576b"
            ],
            [
             0.6666666666666666,
             "#ed7953"
            ],
            [
             0.7777777777777778,
             "#fb9f3a"
            ],
            [
             0.8888888888888888,
             "#fdca26"
            ],
            [
             1,
             "#f0f921"
            ]
           ]
          },
          "colorway": [
           "#636efa",
           "#EF553B",
           "#00cc96",
           "#ab63fa",
           "#FFA15A",
           "#19d3f3",
           "#FF6692",
           "#B6E880",
           "#FF97FF",
           "#FECB52"
          ],
          "font": {
           "color": "#2a3f5f"
          },
          "geo": {
           "bgcolor": "white",
           "lakecolor": "white",
           "landcolor": "#E5ECF6",
           "showlakes": true,
           "showland": true,
           "subunitcolor": "white"
          },
          "hoverlabel": {
           "align": "left"
          },
          "hovermode": "closest",
          "mapbox": {
           "style": "light"
          },
          "paper_bgcolor": "white",
          "plot_bgcolor": "#E5ECF6",
          "polar": {
           "angularaxis": {
            "gridcolor": "white",
            "linecolor": "white",
            "ticks": ""
           },
           "bgcolor": "#E5ECF6",
           "radialaxis": {
            "gridcolor": "white",
            "linecolor": "white",
            "ticks": ""
           }
          },
          "scene": {
           "xaxis": {
            "backgroundcolor": "#E5ECF6",
            "gridcolor": "white",
            "gridwidth": 2,
            "linecolor": "white",
            "showbackground": true,
            "ticks": "",
            "zerolinecolor": "white"
           },
           "yaxis": {
            "backgroundcolor": "#E5ECF6",
            "gridcolor": "white",
            "gridwidth": 2,
            "linecolor": "white",
            "showbackground": true,
            "ticks": "",
            "zerolinecolor": "white"
           },
           "zaxis": {
            "backgroundcolor": "#E5ECF6",
            "gridcolor": "white",
            "gridwidth": 2,
            "linecolor": "white",
            "showbackground": true,
            "ticks": "",
            "zerolinecolor": "white"
           }
          },
          "shapedefaults": {
           "line": {
            "color": "#2a3f5f"
           }
          },
          "ternary": {
           "aaxis": {
            "gridcolor": "white",
            "linecolor": "white",
            "ticks": ""
           },
           "baxis": {
            "gridcolor": "white",
            "linecolor": "white",
            "ticks": ""
           },
           "bgcolor": "#E5ECF6",
           "caxis": {
            "gridcolor": "white",
            "linecolor": "white",
            "ticks": ""
           }
          },
          "title": {
           "x": 0.05
          },
          "xaxis": {
           "automargin": true,
           "gridcolor": "white",
           "linecolor": "white",
           "ticks": "",
           "title": {
            "standoff": 15
           },
           "zerolinecolor": "white",
           "zerolinewidth": 2
          },
          "yaxis": {
           "automargin": true,
           "gridcolor": "white",
           "linecolor": "white",
           "ticks": "",
           "title": {
            "standoff": 15
           },
           "zerolinecolor": "white",
           "zerolinewidth": 2
          }
         }
        },
        "title": {
         "text": "Count - TotalCases,TotalDeaths,ActiveCaes(Bar Chart)"
        },
        "xaxis": {
         "tickfont": {
          "size": 14
         }
        },
        "yaxis": {
         "tickfont": {
          "size": 14
         },
         "title": {
          "font": {
           "size": 16
          },
          "text": "TotalCases"
         }
        }
       }
      },
      "text/html": [
       "<div>\n",
       "        \n",
       "        \n",
       "            <div id=\"dadf305e-0b17-40e2-9bc9-3e44b5b150a6\" class=\"plotly-graph-div\" style=\"height:525px; width:100%;\"></div>\n",
       "            <script type=\"text/javascript\">\n",
       "                require([\"plotly\"], function(Plotly) {\n",
       "                    window.PLOTLYENV=window.PLOTLYENV || {};\n",
       "                    \n",
       "                if (document.getElementById(\"dadf305e-0b17-40e2-9bc9-3e44b5b150a6\")) {\n",
       "                    Plotly.newPlot(\n",
       "                        'dadf305e-0b17-40e2-9bc9-3e44b5b150a6',\n",
       "                        [{\"marker\": {\"color\": \"lemon chiffon\"}, \"name\": \"TotalCases\", \"type\": \"bar\", \"x\": [\"Algeria\", \"Armenia\", \"Austria\", \"Bangladesh\", \"Belarus\", \"Belgium\", \"Brazil\", \"Canada\", \"Chile\", \"Czechia\", \"Denmark\", \"Dominican Republic\", \"Ecuador\", \"Finland\", \"France\", \"Germany\", \"Greece\", \"Hungary\", \"Iceland\", \"Iran\", \"Ireland\", \"Israel\", \"Italy\", \"Kazakhstan\", \"Luxembourg\", \"Mexico\", \"Moldova\", \"Morocco\", \"Netherlands\", \"Norway\", \"Pakistan\", \"Panama\", \"Peru\", \"Philippines\", \"Poland\", \"Portugal\", \"Qatar\", \"Romania\", \"Russia\", \"S. Korea\", \"Saudi Arabia\", \"Serbia\", \"South Africa\", \"Spain\", \"Sweden\", \"Switzerland\", \"Turkey\", \"UAE\", \"USA\", \"Ukraine\"], \"y\": [26, 7, 20, 27, 46, 38, 37, 36, 16, 49, 53, 40, 14, 33, 9, 8, 24, 13, 10, 58, 21, 18, 11, 12, 32, 55, 25, 30, 35, 51, 56, 39, 22, 47, 59, 28, 45, 57, 41, 17, 15, 48, 31, 23, 19, 29, 60, 52, 54, 42]}, {\"marker\": {\"color\": \"Violet\"}, \"name\": \"Deaths\", \"type\": \"bar\", \"x\": [\"Algeria\", \"Armenia\", \"Austria\", \"Bangladesh\", \"Belarus\", \"Belgium\", \"Brazil\", \"Canada\", \"Chile\", \"Czechia\", \"Denmark\", \"Dominican Republic\", \"Ecuador\", \"Finland\", \"France\", \"Germany\", \"Greece\", \"Hungary\", \"Iceland\", \"Iran\", \"Ireland\", \"Israel\", \"Italy\", \"Kazakhstan\", \"Luxembourg\", \"Mexico\", \"Moldova\", \"Morocco\", \"Netherlands\", \"Norway\", \"Pakistan\", \"Panama\", \"Peru\", \"Philippines\", \"Poland\", \"Portugal\", \"Qatar\", \"Romania\", \"Russia\", \"S. Korea\", \"Saudi Arabia\", \"Serbia\", \"South Africa\", \"Spain\", \"Sweden\", \"Switzerland\", \"Turkey\", \"UAE\", \"USA\", \"Ukraine\"], \"y\": [33, 23, 40, 4, 46, 44, 20, 2, 10, 17, 30, 24, 45, 58, 21, 34, 6, 18, 3, 43, 51, 14, 26, 16, 55, 50, 53, 11, 27, 15, 13, 8, 39, 37, 32, 54, 57, 41, 35, 25, 5, 7, 48, 22, 1, 0, 19, 38, 36, 12]}, {\"marker\": {\"color\": \"green yellow\"}, \"name\": \"ActiveCases\", \"type\": \"bar\", \"x\": [\"Algeria\", \"Armenia\", \"Austria\", \"Bangladesh\", \"Belarus\", \"Belgium\", \"Brazil\", \"Canada\", \"Chile\", \"Czechia\", \"Denmark\", \"Dominican Republic\", \"Ecuador\", \"Finland\", \"France\", \"Germany\", \"Greece\", \"Hungary\", \"Iceland\", \"Iran\", \"Ireland\", \"Israel\", \"Italy\", \"Kazakhstan\", \"Luxembourg\", \"Mexico\", \"Moldova\", \"Morocco\", \"Netherlands\", \"Norway\", \"Pakistan\", \"Panama\", \"Peru\", \"Philippines\", \"Poland\", \"Portugal\", \"Qatar\", \"Romania\", \"Russia\", \"S. Korea\", \"Saudi Arabia\", \"Serbia\", \"South Africa\", \"Spain\", \"Sweden\", \"Switzerland\", \"Turkey\", \"UAE\", \"USA\", \"Ukraine\"], \"y\": [3, 47, 23, 17, 36, 21, 10, 20, 35, 30, 18, 26, 51, 6, 59, 38, 7, 5, 28, 11, 9, 56, 2, 4, 19, 27, 13, 16, 22, 44, 41, 25, 53, 32, 50, 12, 33, 42, 29, 15, 52, 34, 14, 61, 8, 45, 48, 37, 43, 31]}],\n",
       "                        {\"bargap\": 0.15, \"bargroupgap\": 0.1, \"barmode\": \"group\", \"legend\": {\"bgcolor\": \"rgba(255, 255, 255, 0)\", \"bordercolor\": \"rgba(255, 255, 255, 0)\", \"x\": 0, \"y\": 1.0}, \"template\": {\"data\": {\"bar\": [{\"error_x\": {\"color\": \"#2a3f5f\"}, \"error_y\": {\"color\": \"#2a3f5f\"}, \"marker\": {\"line\": {\"color\": \"#E5ECF6\", \"width\": 0.5}}, \"type\": \"bar\"}], \"barpolar\": [{\"marker\": {\"line\": {\"color\": \"#E5ECF6\", \"width\": 0.5}}, \"type\": \"barpolar\"}], \"carpet\": [{\"aaxis\": {\"endlinecolor\": \"#2a3f5f\", \"gridcolor\": \"white\", \"linecolor\": \"white\", \"minorgridcolor\": \"white\", \"startlinecolor\": \"#2a3f5f\"}, \"baxis\": {\"endlinecolor\": \"#2a3f5f\", \"gridcolor\": \"white\", \"linecolor\": \"white\", \"minorgridcolor\": \"white\", \"startlinecolor\": \"#2a3f5f\"}, \"type\": \"carpet\"}], \"choropleth\": [{\"colorbar\": {\"outlinewidth\": 0, \"ticks\": \"\"}, \"type\": \"choropleth\"}], \"contour\": [{\"colorbar\": {\"outlinewidth\": 0, \"ticks\": \"\"}, \"colorscale\": [[0.0, \"#0d0887\"], [0.1111111111111111, \"#46039f\"], [0.2222222222222222, \"#7201a8\"], [0.3333333333333333, \"#9c179e\"], [0.4444444444444444, \"#bd3786\"], [0.5555555555555556, \"#d8576b\"], [0.6666666666666666, \"#ed7953\"], [0.7777777777777778, \"#fb9f3a\"], [0.8888888888888888, \"#fdca26\"], [1.0, \"#f0f921\"]], \"type\": \"contour\"}], \"contourcarpet\": [{\"colorbar\": {\"outlinewidth\": 0, \"ticks\": \"\"}, \"type\": \"contourcarpet\"}], \"heatmap\": [{\"colorbar\": {\"outlinewidth\": 0, \"ticks\": \"\"}, \"colorscale\": [[0.0, \"#0d0887\"], [0.1111111111111111, \"#46039f\"], [0.2222222222222222, \"#7201a8\"], [0.3333333333333333, \"#9c179e\"], [0.4444444444444444, \"#bd3786\"], [0.5555555555555556, \"#d8576b\"], [0.6666666666666666, \"#ed7953\"], [0.7777777777777778, \"#fb9f3a\"], [0.8888888888888888, \"#fdca26\"], [1.0, \"#f0f921\"]], \"type\": \"heatmap\"}], \"heatmapgl\": [{\"colorbar\": {\"outlinewidth\": 0, \"ticks\": \"\"}, \"colorscale\": [[0.0, \"#0d0887\"], [0.1111111111111111, \"#46039f\"], [0.2222222222222222, \"#7201a8\"], [0.3333333333333333, \"#9c179e\"], [0.4444444444444444, \"#bd3786\"], [0.5555555555555556, \"#d8576b\"], [0.6666666666666666, \"#ed7953\"], [0.7777777777777778, \"#fb9f3a\"], [0.8888888888888888, \"#fdca26\"], [1.0, \"#f0f921\"]], \"type\": \"heatmapgl\"}], \"histogram\": [{\"marker\": {\"colorbar\": {\"outlinewidth\": 0, \"ticks\": \"\"}}, \"type\": \"histogram\"}], \"histogram2d\": [{\"colorbar\": {\"outlinewidth\": 0, \"ticks\": \"\"}, \"colorscale\": [[0.0, \"#0d0887\"], [0.1111111111111111, \"#46039f\"], [0.2222222222222222, \"#7201a8\"], [0.3333333333333333, \"#9c179e\"], [0.4444444444444444, \"#bd3786\"], [0.5555555555555556, \"#d8576b\"], [0.6666666666666666, \"#ed7953\"], [0.7777777777777778, \"#fb9f3a\"], [0.8888888888888888, \"#fdca26\"], [1.0, \"#f0f921\"]], \"type\": \"histogram2d\"}], \"histogram2dcontour\": [{\"colorbar\": {\"outlinewidth\": 0, \"ticks\": \"\"}, \"colorscale\": [[0.0, \"#0d0887\"], [0.1111111111111111, \"#46039f\"], [0.2222222222222222, \"#7201a8\"], [0.3333333333333333, \"#9c179e\"], [0.4444444444444444, \"#bd3786\"], [0.5555555555555556, \"#d8576b\"], [0.6666666666666666, \"#ed7953\"], [0.7777777777777778, \"#fb9f3a\"], [0.8888888888888888, \"#fdca26\"], [1.0, \"#f0f921\"]], \"type\": \"histogram2dcontour\"}], \"mesh3d\": [{\"colorbar\": {\"outlinewidth\": 0, \"ticks\": \"\"}, \"type\": \"mesh3d\"}], \"parcoords\": [{\"line\": {\"colorbar\": {\"outlinewidth\": 0, \"ticks\": \"\"}}, \"type\": \"parcoords\"}], \"pie\": [{\"automargin\": true, \"type\": \"pie\"}], \"scatter\": [{\"marker\": {\"colorbar\": {\"outlinewidth\": 0, \"ticks\": \"\"}}, \"type\": \"scatter\"}], \"scatter3d\": [{\"line\": {\"colorbar\": {\"outlinewidth\": 0, \"ticks\": \"\"}}, \"marker\": {\"colorbar\": {\"outlinewidth\": 0, \"ticks\": \"\"}}, \"type\": \"scatter3d\"}], \"scattercarpet\": [{\"marker\": {\"colorbar\": {\"outlinewidth\": 0, \"ticks\": \"\"}}, \"type\": \"scattercarpet\"}], \"scattergeo\": [{\"marker\": {\"colorbar\": {\"outlinewidth\": 0, \"ticks\": \"\"}}, \"type\": \"scattergeo\"}], \"scattergl\": [{\"marker\": {\"colorbar\": {\"outlinewidth\": 0, \"ticks\": \"\"}}, \"type\": \"scattergl\"}], \"scattermapbox\": [{\"marker\": {\"colorbar\": {\"outlinewidth\": 0, \"ticks\": \"\"}}, \"type\": \"scattermapbox\"}], \"scatterpolar\": [{\"marker\": {\"colorbar\": {\"outlinewidth\": 0, \"ticks\": \"\"}}, \"type\": \"scatterpolar\"}], \"scatterpolargl\": [{\"marker\": {\"colorbar\": {\"outlinewidth\": 0, \"ticks\": \"\"}}, \"type\": \"scatterpolargl\"}], \"scatterternary\": [{\"marker\": {\"colorbar\": {\"outlinewidth\": 0, \"ticks\": \"\"}}, \"type\": \"scatterternary\"}], \"surface\": [{\"colorbar\": {\"outlinewidth\": 0, \"ticks\": \"\"}, \"colorscale\": [[0.0, \"#0d0887\"], [0.1111111111111111, \"#46039f\"], [0.2222222222222222, \"#7201a8\"], [0.3333333333333333, \"#9c179e\"], [0.4444444444444444, \"#bd3786\"], [0.5555555555555556, \"#d8576b\"], [0.6666666666666666, \"#ed7953\"], [0.7777777777777778, \"#fb9f3a\"], [0.8888888888888888, \"#fdca26\"], [1.0, \"#f0f921\"]], \"type\": \"surface\"}], \"table\": [{\"cells\": {\"fill\": {\"color\": \"#EBF0F8\"}, \"line\": {\"color\": \"white\"}}, \"header\": {\"fill\": {\"color\": \"#C8D4E3\"}, \"line\": {\"color\": \"white\"}}, \"type\": \"table\"}]}, \"layout\": {\"annotationdefaults\": {\"arrowcolor\": \"#2a3f5f\", \"arrowhead\": 0, \"arrowwidth\": 1}, \"coloraxis\": {\"colorbar\": {\"outlinewidth\": 0, \"ticks\": \"\"}}, \"colorscale\": {\"diverging\": [[0, \"#8e0152\"], [0.1, \"#c51b7d\"], [0.2, \"#de77ae\"], [0.3, \"#f1b6da\"], [0.4, \"#fde0ef\"], [0.5, \"#f7f7f7\"], [0.6, \"#e6f5d0\"], [0.7, \"#b8e186\"], [0.8, \"#7fbc41\"], [0.9, \"#4d9221\"], [1, \"#276419\"]], \"sequential\": [[0.0, \"#0d0887\"], [0.1111111111111111, \"#46039f\"], [0.2222222222222222, \"#7201a8\"], [0.3333333333333333, \"#9c179e\"], [0.4444444444444444, \"#bd3786\"], [0.5555555555555556, \"#d8576b\"], [0.6666666666666666, \"#ed7953\"], [0.7777777777777778, \"#fb9f3a\"], [0.8888888888888888, \"#fdca26\"], [1.0, \"#f0f921\"]], \"sequentialminus\": [[0.0, \"#0d0887\"], [0.1111111111111111, \"#46039f\"], [0.2222222222222222, \"#7201a8\"], [0.3333333333333333, \"#9c179e\"], [0.4444444444444444, \"#bd3786\"], [0.5555555555555556, \"#d8576b\"], [0.6666666666666666, \"#ed7953\"], [0.7777777777777778, \"#fb9f3a\"], [0.8888888888888888, \"#fdca26\"], [1.0, \"#f0f921\"]]}, \"colorway\": [\"#636efa\", \"#EF553B\", \"#00cc96\", \"#ab63fa\", \"#FFA15A\", \"#19d3f3\", \"#FF6692\", \"#B6E880\", \"#FF97FF\", \"#FECB52\"], \"font\": {\"color\": \"#2a3f5f\"}, \"geo\": {\"bgcolor\": \"white\", \"lakecolor\": \"white\", \"landcolor\": \"#E5ECF6\", \"showlakes\": true, \"showland\": true, \"subunitcolor\": \"white\"}, \"hoverlabel\": {\"align\": \"left\"}, \"hovermode\": \"closest\", \"mapbox\": {\"style\": \"light\"}, \"paper_bgcolor\": \"white\", \"plot_bgcolor\": \"#E5ECF6\", \"polar\": {\"angularaxis\": {\"gridcolor\": \"white\", \"linecolor\": \"white\", \"ticks\": \"\"}, \"bgcolor\": \"#E5ECF6\", \"radialaxis\": {\"gridcolor\": \"white\", \"linecolor\": \"white\", \"ticks\": \"\"}}, \"scene\": {\"xaxis\": {\"backgroundcolor\": \"#E5ECF6\", \"gridcolor\": \"white\", \"gridwidth\": 2, \"linecolor\": \"white\", \"showbackground\": true, \"ticks\": \"\", \"zerolinecolor\": \"white\"}, \"yaxis\": {\"backgroundcolor\": \"#E5ECF6\", \"gridcolor\": \"white\", \"gridwidth\": 2, \"linecolor\": \"white\", \"showbackground\": true, \"ticks\": \"\", \"zerolinecolor\": \"white\"}, \"zaxis\": {\"backgroundcolor\": \"#E5ECF6\", \"gridcolor\": \"white\", \"gridwidth\": 2, \"linecolor\": \"white\", \"showbackground\": true, \"ticks\": \"\", \"zerolinecolor\": \"white\"}}, \"shapedefaults\": {\"line\": {\"color\": \"#2a3f5f\"}}, \"ternary\": {\"aaxis\": {\"gridcolor\": \"white\", \"linecolor\": \"white\", \"ticks\": \"\"}, \"baxis\": {\"gridcolor\": \"white\", \"linecolor\": \"white\", \"ticks\": \"\"}, \"bgcolor\": \"#E5ECF6\", \"caxis\": {\"gridcolor\": \"white\", \"linecolor\": \"white\", \"ticks\": \"\"}}, \"title\": {\"x\": 0.05}, \"xaxis\": {\"automargin\": true, \"gridcolor\": \"white\", \"linecolor\": \"white\", \"ticks\": \"\", \"title\": {\"standoff\": 15}, \"zerolinecolor\": \"white\", \"zerolinewidth\": 2}, \"yaxis\": {\"automargin\": true, \"gridcolor\": \"white\", \"linecolor\": \"white\", \"ticks\": \"\", \"title\": {\"standoff\": 15}, \"zerolinecolor\": \"white\", \"zerolinewidth\": 2}}}, \"title\": {\"text\": \"Count - TotalCases,TotalDeaths,ActiveCaes(Bar Chart)\"}, \"xaxis\": {\"tickfont\": {\"size\": 14}}, \"yaxis\": {\"tickfont\": {\"size\": 14}, \"title\": {\"font\": {\"size\": 16}, \"text\": \"TotalCases\"}}},\n",
       "                        {\"responsive\": true}\n",
       "                    ).then(function(){\n",
       "                            \n",
       "var gd = document.getElementById('dadf305e-0b17-40e2-9bc9-3e44b5b150a6');\n",
       "var x = new MutationObserver(function (mutations, observer) {{\n",
       "        var display = window.getComputedStyle(gd).display;\n",
       "        if (!display || display === 'none') {{\n",
       "            console.log([gd, 'removed!']);\n",
       "            Plotly.purge(gd);\n",
       "            observer.disconnect();\n",
       "        }}\n",
       "}});\n",
       "\n",
       "// Listen for the removal of the full notebook cells\n",
       "var notebookContainer = gd.closest('#notebook-container');\n",
       "if (notebookContainer) {{\n",
       "    x.observe(notebookContainer, {childList: true});\n",
       "}}\n",
       "\n",
       "// Listen for the clearing of the current output cell\n",
       "var outputEl = gd.closest('.output');\n",
       "if (outputEl) {{\n",
       "    x.observe(outputEl, {childList: true});\n",
       "}}\n",
       "\n",
       "                        })\n",
       "                };\n",
       "                });\n",
       "            </script>\n",
       "        </div>"
      ]
     },
     "metadata": {},
     "output_type": "display_data"
    }
   ],
   "source": [
    "fig = go.Figure()\n",
    "fig.add_trace(go.Bar(x=TotalCases['Country'],\n",
    "                y=TotalCases['TotalCases'],\n",
    "                name='TotalCases',\n",
    "                marker_color='lemon chiffon'\n",
    "                ))\n",
    "fig.add_trace(go.Bar(x=TotalDeaths['Country'],\n",
    "                y=TotalDeaths['TotalDeaths'],\n",
    "                name='Deaths',\n",
    "                marker_color='Violet'\n",
    "                ))\n",
    "fig.add_trace(go.Bar(x=ActiveCases['Country'],\n",
    "                y=ActiveCases['ActiveCases'],\n",
    "                name='ActiveCases',\n",
    "                marker_color='green yellow'\n",
    "                ))\n",
    "fig.update_layout(\n",
    "    title='Count - TotalCases,TotalDeaths,ActiveCaes(Bar Chart)',\n",
    "    xaxis_tickfont_size=14,\n",
    "    yaxis=dict(\n",
    "        title='TotalCases',\n",
    "        titlefont_size=16,\n",
    "        tickfont_size=14,\n",
    "    ),\n",
    "    legend=dict(\n",
    "        x=0,\n",
    "        y=1.0,\n",
    "        bgcolor='rgba(255, 255, 255, 0)',\n",
    "        bordercolor='rgba(255, 255, 255, 0)'\n",
    "    ),\n",
    "    barmode='group',\n",
    "    bargap=0.15, \n",
    "    bargroupgap=0.1\n",
    ")\n",
    "fig.show()\n"
   ]
  },
  {
   "cell_type": "code",
   "execution_count": 38,
   "metadata": {},
   "outputs": [
    {
     "data": {
      "text/plain": [
       "Text(0.5, 0, 'ActiveCases')"
      ]
     },
     "execution_count": 38,
     "metadata": {},
     "output_type": "execute_result"
    },
    {
     "data": {
      "image/png": "[encoded data removed]",
      "text/plain": [
       "<Figure size 1440x1152 with 3 Axes>"
      ]
     },
     "metadata": {},
     "output_type": "display_data"
    }
   ],
   "source": [
    "country=df.groupby(['Continent'])[['TotalCases','ActiveCases','TotalDeaths']].sum()\n",
    "top_5=country.nlargest(5,['TotalCases'])\n",
    "plt.figure(figsize=(20,16))\n",
    "plt.subplot(311)\n",
    "plt.title('Top 5 Continents with TotalCases, ActiveCases and TotalDeaths cases',fontsize=20)\n",
    "plt.barh(top_5.index,top_5['TotalCases'],color='blue')\n",
    "plt.yticks(fontsize=20)\n",
    "plt.xlabel('TotalCases',fontsize=20)\n",
    "plt.subplot(312)\n",
    "plt.barh(top_5.index,top_5['TotalDeaths'],color='red')\n",
    "plt.yticks(fontsize=20)\n",
    "plt.xlabel('TotalDeaths',fontsize=20)\n",
    "plt.subplot(313)\n",
    "plt.barh(top_5.index,top_5['ActiveCases'],color='green')\n",
    "plt.yticks(fontsize=20)\n",
    "plt.xlabel('ActiveCases',fontsize=20)"
   ]
  },
  {
   "cell_type": "code",
   "execution_count": null,
   "metadata": {},
   "outputs": [],
   "source": []
  }
 ],
 "metadata": {
  "kernelspec": {
   "display_name": "Python 3",
   "language": "python",
   "name": "python3"
  },
  "language_info": {
   "codemirror_mode": {
    "name": "ipython",
    "version": 3
   },
   "file_extension": ".py",
   "mimetype": "text/x-python",
   "name": "python",
   "nbconvert_exporter": "python",
   "pygments_lexer": "ipython3",
   "version": "3.7.4"
  }
 },
 "nbformat": 4,
 "nbformat_minor": 2
}
