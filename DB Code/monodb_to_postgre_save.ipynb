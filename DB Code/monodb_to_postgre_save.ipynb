{
 "cells": [
  {
   "cell_type": "code",
   "execution_count": 3,
   "metadata": {},
   "outputs": [],
   "source": [
    "from pymongo import MongoClient\n",
    "import psycopg2\n"
   ]
  },
  {
   "cell_type": "code",
   "execution_count": null,
   "metadata": {},
   "outputs": [],
   "source": []
  },
  {
   "cell_type": "raw",
   "metadata": {},
   "source": [
    "## COnnect mongodb\n",
    "## Run this start mongodb from cmd\n",
    "\n",
    "brew services start mongodb-community@4.2\n",
    "ps aux | grep -v grep | grep mongod\n",
    "Mogno\n"
   ]
  },
  {
   "cell_type": "code",
   "execution_count": 2,
   "metadata": {},
   "outputs": [],
   "source": [
    "client=MongoClient('localhost',27017)\n"
   ]
  },
  {
   "cell_type": "code",
   "execution_count": 3,
   "metadata": {},
   "outputs": [
    {
     "data": {
      "text/plain": [
       "['admin', 'config', 'db', 'local', 'posts', 'twitter']"
      ]
     },
     "execution_count": 3,
     "metadata": {},
     "output_type": "execute_result"
    }
   ],
   "source": [
    "## check db list in mongodb\n",
    "client.list_database_names()"
   ]
  },
  {
   "cell_type": "code",
   "execution_count": 4,
   "metadata": {},
   "outputs": [
    {
     "data": {
      "text/plain": [
       "['Author_details']"
      ]
     },
     "execution_count": 4,
     "metadata": {},
     "output_type": "execute_result"
    }
   ],
   "source": [
    "## check all the collection from db\n",
    "my_db=client['posts']\n",
    "my_db.list_collection_names()"
   ]
  },
  {
   "cell_type": "code",
   "execution_count": 5,
   "metadata": {},
   "outputs": [],
   "source": [
    "my_col=my_db['Author_details']"
   ]
  },
  {
   "cell_type": "markdown",
   "metadata": {},
   "source": [
    "## Connection with postgres"
   ]
  },
  {
   "cell_type": "raw",
   "metadata": {},
   "source": [
    "## start pgadmin from app\n",
    "## get the connection"
   ]
  },
  {
   "cell_type": "code",
   "execution_count": 6,
   "metadata": {},
   "outputs": [],
   "source": [
    "conn=psycopg2.connect(host=\"localhost\",port=5432,database=\"postgres\", user=\"postgres\", password=\"RamP\")"
   ]
  },
  {
   "cell_type": "code",
   "execution_count": 7,
   "metadata": {},
   "outputs": [],
   "source": [
    "cur=conn.cursor()\n",
    "cur.execute(\"\"\"SELECT * from bad_posts\"\"\")"
   ]
  },
  {
   "cell_type": "code",
   "execution_count": 8,
   "metadata": {},
   "outputs": [
    {
     "name": "stdout",
     "output_type": "stream",
     "text": [
      "[]\n"
     ]
    }
   ],
   "source": [
    "query_results=cur.fetchall()\n",
    "print(query_results)"
   ]
  },
  {
   "cell_type": "code",
   "execution_count": 9,
   "metadata": {},
   "outputs": [],
   "source": [
    "cur.close()\n",
    "conn.close()"
   ]
  },
  {
   "cell_type": "markdown",
   "metadata": {},
   "source": [
    "## load the json"
   ]
  },
  {
   "cell_type": "code",
   "execution_count": 10,
   "metadata": {},
   "outputs": [
    {
     "data": {
      "text/plain": [
       "['trendig_sample', 'corona-19', '.DS_Store', 'creditcard.csv']"
      ]
     },
     "execution_count": 10,
     "metadata": {},
     "output_type": "execute_result"
    }
   ],
   "source": [
    "import os\n",
    "os.listdir('data')"
   ]
  },
  {
   "cell_type": "code",
   "execution_count": 11,
   "metadata": {},
   "outputs": [],
   "source": [
    "import json"
   ]
  },
  {
   "cell_type": "code",
   "execution_count": 12,
   "metadata": {},
   "outputs": [],
   "source": [
    "with open('data/trendig_sample') as f:\n",
    "    data=json.load(f)"
   ]
  },
  {
   "cell_type": "code",
   "execution_count": 13,
   "metadata": {},
   "outputs": [
    {
     "name": "stdout",
     "output_type": "stream",
     "text": [
      "[{'country': 'Sweden', 'countryCode': 'SE', 'name': 'Sweden', 'parentid': 1, 'placeType': {'code': 12, 'name': 'Country'}, 'url': 'http://where.yahooapis.com/v1/place/23424954', 'woeid': 23424954}, {'country': 'United States', 'countryCode': 'US', 'name': 'New Haven', 'parentid': 23424977, 'placeType': {'code': 7, 'name': 'Town'}, 'url': 'http://where.yahooapis.com/v1/place/2458410', 'woeid': 2458410}, {'country': 'Japan', 'countryCode': 'JP', 'name': 'Sapporo', 'parentid': 23424856, 'placeType': {'code': 7, 'name': 'Town'}, 'url': 'http://where.yahooapis.com/v1/place/1118108', 'woeid': 1118108}, {'country': 'United States', 'countryCode': 'US', 'name': 'Providence', 'parentid': 23424977, 'placeType': {'code': 7, 'name': 'Town'}, 'url': 'http://where.yahooapis.com/v1/place/2477058', 'woeid': 2477058}, {'country': 'United States', 'countryCode': 'US', 'name': 'Cincinnati', 'parentid': 23424977, 'placeType': {'code': 7, 'name': 'Town'}, 'url': 'http://where.yahooapis.com/v1/place/2380358', 'woeid': 2380358}]\n",
      "<class 'list'>\n"
     ]
    }
   ],
   "source": [
    "print(data)\n",
    "print(type(data))"
   ]
  },
  {
   "cell_type": "markdown",
   "metadata": {},
   "source": [
    "## Insert into mongodb"
   ]
  },
  {
   "cell_type": "code",
   "execution_count": 14,
   "metadata": {},
   "outputs": [],
   "source": [
    "## create new database -twitter\n",
    "## create new collection-country_info\n",
    "twitter_db=client['twitter']\n",
    "country_info_col=twitter_db['country_info']"
   ]
  },
  {
   "cell_type": "code",
   "execution_count": 15,
   "metadata": {},
   "outputs": [
    {
     "data": {
      "text/plain": [
       "<pymongo.results.InsertManyResult at 0x105c1c9b0>"
      ]
     },
     "execution_count": 15,
     "metadata": {},
     "output_type": "execute_result"
    }
   ],
   "source": [
    "## insert many into country_info_col\n",
    "country_info_col.insert_many(data)"
   ]
  },
  {
   "cell_type": "code",
   "execution_count": 16,
   "metadata": {},
   "outputs": [
    {
     "name": "stdout",
     "output_type": "stream",
     "text": [
      "{'_id': ObjectId('5e7dc29497a4d01db8799bf3'), 'country': 'Sweden', 'countryCode': 'SE', 'name': 'Sweden', 'parentid': 1, 'placeType': {'code': 12, 'name': 'Country'}, 'url': 'http://where.yahooapis.com/v1/place/23424954', 'woeid': 23424954}\n",
      "\n",
      "\n",
      "{'_id': ObjectId('5e7dc29497a4d01db8799bf4'), 'country': 'United States', 'countryCode': 'US', 'name': 'New Haven', 'parentid': 23424977, 'placeType': {'code': 7, 'name': 'Town'}, 'url': 'http://where.yahooapis.com/v1/place/2458410', 'woeid': 2458410}\n",
      "\n",
      "\n",
      "{'_id': ObjectId('5e7dc29497a4d01db8799bf5'), 'country': 'Japan', 'countryCode': 'JP', 'name': 'Sapporo', 'parentid': 23424856, 'placeType': {'code': 7, 'name': 'Town'}, 'url': 'http://where.yahooapis.com/v1/place/1118108', 'woeid': 1118108}\n",
      "\n",
      "\n",
      "{'_id': ObjectId('5e7dc29497a4d01db8799bf6'), 'country': 'United States', 'countryCode': 'US', 'name': 'Providence', 'parentid': 23424977, 'placeType': {'code': 7, 'name': 'Town'}, 'url': 'http://where.yahooapis.com/v1/place/2477058', 'woeid': 2477058}\n",
      "\n",
      "\n",
      "{'_id': ObjectId('5e7dc29497a4d01db8799bf7'), 'country': 'United States', 'countryCode': 'US', 'name': 'Cincinnati', 'parentid': 23424977, 'placeType': {'code': 7, 'name': 'Town'}, 'url': 'http://where.yahooapis.com/v1/place/2380358', 'woeid': 2380358}\n",
      "\n",
      "\n",
      "{'_id': ObjectId('5e7dd5c610b68cbfa41a2bf9'), 'country': 'Sweden', 'countryCode': 'SE', 'name': 'Sweden', 'parentid': 1, 'placeType': {'code': 12, 'name': 'Country'}, 'url': 'http://where.yahooapis.com/v1/place/23424954', 'woeid': 23424954}\n",
      "\n",
      "\n",
      "{'_id': ObjectId('5e7dd5c610b68cbfa41a2bfa'), 'country': 'United States', 'countryCode': 'US', 'name': 'New Haven', 'parentid': 23424977, 'placeType': {'code': 7, 'name': 'Town'}, 'url': 'http://where.yahooapis.com/v1/place/2458410', 'woeid': 2458410}\n",
      "\n",
      "\n",
      "{'_id': ObjectId('5e7dd5c610b68cbfa41a2bfb'), 'country': 'Japan', 'countryCode': 'JP', 'name': 'Sapporo', 'parentid': 23424856, 'placeType': {'code': 7, 'name': 'Town'}, 'url': 'http://where.yahooapis.com/v1/place/1118108', 'woeid': 1118108}\n",
      "\n",
      "\n",
      "{'_id': ObjectId('5e7dd5c610b68cbfa41a2bfc'), 'country': 'United States', 'countryCode': 'US', 'name': 'Providence', 'parentid': 23424977, 'placeType': {'code': 7, 'name': 'Town'}, 'url': 'http://where.yahooapis.com/v1/place/2477058', 'woeid': 2477058}\n",
      "\n",
      "\n",
      "{'_id': ObjectId('5e7dd5c610b68cbfa41a2bfd'), 'country': 'United States', 'countryCode': 'US', 'name': 'Cincinnati', 'parentid': 23424977, 'placeType': {'code': 7, 'name': 'Town'}, 'url': 'http://where.yahooapis.com/v1/place/2380358', 'woeid': 2380358}\n",
      "\n",
      "\n"
     ]
    }
   ],
   "source": [
    "for x in country_info_col.find():\n",
    "    print(x)\n",
    "    print('\\n')"
   ]
  },
  {
   "cell_type": "markdown",
   "metadata": {},
   "source": [
    "## Create table into postgre"
   ]
  },
  {
   "cell_type": "code",
   "execution_count": 57,
   "metadata": {},
   "outputs": [
    {
     "name": "stdout",
     "output_type": "stream",
     "text": [
      "Table created successfully in PostgreSQL \n",
      "PostgreSQL connection is closed\n"
     ]
    }
   ],
   "source": [
    "import psycopg2\n",
    "from psycopg2 import Error\n",
    "\n",
    "try:\n",
    "   conn=psycopg2.connect(host=\"localhost\",port=5432,\n",
    "                         database=\"postgres\", \n",
    "                         user=\"postgres\", password=\"RamP\")\n",
    "\n",
    "   cursor = conn.cursor()\n",
    "    \n",
    "   create_table_query = '''CREATE TABLE country_info_all(\n",
    "       _id TEXT PRIMARY KEY,\n",
    "       country VARCHAR (50) UNIQUE ,\n",
    "       countryCode VARCHAR (1000) ,\n",
    "       name VARCHAR (355) ,\n",
    "       placeType TEXT ,\n",
    "       url TEXT,\n",
    "       woeid VARCHAR(300)\n",
    "    ); '''\n",
    "   cursor.execute(create_table_query)\n",
    "   conn.commit()\n",
    "   print(\"Table created successfully in PostgreSQL \")\n",
    "\n",
    "except (Exception, psycopg2.DatabaseError) as error :\n",
    "    print (\"Error while creating PostgreSQL table\", error)\n",
    "finally:\n",
    "    #closing database connection.\n",
    "        if(conn):\n",
    "            cursor.close()\n",
    "            conn.close()\n",
    "            print(\"PostgreSQL connection is closed\")"
   ]
  },
  {
   "cell_type": "markdown",
   "metadata": {},
   "source": [
    "## Insert into table"
   ]
  },
  {
   "cell_type": "code",
   "execution_count": 53,
   "metadata": {},
   "outputs": [
    {
     "name": "stdout",
     "output_type": "stream",
     "text": [
      "[(1,), (2,), (3,)]\n"
     ]
    },
    {
     "data": {
      "text/plain": [
       "[(1, 2, 3)]"
      ]
     },
     "execution_count": 53,
     "metadata": {},
     "output_type": "execute_result"
    }
   ],
   "source": [
    "x = [1, 2, 3]\n",
    "y = [4, 5, 6]\n",
    "zipped = zip(x)\n",
    "\n",
    "\n",
    "print(list(zipped))\n",
    "b=tuple(x)\n",
    "a=[]\n",
    "a.append(b)\n",
    "a"
   ]
  },
  {
   "cell_type": "code",
   "execution_count": null,
   "metadata": {},
   "outputs": [],
   "source": []
  },
  {
   "cell_type": "code",
   "execution_count": 56,
   "metadata": {},
   "outputs": [
    {
     "name": "stdout",
     "output_type": "stream",
     "text": [
      "[(ObjectId('5e7dc29497a4d01db8799bf3'), 'Sweden', 'SE', 'Sweden', 1, {'code': 12, 'name': 'Country'}, 'http://where.yahooapis.com/v1/place/23424954', 23424954), (ObjectId('5e7dc29497a4d01db8799bf4'), 'United States', 'US', 'New Haven', 23424977, {'code': 7, 'name': 'Town'}, 'http://where.yahooapis.com/v1/place/2458410', 2458410), (ObjectId('5e7dc29497a4d01db8799bf5'), 'Japan', 'JP', 'Sapporo', 23424856, {'code': 7, 'name': 'Town'}, 'http://where.yahooapis.com/v1/place/1118108', 1118108), (ObjectId('5e7dc29497a4d01db8799bf6'), 'United States', 'US', 'Providence', 23424977, {'code': 7, 'name': 'Town'}, 'http://where.yahooapis.com/v1/place/2477058', 2477058), (ObjectId('5e7dc29497a4d01db8799bf7'), 'United States', 'US', 'Cincinnati', 23424977, {'code': 7, 'name': 'Town'}, 'http://where.yahooapis.com/v1/place/2380358', 2380358), (ObjectId('5e7dd5c610b68cbfa41a2bf9'), 'Sweden', 'SE', 'Sweden', 1, {'code': 12, 'name': 'Country'}, 'http://where.yahooapis.com/v1/place/23424954', 23424954), (ObjectId('5e7dd5c610b68cbfa41a2bfa'), 'United States', 'US', 'New Haven', 23424977, {'code': 7, 'name': 'Town'}, 'http://where.yahooapis.com/v1/place/2458410', 2458410), (ObjectId('5e7dd5c610b68cbfa41a2bfb'), 'Japan', 'JP', 'Sapporo', 23424856, {'code': 7, 'name': 'Town'}, 'http://where.yahooapis.com/v1/place/1118108', 1118108), (ObjectId('5e7dd5c610b68cbfa41a2bfc'), 'United States', 'US', 'Providence', 23424977, {'code': 7, 'name': 'Town'}, 'http://where.yahooapis.com/v1/place/2477058', 2477058), (ObjectId('5e7dd5c610b68cbfa41a2bfd'), 'United States', 'US', 'Cincinnati', 23424977, {'code': 7, 'name': 'Town'}, 'http://where.yahooapis.com/v1/place/2380358', 2380358)]\n"
     ]
    }
   ],
   "source": [
    "print(country_list)"
   ]
  },
  {
   "cell_type": "code",
   "execution_count": 75,
   "metadata": {},
   "outputs": [
    {
     "name": "stdout",
     "output_type": "stream",
     "text": [
      "''' INSERT INTO country_info_all(_id,country,countryCode,name,placeType,url,woeid)  VALUES (ObjectId('5e7dc29497a4d01db8799bf3'), 'Sweden', 'SE', 'Sweden', 1, {'code': 12, 'name': 'Country'}, 'http://where.yahooapis.com/v1/place/23424954', 23424954)'''\n",
      "''' INSERT INTO country_info_all(_id,country,countryCode,name,placeType,url,woeid)  VALUES (ObjectId('5e7dc29497a4d01db8799bf4'), 'United States', 'US', 'New Haven', 23424977, {'code': 7, 'name': 'Town'}, 'http://where.yahooapis.com/v1/place/2458410', 2458410)'''\n",
      "''' INSERT INTO country_info_all(_id,country,countryCode,name,placeType,url,woeid)  VALUES (ObjectId('5e7dc29497a4d01db8799bf5'), 'Japan', 'JP', 'Sapporo', 23424856, {'code': 7, 'name': 'Town'}, 'http://where.yahooapis.com/v1/place/1118108', 1118108)'''\n",
      "''' INSERT INTO country_info_all(_id,country,countryCode,name,placeType,url,woeid)  VALUES (ObjectId('5e7dc29497a4d01db8799bf6'), 'United States', 'US', 'Providence', 23424977, {'code': 7, 'name': 'Town'}, 'http://where.yahooapis.com/v1/place/2477058', 2477058)'''\n",
      "''' INSERT INTO country_info_all(_id,country,countryCode,name,placeType,url,woeid)  VALUES (ObjectId('5e7dc29497a4d01db8799bf7'), 'United States', 'US', 'Cincinnati', 23424977, {'code': 7, 'name': 'Town'}, 'http://where.yahooapis.com/v1/place/2380358', 2380358)'''\n",
      "''' INSERT INTO country_info_all(_id,country,countryCode,name,placeType,url,woeid)  VALUES (ObjectId('5e7dd5c610b68cbfa41a2bf9'), 'Sweden', 'SE', 'Sweden', 1, {'code': 12, 'name': 'Country'}, 'http://where.yahooapis.com/v1/place/23424954', 23424954)'''\n",
      "''' INSERT INTO country_info_all(_id,country,countryCode,name,placeType,url,woeid)  VALUES (ObjectId('5e7dd5c610b68cbfa41a2bfa'), 'United States', 'US', 'New Haven', 23424977, {'code': 7, 'name': 'Town'}, 'http://where.yahooapis.com/v1/place/2458410', 2458410)'''\n",
      "''' INSERT INTO country_info_all(_id,country,countryCode,name,placeType,url,woeid)  VALUES (ObjectId('5e7dd5c610b68cbfa41a2bfb'), 'Japan', 'JP', 'Sapporo', 23424856, {'code': 7, 'name': 'Town'}, 'http://where.yahooapis.com/v1/place/1118108', 1118108)'''\n",
      "''' INSERT INTO country_info_all(_id,country,countryCode,name,placeType,url,woeid)  VALUES (ObjectId('5e7dd5c610b68cbfa41a2bfc'), 'United States', 'US', 'Providence', 23424977, {'code': 7, 'name': 'Town'}, 'http://where.yahooapis.com/v1/place/2477058', 2477058)'''\n",
      "''' INSERT INTO country_info_all(_id,country,countryCode,name,placeType,url,woeid)  VALUES (ObjectId('5e7dd5c610b68cbfa41a2bfd'), 'United States', 'US', 'Cincinnati', 23424977, {'code': 7, 'name': 'Town'}, 'http://where.yahooapis.com/v1/place/2380358', 2380358)'''\n"
     ]
    }
   ],
   "source": [
    "#cursor.execute('''INSERT INTO EMPLOYEE(FIRST_NAME, LAST_NAME, AGE, SEX,\n",
    " #  INCOME) VALUES ('Ramya', 'Rama priya', 27, 'F', 9000)''')\n",
    "sql =\"''' INSERT INTO country_info_all(_id,country,countryCode,name,placeType,url,woeid)  VALUES \"\n",
    "for tup in country_list:\n",
    "    print(sql+str(tup)+\"'''\")"
   ]
  },
  {
   "cell_type": "code",
   "execution_count": 126,
   "metadata": {},
   "outputs": [],
   "source": [
    "def insert_country_list(country_list):\n",
    "    \"\"\" insert multiple vendors into the vendors table  \"\"\"\n",
    "    sql =\"''' INSERT INTO country_info_all(_id,country,countryCode,name,placeType,url,woeid)  VALUES \"\n",
    "    conn = None\n",
    "    try:\n",
    "        print('sg')\n",
    "        # read database configuration\n",
    "        # connect to the PostgreSQL database\n",
    "        conn=psycopg2.connect(host=\"localhost\",port=5432,\n",
    "                         database=\"postgres\", \n",
    "                         user=\"postgres\", password=\"RamP\")\n",
    "\n",
    "        # create a new cursor\n",
    "        cur = conn.cursor()\n",
    "        # execute the INSERT statement\n",
    "       # for row in country_list:\n",
    "           # query=sql+str(row)+\"'''\"\n",
    "        cur.execute(''' INSERT INTO country_info_all ( _id,country,countryCode,name,placeType,url,woeid)  VALUES (\"1\", 'Sweden', 'SE', 'Sweden', '1', \"fge\", 'aegag', '23424954')''')\n",
    "        # commit the changes to the database\n",
    "        conn.commit()\n",
    "        # close communication with the database\n",
    "        cur.close()\n",
    "    except (Exception, psycopg2.DatabaseError) as error:\n",
    "        print(error)\n",
    "    finally:\n",
    "        if conn is not None:\n",
    "            conn.close()"
   ]
  },
  {
   "cell_type": "code",
   "execution_count": 142,
   "metadata": {},
   "outputs": [],
   "source": [
    "def insert_country_list_1(country_list):\n",
    "    \"\"\" insert multiple vendors into the vendors table  \"\"\"\n",
    "    sql =\"''' INSERT INTO country_info_all(_id,country,countryCode,name,placeType,url,woeid)  VALUES \"\n",
    "    conn = None\n",
    "    try:\n",
    "        print('sg')\n",
    "        # read database configuration\n",
    "        # connect to the PostgreSQL database\n",
    "        conn=psycopg2.connect(host=\"localhost\",port=5432,\n",
    "                         database=\"postgres\", \n",
    "                         user=\"postgres\", password=\"RamP\")\n",
    "\n",
    "        # create a new cursor\n",
    "        cur = conn.cursor()\n",
    "        # execute the INSERT statement\n",
    "       # for row in country_list:\n",
    "           # query=sql+str(row)+\"'''\"\n",
    "        postgres_insert_query = \"\"\"  INSERT INTO country_info_all ( _id,country,countryCode,name, placeType,url,woeid) VALUES (%s,%s,%s,%s,%s,%s,%s)\"\"\"\n",
    "        record_to_insert = (\"1\", 'Sweden', 'SE', 'Sweden', '1', \"fge\", '23424954')\n",
    "        cur.execute(postgres_insert_query,record_to_insert)\n",
    "       # cur.execute(''' INSERT INTO country_info_all ( _id,country,countryCode,name,\n",
    "      #  placeType,url,woeid)  VALUES (\"ObjectId(5e7dc29497a4d01db8799bf3')\", 'Sweden', 'SE', 'Sweden', '1', \"{'code': 12, 'name': 'Country'}\", 'http://where.yahooapis.com/v1/place/23424954', '23424954')''')\n",
    "        # commit the changes to the database\n",
    "        conn.commit()\n",
    "        # close communication with the database\n",
    "        cur.close()\n",
    "        print('Insertion done')\n",
    "    except (Exception, psycopg2.DatabaseError) as error:\n",
    "        print(error)\n",
    "    finally:\n",
    "        if conn is not None:\n",
    "            conn.close()"
   ]
  },
  {
   "cell_type": "code",
   "execution_count": 143,
   "metadata": {},
   "outputs": [
    {
     "name": "stdout",
     "output_type": "stream",
     "text": [
      "sg\n",
      "Insertion done\n"
     ]
    }
   ],
   "source": [
    "if __name__ == '__main__':\n",
    "    # insert one vendor\n",
    "   # insert_vendor(\"3M Co.\")\n",
    "    # insert multiple vendors\n",
    "    # Create the list of tuples for inserting\n",
    "    country_list=[]\n",
    "    for info in country_info_col.find():\n",
    "        value_info=[]\n",
    "        for x,y in info.items():\n",
    "            value_info.append(y)\n",
    "        b=tuple(value_info)\n",
    "        country_list.append(b)\n",
    "    insert_country_list_1(country_list)"
   ]
  },
  {
   "cell_type": "code",
   "execution_count": 144,
   "metadata": {},
   "outputs": [],
   "source": [
    "def select_country_list_1(country_list):\n",
    "    \"\"\" insert multiple vendors into the vendors table  \"\"\"\n",
    "    conn = None\n",
    "    try:\n",
    "        print('sg')\n",
    "        # read database configuration\n",
    "        # connect to the PostgreSQL database\n",
    "        conn=psycopg2.connect(host=\"localhost\",port=5432,\n",
    "                         database=\"postgres\", \n",
    "                         user=\"postgres\", password=\"RamP\")\n",
    "\n",
    "        # create a new cursor\n",
    "        cur = conn.cursor()\n",
    "        # execute the INSERT statement\n",
    "       # for row in country_list:\n",
    "           # query=sql+str(row)+\"'''\"\n",
    "        cur.execute(\" SELECT * from country_info_all\")\n",
    "        result=cur.fetchall()\n",
    "        print(result)\n",
    "       # cur.execute(''' INSERT INTO country_info_all ( _id,country,countryCode,name,\n",
    "      #  placeType,url,woeid)  VALUES (\"ObjectId(5e7dc29497a4d01db8799bf3')\", 'Sweden', 'SE', 'Sweden', '1', \"{'code': 12, 'name': 'Country'}\", 'http://where.yahooapis.com/v1/place/23424954', '23424954')''')\n",
    "        # commit the changes to the database\n",
    "        conn.commit()\n",
    "        # close communication with the database\n",
    "        cur.close()\n",
    "    except (Exception, psycopg2.DatabaseError) as error:\n",
    "        print(error)\n",
    "    finally:\n",
    "        if conn is not None:\n",
    "            conn.close()"
   ]
  },
  {
   "cell_type": "code",
   "execution_count": 145,
   "metadata": {},
   "outputs": [
    {
     "name": "stdout",
     "output_type": "stream",
     "text": [
      "sg\n",
      "[('1', 'Sweden', 'SE', 'Sweden', '1', 'fge', '23424954')]\n"
     ]
    }
   ],
   "source": [
    "if __name__ == '__main__':\n",
    "    # insert one vendor\n",
    "   # insert_vendor(\"3M Co.\")\n",
    "    # insert multiple vendors\n",
    "    # Create the list of tuples for inserting\n",
    "    country_list=[]\n",
    "    for info in country_info_col.find():\n",
    "        value_info=[]\n",
    "        for x,y in info.items():\n",
    "            value_info.append(y)\n",
    "        b=tuple(value_info)\n",
    "        country_list.append(b)\n",
    "    select_country_list_1(country_list)"
   ]
  },
  {
   "cell_type": "code",
   "execution_count": 135,
   "metadata": {},
   "outputs": [
    {
     "data": {
      "text/plain": [
       "\"insert_country_list([\\n      ('AKM Semiconductor Inc.',),\\n      ('Asahi Glass Co Ltd.',),\\n      ('Daikin Industries Ltd.',),\\n      ('Dynacast International Inc.',),\\n      ('Foster Electric Co. Ltd.',),\\n      ('Murata Manufacturing Co. Ltd.',)\\n  ])\""
      ]
     },
     "execution_count": 135,
     "metadata": {},
     "output_type": "execute_result"
    }
   ],
   "source": [
    "  '''insert_country_list([\n",
    "        ('AKM Semiconductor Inc.',),\n",
    "        ('Asahi Glass Co Ltd.',),\n",
    "        ('Daikin Industries Ltd.',),\n",
    "        ('Dynacast International Inc.',),\n",
    "        ('Foster Electric Co. Ltd.',),\n",
    "        ('Murata Manufacturing Co. Ltd.',)\n",
    "    ])'''"
   ]
  },
  {
   "cell_type": "code",
   "execution_count": 136,
   "metadata": {},
   "outputs": [],
   "source": []
  },
  {
   "cell_type": "code",
   "execution_count": null,
   "metadata": {},
   "outputs": [],
   "source": []
  }
 ],
 "metadata": {
  "kernelspec": {
   "display_name": "Python 3",
   "language": "python",
   "name": "python3"
  },
  "language_info": {
   "codemirror_mode": {
    "name": "ipython",
    "version": 3
   },
   "file_extension": ".py",
   "mimetype": "text/x-python",
   "name": "python",
   "nbconvert_exporter": "python",
   "pygments_lexer": "ipython3",
   "version": "3.7.6"
  }
 },
 "nbformat": 4,
 "nbformat_minor": 2
}
