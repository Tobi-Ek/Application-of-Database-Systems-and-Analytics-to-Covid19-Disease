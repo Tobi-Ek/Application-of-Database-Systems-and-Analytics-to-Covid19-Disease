{
 "cells": [
  {
   "cell_type": "raw",
   "metadata": {},
   "source": [
    "Find out most populat tag in England and India   respectively  so that people can start following it.\n",
    "Step 1)Load the cleaned CSV  data of twitter.\n",
    "Step 2)Preprocessing the data\n",
    "Step 3)Filter out the data of UK and India.\n",
    "Step 4)Find out top 5 popular tag in each country\n",
    "Step 5)Show with bar graph most popular 5 tags.\n"
   ]
  },
  {
   "cell_type": "code",
   "execution_count": 1,
   "metadata": {},
   "outputs": [],
   "source": [
    "import pandas as pd\n",
    "import numpy as np\n",
    "import matplotlib.pyplot as plt\n"
   ]
  },
  {
   "cell_type": "code",
   "execution_count": 2,
   "metadata": {},
   "outputs": [],
   "source": [
    "data=pd.read_csv('data/Cleaned_Tweet_data.csv')"
   ]
  },
  {
   "cell_type": "code",
   "execution_count": 3,
   "metadata": {},
   "outputs": [
    {
     "data": {
      "text/html": [
       "<div>\n",
       "<style scoped>\n",
       "    .dataframe tbody tr th:only-of-type {\n",
       "        vertical-align: middle;\n",
       "    }\n",
       "\n",
       "    .dataframe tbody tr th {\n",
       "        vertical-align: top;\n",
       "    }\n",
       "\n",
       "    .dataframe thead th {\n",
       "        text-align: right;\n",
       "    }\n",
       "</style>\n",
       "<table border=\"1\" class=\"dataframe\">\n",
       "  <thead>\n",
       "    <tr style=\"text-align: right;\">\n",
       "      <th></th>\n",
       "      <th>tweet_id</th>\n",
       "      <th>text</th>\n",
       "      <th>user_name</th>\n",
       "      <th>created_at</th>\n",
       "      <th>location</th>\n",
       "      <th>Country</th>\n",
       "      <th>timestamp_ms</th>\n",
       "      <th>quote_count</th>\n",
       "      <th>reply_count</th>\n",
       "      <th>retweet_count</th>\n",
       "      <th>favorite_count</th>\n",
       "      <th>hashtags</th>\n",
       "    </tr>\n",
       "  </thead>\n",
       "  <tbody>\n",
       "    <tr>\n",
       "      <th>0</th>\n",
       "      <td>1.250010e+18</td>\n",
       "      <td>RT @eileeniorio: Talking to the @BBCNews  @Bil...</td>\n",
       "      <td>ChrisJGodlewski</td>\n",
       "      <td>Tue Apr 14 10:53:12 +0000 2020</td>\n",
       "      <td>Alsace, France</td>\n",
       "      <td>France</td>\n",
       "      <td>1.586860e+12</td>\n",
       "      <td>0</td>\n",
       "      <td>0</td>\n",
       "      <td>0</td>\n",
       "      <td>0</td>\n",
       "      <td>COVID19</td>\n",
       "    </tr>\n",
       "    <tr>\n",
       "      <th>1</th>\n",
       "      <td>1.250010e+18</td>\n",
       "      <td>My tribute for today. Congratulations on  exec...</td>\n",
       "      <td>bearhugz25</td>\n",
       "      <td>Tue Apr 14 10:53:12 +0000 2020</td>\n",
       "      <td>Philippines</td>\n",
       "      <td>Philippines</td>\n",
       "      <td>1.586860e+12</td>\n",
       "      <td>0</td>\n",
       "      <td>0</td>\n",
       "      <td>0</td>\n",
       "      <td>0</td>\n",
       "      <td>NaN</td>\n",
       "    </tr>\n",
       "    <tr>\n",
       "      <th>2</th>\n",
       "      <td>1.250010e+18</td>\n",
       "      <td>RT @Brevesdepresse: ⚡🇲🇫FLASH - Considérés comm...</td>\n",
       "      <td>Reazy92i</td>\n",
       "      <td>Tue Apr 14 10:53:12 +0000 2020</td>\n",
       "      <td>Poitiers, France</td>\n",
       "      <td>France</td>\n",
       "      <td>1.586860e+12</td>\n",
       "      <td>0</td>\n",
       "      <td>0</td>\n",
       "      <td>0</td>\n",
       "      <td>0</td>\n",
       "      <td>infirmiers</td>\n",
       "    </tr>\n",
       "    <tr>\n",
       "      <th>3</th>\n",
       "      <td>1.250010e+18</td>\n",
       "      <td>Ok @opodo I'm now at the end of my tether. Had...</td>\n",
       "      <td>Lesley_Allen_</td>\n",
       "      <td>Tue Apr 14 10:53:12 +0000 2020</td>\n",
       "      <td>Bangor Co Down</td>\n",
       "      <td>Bangladesh</td>\n",
       "      <td>1.586860e+12</td>\n",
       "      <td>0</td>\n",
       "      <td>0</td>\n",
       "      <td>0</td>\n",
       "      <td>0</td>\n",
       "      <td>NaN</td>\n",
       "    </tr>\n",
       "    <tr>\n",
       "      <th>4</th>\n",
       "      <td>1.250010e+18</td>\n",
       "      <td>RT @PresidenciaSV: Este es el Decreto Ejecutiv...</td>\n",
       "      <td>tecmel1</td>\n",
       "      <td>Tue Apr 14 10:53:12 +0000 2020</td>\n",
       "      <td>el salvador</td>\n",
       "      <td>El Salvador</td>\n",
       "      <td>1.586860e+12</td>\n",
       "      <td>0</td>\n",
       "      <td>0</td>\n",
       "      <td>0</td>\n",
       "      <td>0</td>\n",
       "      <td>NaN</td>\n",
       "    </tr>\n",
       "  </tbody>\n",
       "</table>\n",
       "</div>"
      ],
      "text/plain": [
       "       tweet_id                                               text  \\\n",
       "0  1.250010e+18  RT @eileeniorio: Talking to the @BBCNews  @Bil...   \n",
       "1  1.250010e+18  My tribute for today. Congratulations on  exec...   \n",
       "2  1.250010e+18  RT @Brevesdepresse: ⚡🇲🇫FLASH - Considérés comm...   \n",
       "3  1.250010e+18  Ok @opodo I'm now at the end of my tether. Had...   \n",
       "4  1.250010e+18  RT @PresidenciaSV: Este es el Decreto Ejecutiv...   \n",
       "\n",
       "         user_name                      created_at          location  \\\n",
       "0  ChrisJGodlewski  Tue Apr 14 10:53:12 +0000 2020    Alsace, France   \n",
       "1       bearhugz25  Tue Apr 14 10:53:12 +0000 2020       Philippines   \n",
       "2         Reazy92i  Tue Apr 14 10:53:12 +0000 2020  Poitiers, France   \n",
       "3    Lesley_Allen_  Tue Apr 14 10:53:12 +0000 2020    Bangor Co Down   \n",
       "4          tecmel1  Tue Apr 14 10:53:12 +0000 2020       el salvador   \n",
       "\n",
       "       Country  timestamp_ms  quote_count  reply_count  retweet_count  \\\n",
       "0       France  1.586860e+12            0            0              0   \n",
       "1  Philippines  1.586860e+12            0            0              0   \n",
       "2       France  1.586860e+12            0            0              0   \n",
       "3   Bangladesh  1.586860e+12            0            0              0   \n",
       "4  El Salvador  1.586860e+12            0            0              0   \n",
       "\n",
       "   favorite_count    hashtags  \n",
       "0               0     COVID19  \n",
       "1               0         NaN  \n",
       "2               0  infirmiers  \n",
       "3               0         NaN  \n",
       "4               0         NaN  "
      ]
     },
     "execution_count": 3,
     "metadata": {},
     "output_type": "execute_result"
    }
   ],
   "source": [
    "data.head()"
   ]
  },
  {
   "cell_type": "code",
   "execution_count": 4,
   "metadata": {},
   "outputs": [
    {
     "data": {
      "text/html": [
       "<div>\n",
       "<style scoped>\n",
       "    .dataframe tbody tr th:only-of-type {\n",
       "        vertical-align: middle;\n",
       "    }\n",
       "\n",
       "    .dataframe tbody tr th {\n",
       "        vertical-align: top;\n",
       "    }\n",
       "\n",
       "    .dataframe thead th {\n",
       "        text-align: right;\n",
       "    }\n",
       "</style>\n",
       "<table border=\"1\" class=\"dataframe\">\n",
       "  <thead>\n",
       "    <tr style=\"text-align: right;\">\n",
       "      <th></th>\n",
       "      <th>tweet_id</th>\n",
       "      <th>timestamp_ms</th>\n",
       "      <th>quote_count</th>\n",
       "      <th>reply_count</th>\n",
       "      <th>retweet_count</th>\n",
       "      <th>favorite_count</th>\n",
       "    </tr>\n",
       "  </thead>\n",
       "  <tbody>\n",
       "    <tr>\n",
       "      <th>count</th>\n",
       "      <td>6.520000e+02</td>\n",
       "      <td>6.520000e+02</td>\n",
       "      <td>652.0</td>\n",
       "      <td>652.0</td>\n",
       "      <td>652.0</td>\n",
       "      <td>652.0</td>\n",
       "    </tr>\n",
       "    <tr>\n",
       "      <th>mean</th>\n",
       "      <td>1.250010e+18</td>\n",
       "      <td>1.586860e+12</td>\n",
       "      <td>0.0</td>\n",
       "      <td>0.0</td>\n",
       "      <td>0.0</td>\n",
       "      <td>0.0</td>\n",
       "    </tr>\n",
       "    <tr>\n",
       "      <th>std</th>\n",
       "      <td>1.332222e+04</td>\n",
       "      <td>0.000000e+00</td>\n",
       "      <td>0.0</td>\n",
       "      <td>0.0</td>\n",
       "      <td>0.0</td>\n",
       "      <td>0.0</td>\n",
       "    </tr>\n",
       "    <tr>\n",
       "      <th>min</th>\n",
       "      <td>1.250010e+18</td>\n",
       "      <td>1.586860e+12</td>\n",
       "      <td>0.0</td>\n",
       "      <td>0.0</td>\n",
       "      <td>0.0</td>\n",
       "      <td>0.0</td>\n",
       "    </tr>\n",
       "    <tr>\n",
       "      <th>25%</th>\n",
       "      <td>1.250010e+18</td>\n",
       "      <td>1.586860e+12</td>\n",
       "      <td>0.0</td>\n",
       "      <td>0.0</td>\n",
       "      <td>0.0</td>\n",
       "      <td>0.0</td>\n",
       "    </tr>\n",
       "    <tr>\n",
       "      <th>50%</th>\n",
       "      <td>1.250010e+18</td>\n",
       "      <td>1.586860e+12</td>\n",
       "      <td>0.0</td>\n",
       "      <td>0.0</td>\n",
       "      <td>0.0</td>\n",
       "      <td>0.0</td>\n",
       "    </tr>\n",
       "    <tr>\n",
       "      <th>75%</th>\n",
       "      <td>1.250010e+18</td>\n",
       "      <td>1.586860e+12</td>\n",
       "      <td>0.0</td>\n",
       "      <td>0.0</td>\n",
       "      <td>0.0</td>\n",
       "      <td>0.0</td>\n",
       "    </tr>\n",
       "    <tr>\n",
       "      <th>max</th>\n",
       "      <td>1.250010e+18</td>\n",
       "      <td>1.586860e+12</td>\n",
       "      <td>0.0</td>\n",
       "      <td>0.0</td>\n",
       "      <td>0.0</td>\n",
       "      <td>0.0</td>\n",
       "    </tr>\n",
       "  </tbody>\n",
       "</table>\n",
       "</div>"
      ],
      "text/plain": [
       "           tweet_id  timestamp_ms  quote_count  reply_count  retweet_count  \\\n",
       "count  6.520000e+02  6.520000e+02        652.0        652.0          652.0   \n",
       "mean   1.250010e+18  1.586860e+12          0.0          0.0            0.0   \n",
       "std    1.332222e+04  0.000000e+00          0.0          0.0            0.0   \n",
       "min    1.250010e+18  1.586860e+12          0.0          0.0            0.0   \n",
       "25%    1.250010e+18  1.586860e+12          0.0          0.0            0.0   \n",
       "50%    1.250010e+18  1.586860e+12          0.0          0.0            0.0   \n",
       "75%    1.250010e+18  1.586860e+12          0.0          0.0            0.0   \n",
       "max    1.250010e+18  1.586860e+12          0.0          0.0            0.0   \n",
       "\n",
       "       favorite_count  \n",
       "count           652.0  \n",
       "mean              0.0  \n",
       "std               0.0  \n",
       "min               0.0  \n",
       "25%               0.0  \n",
       "50%               0.0  \n",
       "75%               0.0  \n",
       "max               0.0  "
      ]
     },
     "execution_count": 4,
     "metadata": {},
     "output_type": "execute_result"
    }
   ],
   "source": [
    "data.describe()"
   ]
  },
  {
   "cell_type": "code",
   "execution_count": 5,
   "metadata": {},
   "outputs": [
    {
     "name": "stdout",
     "output_type": "stream",
     "text": [
      "<class 'pandas.core.frame.DataFrame'>\n",
      "RangeIndex: 652 entries, 0 to 651\n",
      "Data columns (total 12 columns):\n",
      " #   Column          Non-Null Count  Dtype  \n",
      "---  ------          --------------  -----  \n",
      " 0   tweet_id        652 non-null    float64\n",
      " 1   text            652 non-null    object \n",
      " 2   user_name       652 non-null    object \n",
      " 3   created_at      652 non-null    object \n",
      " 4   location        652 non-null    object \n",
      " 5   Country         647 non-null    object \n",
      " 6   timestamp_ms    652 non-null    float64\n",
      " 7   quote_count     652 non-null    int64  \n",
      " 8   reply_count     652 non-null    int64  \n",
      " 9   retweet_count   652 non-null    int64  \n",
      " 10  favorite_count  652 non-null    int64  \n",
      " 11  hashtags        336 non-null    object \n",
      "dtypes: float64(2), int64(4), object(6)\n",
      "memory usage: 61.2+ KB\n"
     ]
    }
   ],
   "source": [
    "data.info()"
   ]
  },
  {
   "cell_type": "markdown",
   "metadata": {},
   "source": [
    "## Drop the null values"
   ]
  },
  {
   "cell_type": "code",
   "execution_count": 6,
   "metadata": {},
   "outputs": [],
   "source": [
    "data.dropna(inplace=True)"
   ]
  },
  {
   "cell_type": "code",
   "execution_count": 7,
   "metadata": {},
   "outputs": [
    {
     "name": "stdout",
     "output_type": "stream",
     "text": [
      "<class 'pandas.core.frame.DataFrame'>\n",
      "Int64Index: 334 entries, 0 to 651\n",
      "Data columns (total 12 columns):\n",
      " #   Column          Non-Null Count  Dtype  \n",
      "---  ------          --------------  -----  \n",
      " 0   tweet_id        334 non-null    float64\n",
      " 1   text            334 non-null    object \n",
      " 2   user_name       334 non-null    object \n",
      " 3   created_at      334 non-null    object \n",
      " 4   location        334 non-null    object \n",
      " 5   Country         334 non-null    object \n",
      " 6   timestamp_ms    334 non-null    float64\n",
      " 7   quote_count     334 non-null    int64  \n",
      " 8   reply_count     334 non-null    int64  \n",
      " 9   retweet_count   334 non-null    int64  \n",
      " 10  favorite_count  334 non-null    int64  \n",
      " 11  hashtags        334 non-null    object \n",
      "dtypes: float64(2), int64(4), object(6)\n",
      "memory usage: 33.9+ KB\n"
     ]
    }
   ],
   "source": [
    "data.info()"
   ]
  },
  {
   "cell_type": "code",
   "execution_count": 8,
   "metadata": {
    "scrolled": true
   },
   "outputs": [
    {
     "data": {
      "text/html": [
       "<div>\n",
       "<style scoped>\n",
       "    .dataframe tbody tr th:only-of-type {\n",
       "        vertical-align: middle;\n",
       "    }\n",
       "\n",
       "    .dataframe tbody tr th {\n",
       "        vertical-align: top;\n",
       "    }\n",
       "\n",
       "    .dataframe thead th {\n",
       "        text-align: right;\n",
       "    }\n",
       "</style>\n",
       "<table border=\"1\" class=\"dataframe\">\n",
       "  <thead>\n",
       "    <tr style=\"text-align: right;\">\n",
       "      <th></th>\n",
       "      <th>text</th>\n",
       "      <th>user_name</th>\n",
       "      <th>created_at</th>\n",
       "      <th>location</th>\n",
       "      <th>Country</th>\n",
       "      <th>hashtags</th>\n",
       "    </tr>\n",
       "  </thead>\n",
       "  <tbody>\n",
       "    <tr>\n",
       "      <th>count</th>\n",
       "      <td>334</td>\n",
       "      <td>334</td>\n",
       "      <td>334</td>\n",
       "      <td>334</td>\n",
       "      <td>334</td>\n",
       "      <td>334</td>\n",
       "    </tr>\n",
       "    <tr>\n",
       "      <th>unique</th>\n",
       "      <td>295</td>\n",
       "      <td>321</td>\n",
       "      <td>30</td>\n",
       "      <td>289</td>\n",
       "      <td>112</td>\n",
       "      <td>141</td>\n",
       "    </tr>\n",
       "    <tr>\n",
       "      <th>top</th>\n",
       "      <td>RT @Brevesdepresse: ⚡🇲🇫FLASH - Considérés comm...</td>\n",
       "      <td>siddhsingatiya</td>\n",
       "      <td>Tue Apr 14 10:53:21 +0000 2020</td>\n",
       "      <td>India</td>\n",
       "      <td>India</td>\n",
       "      <td>COVID19</td>\n",
       "    </tr>\n",
       "    <tr>\n",
       "      <th>freq</th>\n",
       "      <td>10</td>\n",
       "      <td>5</td>\n",
       "      <td>20</td>\n",
       "      <td>8</td>\n",
       "      <td>32</td>\n",
       "      <td>115</td>\n",
       "    </tr>\n",
       "  </tbody>\n",
       "</table>\n",
       "</div>"
      ],
      "text/plain": [
       "                                                     text       user_name  \\\n",
       "count                                                 334             334   \n",
       "unique                                                295             321   \n",
       "top     RT @Brevesdepresse: ⚡🇲🇫FLASH - Considérés comm...  siddhsingatiya   \n",
       "freq                                                   10               5   \n",
       "\n",
       "                            created_at location Country hashtags  \n",
       "count                              334      334     334      334  \n",
       "unique                              30      289     112      141  \n",
       "top     Tue Apr 14 10:53:21 +0000 2020    India   India  COVID19  \n",
       "freq                                20        8      32      115  "
      ]
     },
     "execution_count": 8,
     "metadata": {},
     "output_type": "execute_result"
    }
   ],
   "source": [
    "data.describe(include='O')"
   ]
  },
  {
   "cell_type": "markdown",
   "metadata": {},
   "source": [
    "# Show top  hastags for covid 19"
   ]
  },
  {
   "cell_type": "code",
   "execution_count": 9,
   "metadata": {},
   "outputs": [
    {
     "data": {
      "text/plain": [
       "India                32\n",
       "UK                   16\n",
       "France               12\n",
       "\\nSouth America\\n    11\n",
       "Madagascar            7\n",
       "                     ..\n",
       "Burundi               1\n",
       "World                 1\n",
       "Botswana              1\n",
       "Western Sahara        1\n",
       "Cyprus                1\n",
       "Name: Country, Length: 112, dtype: int64"
      ]
     },
     "execution_count": 9,
     "metadata": {},
     "output_type": "execute_result"
    }
   ],
   "source": [
    "data['Country'].value_counts()"
   ]
  },
  {
   "cell_type": "markdown",
   "metadata": {},
   "source": [
    "### Popular hashtag in UK"
   ]
  },
  {
   "cell_type": "code",
   "execution_count": 10,
   "metadata": {},
   "outputs": [],
   "source": [
    "data_India=data[data['Country']=='UK']\n",
    "top_has_tag=data_India['hashtags'].value_counts().sort_values(ascending=False)[0:5]\n",
    "data_hastag=pd.DataFrame(data=top_has_tag.values,index=top_has_tag.index,columns=['hashtag'])\n"
   ]
  },
  {
   "cell_type": "code",
   "execution_count": 11,
   "metadata": {},
   "outputs": [
    {
     "data": {
      "image/png": "[encoded data removed]",
      "text/plain": [
       "<Figure size 432x288 with 1 Axes>"
      ]
     },
     "metadata": {
      "needs_background": "light"
     },
     "output_type": "display_data"
    }
   ],
   "source": [
    "data_hastag.plot(kind='bar')\n",
    "plt.title('Top 5 popular hashtag in UK')\n",
    "plt.show()\n"
   ]
  },
  {
   "cell_type": "raw",
   "metadata": {},
   "source": [
    "We can see that most popular hashtags in UK are COVID19,covid19,lockdown,panicbuying,remotework.\n",
    "These are tags people should start following in hashtag in UK"
   ]
  },
  {
   "cell_type": "code",
   "execution_count": 12,
   "metadata": {},
   "outputs": [],
   "source": [
    "## Top 5 popular hashtag In India"
   ]
  },
  {
   "cell_type": "code",
   "execution_count": 13,
   "metadata": {},
   "outputs": [],
   "source": [
    "data_India=data[data['Country']=='India']"
   ]
  },
  {
   "cell_type": "code",
   "execution_count": 14,
   "metadata": {},
   "outputs": [],
   "source": [
    "top_has_tag=data_India['hashtags'].value_counts().sort_values(ascending=False)[0:5]"
   ]
  },
  {
   "cell_type": "code",
   "execution_count": 15,
   "metadata": {},
   "outputs": [
    {
     "data": {
      "text/plain": [
       "array([6, 3, 3, 1, 1])"
      ]
     },
     "execution_count": 15,
     "metadata": {},
     "output_type": "execute_result"
    }
   ],
   "source": [
    "top_has_tag.values"
   ]
  },
  {
   "cell_type": "code",
   "execution_count": 16,
   "metadata": {},
   "outputs": [],
   "source": [
    "data_hastag=pd.DataFrame(data=top_has_tag.values,index=top_has_tag.index,columns=['hashtag'])"
   ]
  },
  {
   "cell_type": "code",
   "execution_count": 17,
   "metadata": {},
   "outputs": [
    {
     "data": {
      "text/html": [
       "<div>\n",
       "<style scoped>\n",
       "    .dataframe tbody tr th:only-of-type {\n",
       "        vertical-align: middle;\n",
       "    }\n",
       "\n",
       "    .dataframe tbody tr th {\n",
       "        vertical-align: top;\n",
       "    }\n",
       "\n",
       "    .dataframe thead th {\n",
       "        text-align: right;\n",
       "    }\n",
       "</style>\n",
       "<table border=\"1\" class=\"dataframe\">\n",
       "  <thead>\n",
       "    <tr style=\"text-align: right;\">\n",
       "      <th></th>\n",
       "      <th>hashtag</th>\n",
       "    </tr>\n",
       "  </thead>\n",
       "  <tbody>\n",
       "    <tr>\n",
       "      <th>COVID19</th>\n",
       "      <td>6</td>\n",
       "    </tr>\n",
       "    <tr>\n",
       "      <th>Lockdown</th>\n",
       "      <td>3</td>\n",
       "    </tr>\n",
       "    <tr>\n",
       "      <th>Covid19</th>\n",
       "      <td>3</td>\n",
       "    </tr>\n",
       "    <tr>\n",
       "      <th>tax</th>\n",
       "      <td>1</td>\n",
       "    </tr>\n",
       "    <tr>\n",
       "      <th>Robots</th>\n",
       "      <td>1</td>\n",
       "    </tr>\n",
       "  </tbody>\n",
       "</table>\n",
       "</div>"
      ],
      "text/plain": [
       "          hashtag\n",
       "COVID19         6\n",
       "Lockdown        3\n",
       "Covid19         3\n",
       "tax             1\n",
       "Robots          1"
      ]
     },
     "execution_count": 17,
     "metadata": {},
     "output_type": "execute_result"
    }
   ],
   "source": [
    "data_hastag.head()"
   ]
  },
  {
   "cell_type": "code",
   "execution_count": 18,
   "metadata": {},
   "outputs": [
    {
     "data": {
      "image/png": "[encoded data removed]",
      "text/plain": [
       "<Figure size 432x288 with 1 Axes>"
      ]
     },
     "metadata": {
      "needs_background": "light"
     },
     "output_type": "display_data"
    }
   ],
   "source": [
    "data_hastag.plot(kind='bar')\n",
    "plt.title('Top 5 popular hashtag in India')\n",
    "plt.show()\n"
   ]
  },
  {
   "cell_type": "raw",
   "metadata": {},
   "source": [
    "We can see that most popular hashtags in India are COVID19,Lockdown,Covid19,tax,Robots\n",
    "These are tags people should start following in hashtag in India"
   ]
  },
  {
   "cell_type": "code",
   "execution_count": null,
   "metadata": {},
   "outputs": [],
   "source": []
  },
  {
   "cell_type": "code",
   "execution_count": null,
   "metadata": {},
   "outputs": [],
   "source": []
  },
  {
   "cell_type": "code",
   "execution_count": null,
   "metadata": {},
   "outputs": [],
   "source": []
  },
  {
   "cell_type": "code",
   "execution_count": null,
   "metadata": {},
   "outputs": [],
   "source": []
  }
 ],
 "metadata": {
  "kernelspec": {
   "display_name": "Python 3",
   "language": "python",
   "name": "python3"
  },
  "language_info": {
   "codemirror_mode": {
    "name": "ipython",
    "version": 3
   },
   "file_extension": ".py",
   "mimetype": "text/x-python",
   "name": "python",
   "nbconvert_exporter": "python",
   "pygments_lexer": "ipython3",
   "version": "3.7.6"
  }
 },
 "nbformat": 4,
 "nbformat_minor": 4
}
